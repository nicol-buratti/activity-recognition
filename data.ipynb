{
 "cells": [
  {
   "cell_type": "code",
   "execution_count": 1,
   "metadata": {},
   "outputs": [
    {
     "name": "stdout",
     "output_type": "stream",
     "text": [
      "No GPU available. Training will run on CPU.\n"
     ]
    }
   ],
   "source": [
    "import torch\n",
    "if torch.cuda.is_available():\n",
    "    print(f\"GPU: {torch.cuda.get_device_name(0)} is available.\")\n",
    "else:\n",
    "    print(\"No GPU available. Training will run on CPU.\")"
   ]
  },
  {
   "cell_type": "code",
   "execution_count": 2,
   "metadata": {},
   "outputs": [],
   "source": [
    "import os\n",
    "import xml.etree.ElementTree as ET\n",
    "from PIL import Image\n",
    "from torch.utils.data import Dataset\n",
    "import torchvision.transforms as T\n",
    "import torch\n",
    "\n",
    "\n",
    "class RobotDataset(Dataset):\n",
    "    def __init__(self, images_dir, xml_dir, transform=None):\n",
    "        self.images_dir = images_dir\n",
    "        self.xml_dir = xml_dir\n",
    "        self.transform = transform\n",
    "        self.image_files = [\n",
    "            f for f in os.listdir(images_dir) if f.endswith((\".jpg\", \".png\", \".jpeg\"))\n",
    "        ]\n",
    "\n",
    "    def parse_xml(self, xml_path):\n",
    "        tree = ET.parse(xml_path)\n",
    "        root = tree.getroot()\n",
    "        boxes = []\n",
    "        labels = []\n",
    "\n",
    "        for obj in root.findall(\"object\"):\n",
    "            label = obj.find(\"pose\").text + \"_\" + obj.find(\"name\").text\n",
    "            bbox = obj.find(\"bndbox\")\n",
    "            xmin = int(bbox.find(\"xmin\").text)\n",
    "            ymin = int(bbox.find(\"ymin\").text)\n",
    "            xmax = int(bbox.find(\"xmax\").text)\n",
    "            ymax = int(bbox.find(\"ymax\").text)\n",
    "            boxes.append([xmin, ymin, xmax, ymax])\n",
    "            labels.append(label)\n",
    "\n",
    "        return {\"boxes\": boxes, \"labels\": labels}\n",
    "\n",
    "    def __len__(self):\n",
    "        return len(self.image_files)\n",
    "\n",
    "    def __getitem__(self, idx):\n",
    "        # Load image\n",
    "        image_filename = self.image_files[idx]\n",
    "        image_path = os.path.join(self.images_dir, image_filename)\n",
    "        image = Image.open(image_path).convert(\"RGB\")\n",
    "\n",
    "        # Load and parse XML annotation\n",
    "        xml_filename = os.path.splitext(image_filename)[0] + \".xml\"\n",
    "        xml_path = os.path.join(self.xml_dir, xml_filename)\n",
    "        annotations = self.parse_xml(xml_path)\n",
    "\n",
    "        if self.transform:\n",
    "            image = self.transform(image)\n",
    "\n",
    "        # Convert annotations to tensor-compatible format if necessary\n",
    "        boxes = annotations[\"boxes\"]\n",
    "        labels = annotations[\"labels\"]\n",
    "\n",
    "        # Return a dictionary with the image and annotations\n",
    "        return {\n",
    "            \"image\": image,\n",
    "            \"boxes\": boxes,\n",
    "            \"labels\": labels,\n",
    "        }"
   ]
  },
  {
   "cell_type": "code",
   "execution_count": 3,
   "metadata": {},
   "outputs": [],
   "source": [
    "from pathlib import Path\n",
    "\n",
    "images_path = Path(\"ATLAS_Dione_ObjectDetection/JPEGImages\")\n",
    "xml_path = Path(\"ATLAS_Dione_ObjectDetection/Annotations\")\n",
    "transform = T.Compose([\n",
    "    T.Resize((224, 224)),\n",
    "    T.ToTensor()\n",
    "])\n",
    "dataset = RobotDataset(images_dir = images_path, xml_dir=xml_path, transform=transform)"
   ]
  },
  {
   "cell_type": "code",
   "execution_count": 4,
   "metadata": {},
   "outputs": [],
   "source": [
    "from torch.utils.data import DataLoader\n",
    "\n",
    "\n",
    "# This function avoids error when loading a batch with different sized labels lists\n",
    "def collate_fn(batch):\n",
    "    images = [item[\"image\"] for item in batch]\n",
    "    boxes = [item[\"boxes\"] for item in batch]\n",
    "    labels = [item[\"labels\"] for item in batch]\n",
    "\n",
    "    images = torch.stack(images, dim=0)\n",
    "\n",
    "    return {\"image\": images, \"boxes\": boxes, \"labels\": labels}\n",
    "\n",
    "\n",
    "# Define the DataLoader with the custom collate_fn\n",
    "data_loader = DataLoader(dataset, batch_size=8, shuffle=True, collate_fn=collate_fn)"
   ]
  },
  {
   "cell_type": "code",
   "execution_count": 5,
   "metadata": {},
   "outputs": [],
   "source": [
    "train_dataset, test_dataset = torch.utils.data.random_split(dataset, [0.8, 0.2])"
   ]
  },
  {
   "cell_type": "code",
   "execution_count": null,
   "metadata": {},
   "outputs": [],
   "source": []
  }
 ],
 "metadata": {
  "kernelspec": {
   "display_name": "csd_venv",
   "language": "python",
   "name": "python3"
  },
  "language_info": {
   "codemirror_mode": {
    "name": "ipython",
    "version": 3
   },
   "file_extension": ".py",
   "mimetype": "text/x-python",
   "name": "python",
   "nbconvert_exporter": "python",
   "pygments_lexer": "ipython3",
   "version": "3.12.7"
  }
 },
 "nbformat": 4,
 "nbformat_minor": 2
}
