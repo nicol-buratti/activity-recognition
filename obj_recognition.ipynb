{
 "cells": [
  {
   "cell_type": "code",
   "execution_count": null,
   "metadata": {
    "vscode": {
     "languageId": "plaintext"
    }
   },
   "outputs": [],
   "source": [
    "from ultralytics import YOLO\n",
    "\n",
    "# Carica un modello pre-addestrato (YOLOv8n, YOLOv8s, ecc.)\n",
    "model = YOLO('yolov8n.pt')  # Usa il modello più piccolo per iniziare (yolov8n)\n",
    "\n",
    "# Avvia il training\n",
    "model.train(\n",
    "    data='./setup.yaml',  # Percorso al file YAML del dataset\n",
    "    epochs=50,                             # Numero di epoche\n",
    "    imgsz=480,                             # Dimensione delle immagini\n",
    "    batch=16,                              # Dimensione del batch\n",
    "    workers=4,                             # Numero di worker\n",
    "    device='cpu',                            # '0' per GPU, 'cpu' per CPU\n",
    "    name='custom_yolo'                     # Nome del progetto\n",
    ")"
   ]
  }
 ],
 "metadata": {
  "language_info": {
   "name": "python"
  }
 },
 "nbformat": 4,
 "nbformat_minor": 2
}
