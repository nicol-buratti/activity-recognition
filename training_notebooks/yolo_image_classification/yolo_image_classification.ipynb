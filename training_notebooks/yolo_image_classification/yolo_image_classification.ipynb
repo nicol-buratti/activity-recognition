{
 "cells": [
  {
   "cell_type": "code",
   "execution_count": 16,
   "metadata": {},
   "outputs": [],
   "source": [
    "from ultralytics import YOLO\n",
    "from pathlib import Path\n",
    "YOLO_DATASET_ROOT = \"C:/Users/Informatica_UNICAM/Desktop/csd/activity-recognition/YOLO_dataset_classification/data.yaml\""
   ]
  },
  {
   "cell_type": "code",
   "execution_count": 18,
   "metadata": {},
   "outputs": [
    {
     "name": "stdout",
     "output_type": "stream",
     "text": [
      "Downloading https://github.com/ultralytics/assets/releases/download/v8.3.0/yolo11x-cls.pt to 'yolo11x-cls.pt'...\n"
     ]
    },
    {
     "name": "stderr",
     "output_type": "stream",
     "text": [
      "100%|██████████| 56.9M/56.9M [00:02<00:00, 28.7MB/s]"
     ]
    },
    {
     "name": "stdout",
     "output_type": "stream",
     "text": [
      "Ultralytics 8.3.40  Python-3.10.11 torch-2.5.1+cu124 CUDA:0 (NVIDIA GeForce RTX 4090, 24564MiB)\n"
     ]
    },
    {
     "name": "stderr",
     "output_type": "stream",
     "text": [
      "\n"
     ]
    },
    {
     "name": "stdout",
     "output_type": "stream",
     "text": [
      "\u001b[34m\u001b[1mengine\\trainer: \u001b[0mtask=classify, mode=train, model=yolo11x-cls.pt, data=C:/Users/Informatica_UNICAM/Desktop/csd/activity-recognition/YOLO_dataset_classification/, epochs=100, time=None, patience=100, batch=64, imgsz=224, save=True, save_period=-1, cache=False, device=0, workers=4, project=None, name=custom_yolo7, exist_ok=False, pretrained=True, optimizer=auto, verbose=True, seed=0, deterministic=True, single_cls=False, rect=False, cos_lr=False, close_mosaic=10, resume=False, amp=True, fraction=1.0, profile=False, freeze=None, multi_scale=False, overlap_mask=True, mask_ratio=4, dropout=0.0, val=True, split=val, save_json=False, save_hybrid=False, conf=None, iou=0.7, max_det=300, half=False, dnn=False, plots=True, source=None, vid_stride=1, stream_buffer=False, visualize=False, augment=False, agnostic_nms=False, classes=None, retina_masks=False, embed=None, show=False, save_frames=False, save_txt=False, save_conf=False, save_crop=False, show_labels=True, show_conf=True, show_boxes=True, line_width=None, format=torchscript, keras=False, optimize=False, int8=False, dynamic=False, simplify=True, opset=None, workspace=None, nms=False, lr0=0.01, lrf=0.01, momentum=0.937, weight_decay=0.0005, warmup_epochs=3.0, warmup_momentum=0.8, warmup_bias_lr=0.1, box=7.5, cls=0.5, dfl=1.5, pose=12.0, kobj=1.0, nbs=64, hsv_h=0.015, hsv_s=0.7, hsv_v=0.4, degrees=0.0, translate=0.1, scale=0.5, shear=0.0, perspective=0.0, flipud=0.0, fliplr=0.5, bgr=0.0, mosaic=1.0, mixup=0.0, copy_paste=0.0, copy_paste_mode=flip, auto_augment=randaugment, erasing=0.4, crop_fraction=1.0, cfg=None, tracker=botsort.yaml, save_dir=C:\\Users\\Informatica_UNICAM\\Desktop\\csd\\activity-recognition\\runs\\classify\\custom_yolo7\n",
      "\u001b[34m\u001b[1mtrain:\u001b[0m C:\\Users\\Informatica_UNICAM\\Desktop\\csd\\activity-recognition\\YOLO_dataset_classification\\train... found 14247 images in 12 classes  \n",
      "\u001b[34m\u001b[1mval:\u001b[0m C:\\Users\\Informatica_UNICAM\\Desktop\\csd\\activity-recognition\\YOLO_dataset_classification\\val... found 2295 images in 12 classes  \n",
      "\u001b[34m\u001b[1mtest:\u001b[0m C:\\Users\\Informatica_UNICAM\\Desktop\\csd\\activity-recognition\\YOLO_dataset_classification\\test... found 2341 images in 12 classes  \n",
      "Overriding model.yaml nc=80 with nc=12\n",
      "\n",
      "                   from  n    params  module                                       arguments                     \n",
      "  0                  -1  1      2784  ultralytics.nn.modules.conv.Conv             [3, 96, 3, 2]                 \n",
      "  1                  -1  1    166272  ultralytics.nn.modules.conv.Conv             [96, 192, 3, 2]               \n",
      "  2                  -1  2    389760  ultralytics.nn.modules.block.C3k2            [192, 384, 2, True, 0.25]     \n",
      "  3                  -1  1   1327872  ultralytics.nn.modules.conv.Conv             [384, 384, 3, 2]              \n",
      "  4                  -1  2   1553664  ultralytics.nn.modules.block.C3k2            [384, 768, 2, True, 0.25]     \n",
      "  5                  -1  1   5309952  ultralytics.nn.modules.conv.Conv             [768, 768, 3, 2]              \n",
      "  6                  -1  2   5022720  ultralytics.nn.modules.block.C3k2            [768, 768, 2, True]           \n",
      "  7                  -1  1   5309952  ultralytics.nn.modules.conv.Conv             [768, 768, 3, 2]              \n",
      "  8                  -1  2   5022720  ultralytics.nn.modules.block.C3k2            [768, 768, 2, True]           \n",
      "  9                  -1  2   3264768  ultralytics.nn.modules.block.C2PSA           [768, 768, 2]                 \n",
      " 10                  -1  1   1000972  ultralytics.nn.modules.head.Classify         [768, 12]                     \n",
      "YOLO11x-cls summary: 309 layers, 28,371,436 parameters, 28,371,436 gradients, 111.0 GFLOPs\n",
      "Transferred 492/494 items from pretrained weights\n",
      "\u001b[34m\u001b[1mAMP: \u001b[0mrunning Automatic Mixed Precision (AMP) checks...\n",
      "\u001b[34m\u001b[1mAMP: \u001b[0mchecks passed \n"
     ]
    },
    {
     "name": "stderr",
     "output_type": "stream",
     "text": [
      "\u001b[34m\u001b[1mtrain: \u001b[0mScanning C:\\Users\\Informatica_UNICAM\\Desktop\\csd\\activity-recognition\\YOLO_dataset_classification\\train... 14247 images, 0 corrupt: 100%|██████████| 14247/14247 [00:00<?, ?it/s]\n",
      "\u001b[34m\u001b[1mval: \u001b[0mScanning C:\\Users\\Informatica_UNICAM\\Desktop\\csd\\activity-recognition\\YOLO_dataset_classification\\val... 2295 images, 0 corrupt: 100%|██████████| 2295/2295 [00:00<?, ?it/s]\n"
     ]
    },
    {
     "name": "stdout",
     "output_type": "stream",
     "text": [
      "\u001b[34m\u001b[1moptimizer:\u001b[0m 'optimizer=auto' found, ignoring 'lr0=0.01' and 'momentum=0.937' and determining best 'optimizer', 'lr0' and 'momentum' automatically... \n",
      "\u001b[34m\u001b[1moptimizer:\u001b[0m SGD(lr=0.01, momentum=0.9) with parameter groups 82 weight(decay=0.0), 83 weight(decay=0.0005), 83 bias(decay=0.0)\n",
      "Image sizes 224 train, 224 val\n",
      "Using 4 dataloader workers\n",
      "Logging results to \u001b[1mC:\\Users\\Informatica_UNICAM\\Desktop\\csd\\activity-recognition\\runs\\classify\\custom_yolo7\u001b[0m\n",
      "Starting training for 100 epochs...\n",
      "\n",
      "      Epoch    GPU_mem       loss  Instances       Size\n"
     ]
    },
    {
     "name": "stderr",
     "output_type": "stream",
     "text": [
      "      1/100      7.35G       1.01         39        224: 100%|██████████| 223/223 [00:20<00:00, 10.81it/s]\n",
      "               classes   top1_acc   top5_acc: 100%|██████████| 18/18 [00:01<00:00, 11.23it/s]"
     ]
    },
    {
     "name": "stdout",
     "output_type": "stream",
     "text": [
      "                   all      0.531          1\n"
     ]
    },
    {
     "name": "stderr",
     "output_type": "stream",
     "text": [
      "\n"
     ]
    },
    {
     "name": "stdout",
     "output_type": "stream",
     "text": [
      "\n",
      "      Epoch    GPU_mem       loss  Instances       Size\n"
     ]
    },
    {
     "name": "stderr",
     "output_type": "stream",
     "text": [
      "      2/100      7.46G     0.1125         39        224: 100%|██████████| 223/223 [00:18<00:00, 11.94it/s]\n",
      "               classes   top1_acc   top5_acc: 100%|██████████| 18/18 [00:01<00:00, 10.96it/s]"
     ]
    },
    {
     "name": "stdout",
     "output_type": "stream",
     "text": [
      "                   all       0.55          1\n"
     ]
    },
    {
     "name": "stderr",
     "output_type": "stream",
     "text": [
      "\n"
     ]
    },
    {
     "name": "stdout",
     "output_type": "stream",
     "text": [
      "\n",
      "      Epoch    GPU_mem       loss  Instances       Size\n"
     ]
    },
    {
     "name": "stderr",
     "output_type": "stream",
     "text": [
      "      3/100      7.46G    0.06248         39        224: 100%|██████████| 223/223 [00:18<00:00, 12.12it/s]\n",
      "               classes   top1_acc   top5_acc: 100%|██████████| 18/18 [00:01<00:00, 11.35it/s]"
     ]
    },
    {
     "name": "stdout",
     "output_type": "stream",
     "text": [
      "                   all      0.466          1\n"
     ]
    },
    {
     "name": "stderr",
     "output_type": "stream",
     "text": [
      "\n"
     ]
    },
    {
     "name": "stdout",
     "output_type": "stream",
     "text": [
      "\n",
      "      Epoch    GPU_mem       loss  Instances       Size\n"
     ]
    },
    {
     "name": "stderr",
     "output_type": "stream",
     "text": [
      "      4/100      7.46G    0.08489         39        224: 100%|██████████| 223/223 [00:18<00:00, 12.16it/s]\n",
      "               classes   top1_acc   top5_acc: 100%|██████████| 18/18 [00:01<00:00, 11.38it/s]"
     ]
    },
    {
     "name": "stdout",
     "output_type": "stream",
     "text": [
      "                   all      0.547      0.998\n"
     ]
    },
    {
     "name": "stderr",
     "output_type": "stream",
     "text": [
      "\n"
     ]
    },
    {
     "name": "stdout",
     "output_type": "stream",
     "text": [
      "\n",
      "      Epoch    GPU_mem       loss  Instances       Size\n"
     ]
    },
    {
     "name": "stderr",
     "output_type": "stream",
     "text": [
      "      5/100      7.46G    0.05285         39        224: 100%|██████████| 223/223 [00:18<00:00, 12.14it/s]\n",
      "               classes   top1_acc   top5_acc: 100%|██████████| 18/18 [00:01<00:00, 11.33it/s]"
     ]
    },
    {
     "name": "stdout",
     "output_type": "stream",
     "text": [
      "                   all       0.61      0.997\n"
     ]
    },
    {
     "name": "stderr",
     "output_type": "stream",
     "text": [
      "\n"
     ]
    },
    {
     "name": "stdout",
     "output_type": "stream",
     "text": [
      "\n",
      "      Epoch    GPU_mem       loss  Instances       Size\n"
     ]
    },
    {
     "name": "stderr",
     "output_type": "stream",
     "text": [
      "      6/100      7.46G    0.03704         39        224: 100%|██████████| 223/223 [00:18<00:00, 12.09it/s]\n",
      "               classes   top1_acc   top5_acc: 100%|██████████| 18/18 [00:01<00:00, 11.25it/s]"
     ]
    },
    {
     "name": "stdout",
     "output_type": "stream",
     "text": [
      "                   all      0.597      0.971\n"
     ]
    },
    {
     "name": "stderr",
     "output_type": "stream",
     "text": [
      "\n"
     ]
    },
    {
     "name": "stdout",
     "output_type": "stream",
     "text": [
      "\n",
      "      Epoch    GPU_mem       loss  Instances       Size\n"
     ]
    },
    {
     "name": "stderr",
     "output_type": "stream",
     "text": [
      "      7/100      7.46G    0.03646         39        224: 100%|██████████| 223/223 [00:18<00:00, 12.09it/s]\n",
      "               classes   top1_acc   top5_acc: 100%|██████████| 18/18 [00:01<00:00, 11.36it/s]"
     ]
    },
    {
     "name": "stdout",
     "output_type": "stream",
     "text": [
      "                   all       0.53      0.991\n"
     ]
    },
    {
     "name": "stderr",
     "output_type": "stream",
     "text": [
      "\n"
     ]
    },
    {
     "name": "stdout",
     "output_type": "stream",
     "text": [
      "\n",
      "      Epoch    GPU_mem       loss  Instances       Size\n"
     ]
    },
    {
     "name": "stderr",
     "output_type": "stream",
     "text": [
      "      8/100      7.46G     0.0274         39        224: 100%|██████████| 223/223 [00:18<00:00, 11.96it/s]\n",
      "               classes   top1_acc   top5_acc: 100%|██████████| 18/18 [00:01<00:00, 11.20it/s]"
     ]
    },
    {
     "name": "stdout",
     "output_type": "stream",
     "text": [
      "                   all      0.618      0.998\n"
     ]
    },
    {
     "name": "stderr",
     "output_type": "stream",
     "text": [
      "\n"
     ]
    },
    {
     "name": "stdout",
     "output_type": "stream",
     "text": [
      "\n",
      "      Epoch    GPU_mem       loss  Instances       Size\n"
     ]
    },
    {
     "name": "stderr",
     "output_type": "stream",
     "text": [
      "      9/100      7.46G    0.02244         39        224: 100%|██████████| 223/223 [00:18<00:00, 12.13it/s]\n",
      "               classes   top1_acc   top5_acc: 100%|██████████| 18/18 [00:01<00:00, 11.23it/s]"
     ]
    },
    {
     "name": "stdout",
     "output_type": "stream",
     "text": [
      "                   all      0.629      0.971\n"
     ]
    },
    {
     "name": "stderr",
     "output_type": "stream",
     "text": [
      "\n"
     ]
    },
    {
     "name": "stdout",
     "output_type": "stream",
     "text": [
      "\n",
      "      Epoch    GPU_mem       loss  Instances       Size\n"
     ]
    },
    {
     "name": "stderr",
     "output_type": "stream",
     "text": [
      "     10/100      7.46G     0.0223         39        224: 100%|██████████| 223/223 [00:18<00:00, 12.15it/s]\n",
      "               classes   top1_acc   top5_acc: 100%|██████████| 18/18 [00:01<00:00, 11.34it/s]"
     ]
    },
    {
     "name": "stdout",
     "output_type": "stream",
     "text": [
      "                   all      0.596      0.994\n"
     ]
    },
    {
     "name": "stderr",
     "output_type": "stream",
     "text": [
      "\n"
     ]
    },
    {
     "name": "stdout",
     "output_type": "stream",
     "text": [
      "\n",
      "      Epoch    GPU_mem       loss  Instances       Size\n"
     ]
    },
    {
     "name": "stderr",
     "output_type": "stream",
     "text": [
      "     11/100      7.46G     0.0201         39        224: 100%|██████████| 223/223 [00:18<00:00, 12.08it/s]\n",
      "               classes   top1_acc   top5_acc: 100%|██████████| 18/18 [00:01<00:00, 11.39it/s]"
     ]
    },
    {
     "name": "stdout",
     "output_type": "stream",
     "text": [
      "                   all      0.527      0.998\n"
     ]
    },
    {
     "name": "stderr",
     "output_type": "stream",
     "text": [
      "\n"
     ]
    },
    {
     "name": "stdout",
     "output_type": "stream",
     "text": [
      "\n",
      "      Epoch    GPU_mem       loss  Instances       Size\n"
     ]
    },
    {
     "name": "stderr",
     "output_type": "stream",
     "text": [
      "     12/100      7.46G    0.01706         39        224: 100%|██████████| 223/223 [00:18<00:00, 12.14it/s]\n",
      "               classes   top1_acc   top5_acc: 100%|██████████| 18/18 [00:01<00:00, 11.14it/s]"
     ]
    },
    {
     "name": "stdout",
     "output_type": "stream",
     "text": [
      "                   all      0.578      0.944\n"
     ]
    },
    {
     "name": "stderr",
     "output_type": "stream",
     "text": [
      "\n"
     ]
    },
    {
     "name": "stdout",
     "output_type": "stream",
     "text": [
      "\n",
      "      Epoch    GPU_mem       loss  Instances       Size\n"
     ]
    },
    {
     "name": "stderr",
     "output_type": "stream",
     "text": [
      "     13/100      7.46G    0.02033         39        224: 100%|██████████| 223/223 [00:18<00:00, 12.12it/s]\n",
      "               classes   top1_acc   top5_acc: 100%|██████████| 18/18 [00:01<00:00, 10.91it/s]"
     ]
    },
    {
     "name": "stdout",
     "output_type": "stream",
     "text": [
      "                   all      0.516      0.925\n"
     ]
    },
    {
     "name": "stderr",
     "output_type": "stream",
     "text": [
      "\n"
     ]
    },
    {
     "name": "stdout",
     "output_type": "stream",
     "text": [
      "\n",
      "      Epoch    GPU_mem       loss  Instances       Size\n"
     ]
    },
    {
     "name": "stderr",
     "output_type": "stream",
     "text": [
      "     14/100      7.46G    0.01935         39        224: 100%|██████████| 223/223 [00:18<00:00, 12.12it/s]\n",
      "               classes   top1_acc   top5_acc: 100%|██████████| 18/18 [00:01<00:00, 11.23it/s]"
     ]
    },
    {
     "name": "stdout",
     "output_type": "stream",
     "text": [
      "                   all      0.505      0.998\n"
     ]
    },
    {
     "name": "stderr",
     "output_type": "stream",
     "text": [
      "\n"
     ]
    },
    {
     "name": "stdout",
     "output_type": "stream",
     "text": [
      "\n",
      "      Epoch    GPU_mem       loss  Instances       Size\n"
     ]
    },
    {
     "name": "stderr",
     "output_type": "stream",
     "text": [
      "     15/100      7.47G    0.01498         39        224: 100%|██████████| 223/223 [00:18<00:00, 12.10it/s]\n",
      "               classes   top1_acc   top5_acc: 100%|██████████| 18/18 [00:01<00:00, 11.51it/s]"
     ]
    },
    {
     "name": "stdout",
     "output_type": "stream",
     "text": [
      "                   all      0.493      0.982\n"
     ]
    },
    {
     "name": "stderr",
     "output_type": "stream",
     "text": [
      "\n"
     ]
    },
    {
     "name": "stdout",
     "output_type": "stream",
     "text": [
      "\n",
      "      Epoch    GPU_mem       loss  Instances       Size\n"
     ]
    },
    {
     "name": "stderr",
     "output_type": "stream",
     "text": [
      "     16/100      7.46G    0.01955         39        224: 100%|██████████| 223/223 [00:18<00:00, 12.08it/s]\n",
      "               classes   top1_acc   top5_acc: 100%|██████████| 18/18 [00:01<00:00, 11.47it/s]"
     ]
    },
    {
     "name": "stdout",
     "output_type": "stream",
     "text": [
      "                   all      0.559      0.997\n"
     ]
    },
    {
     "name": "stderr",
     "output_type": "stream",
     "text": [
      "\n"
     ]
    },
    {
     "name": "stdout",
     "output_type": "stream",
     "text": [
      "\n",
      "      Epoch    GPU_mem       loss  Instances       Size\n"
     ]
    },
    {
     "name": "stderr",
     "output_type": "stream",
     "text": [
      "     17/100      7.46G    0.01603         39        224: 100%|██████████| 223/223 [00:18<00:00, 12.12it/s]\n",
      "               classes   top1_acc   top5_acc: 100%|██████████| 18/18 [00:01<00:00, 11.41it/s]"
     ]
    },
    {
     "name": "stdout",
     "output_type": "stream",
     "text": [
      "                   all      0.575      0.992\n"
     ]
    },
    {
     "name": "stderr",
     "output_type": "stream",
     "text": [
      "\n"
     ]
    },
    {
     "name": "stdout",
     "output_type": "stream",
     "text": [
      "\n",
      "      Epoch    GPU_mem       loss  Instances       Size\n"
     ]
    },
    {
     "name": "stderr",
     "output_type": "stream",
     "text": [
      "     18/100      7.46G    0.01243         39        224: 100%|██████████| 223/223 [00:18<00:00, 12.10it/s]\n",
      "               classes   top1_acc   top5_acc: 100%|██████████| 18/18 [00:01<00:00, 11.25it/s]"
     ]
    },
    {
     "name": "stdout",
     "output_type": "stream",
     "text": [
      "                   all      0.637      0.993\n"
     ]
    },
    {
     "name": "stderr",
     "output_type": "stream",
     "text": [
      "\n"
     ]
    },
    {
     "name": "stdout",
     "output_type": "stream",
     "text": [
      "\n",
      "      Epoch    GPU_mem       loss  Instances       Size\n"
     ]
    },
    {
     "name": "stderr",
     "output_type": "stream",
     "text": [
      "     19/100      7.46G    0.01269         39        224: 100%|██████████| 223/223 [00:18<00:00, 12.09it/s]\n",
      "               classes   top1_acc   top5_acc: 100%|██████████| 18/18 [00:01<00:00, 11.39it/s]"
     ]
    },
    {
     "name": "stdout",
     "output_type": "stream",
     "text": [
      "                   all      0.621      0.988\n"
     ]
    },
    {
     "name": "stderr",
     "output_type": "stream",
     "text": [
      "\n"
     ]
    },
    {
     "name": "stdout",
     "output_type": "stream",
     "text": [
      "\n",
      "      Epoch    GPU_mem       loss  Instances       Size\n"
     ]
    },
    {
     "name": "stderr",
     "output_type": "stream",
     "text": [
      "     20/100      7.46G    0.01508         39        224: 100%|██████████| 223/223 [00:18<00:00, 12.17it/s]\n",
      "               classes   top1_acc   top5_acc: 100%|██████████| 18/18 [00:01<00:00, 11.34it/s]"
     ]
    },
    {
     "name": "stdout",
     "output_type": "stream",
     "text": [
      "                   all      0.511      0.982\n"
     ]
    },
    {
     "name": "stderr",
     "output_type": "stream",
     "text": [
      "\n"
     ]
    },
    {
     "name": "stdout",
     "output_type": "stream",
     "text": [
      "\n",
      "      Epoch    GPU_mem       loss  Instances       Size\n"
     ]
    },
    {
     "name": "stderr",
     "output_type": "stream",
     "text": [
      "     21/100      7.46G    0.01528         39        224: 100%|██████████| 223/223 [00:18<00:00, 12.18it/s]\n",
      "               classes   top1_acc   top5_acc: 100%|██████████| 18/18 [00:01<00:00, 11.49it/s]"
     ]
    },
    {
     "name": "stdout",
     "output_type": "stream",
     "text": [
      "                   all      0.484      0.892\n"
     ]
    },
    {
     "name": "stderr",
     "output_type": "stream",
     "text": [
      "\n"
     ]
    },
    {
     "name": "stdout",
     "output_type": "stream",
     "text": [
      "\n",
      "      Epoch    GPU_mem       loss  Instances       Size\n"
     ]
    },
    {
     "name": "stderr",
     "output_type": "stream",
     "text": [
      "     22/100      7.46G    0.01792         39        224: 100%|██████████| 223/223 [00:18<00:00, 12.03it/s]\n",
      "               classes   top1_acc   top5_acc: 100%|██████████| 18/18 [00:01<00:00, 11.44it/s]"
     ]
    },
    {
     "name": "stdout",
     "output_type": "stream",
     "text": [
      "                   all       0.61      0.909\n"
     ]
    },
    {
     "name": "stderr",
     "output_type": "stream",
     "text": [
      "\n"
     ]
    },
    {
     "name": "stdout",
     "output_type": "stream",
     "text": [
      "\n",
      "      Epoch    GPU_mem       loss  Instances       Size\n"
     ]
    },
    {
     "name": "stderr",
     "output_type": "stream",
     "text": [
      "     23/100      7.46G    0.01229         39        224: 100%|██████████| 223/223 [00:18<00:00, 12.09it/s]\n",
      "               classes   top1_acc   top5_acc: 100%|██████████| 18/18 [00:01<00:00, 11.32it/s]"
     ]
    },
    {
     "name": "stdout",
     "output_type": "stream",
     "text": [
      "                   all      0.503       0.99\n"
     ]
    },
    {
     "name": "stderr",
     "output_type": "stream",
     "text": [
      "\n"
     ]
    },
    {
     "name": "stdout",
     "output_type": "stream",
     "text": [
      "\n",
      "      Epoch    GPU_mem       loss  Instances       Size\n"
     ]
    },
    {
     "name": "stderr",
     "output_type": "stream",
     "text": [
      "     24/100      7.46G    0.01153         39        224: 100%|██████████| 223/223 [00:18<00:00, 12.22it/s]\n",
      "               classes   top1_acc   top5_acc: 100%|██████████| 18/18 [00:01<00:00, 11.34it/s]"
     ]
    },
    {
     "name": "stdout",
     "output_type": "stream",
     "text": [
      "                   all      0.514      0.914\n"
     ]
    },
    {
     "name": "stderr",
     "output_type": "stream",
     "text": [
      "\n"
     ]
    },
    {
     "name": "stdout",
     "output_type": "stream",
     "text": [
      "\n",
      "      Epoch    GPU_mem       loss  Instances       Size\n"
     ]
    },
    {
     "name": "stderr",
     "output_type": "stream",
     "text": [
      "     25/100      7.46G     0.0144         39        224: 100%|██████████| 223/223 [00:18<00:00, 12.00it/s]\n",
      "               classes   top1_acc   top5_acc: 100%|██████████| 18/18 [00:01<00:00, 11.26it/s]"
     ]
    },
    {
     "name": "stdout",
     "output_type": "stream",
     "text": [
      "                   all      0.515      0.895\n"
     ]
    },
    {
     "name": "stderr",
     "output_type": "stream",
     "text": [
      "\n"
     ]
    },
    {
     "name": "stdout",
     "output_type": "stream",
     "text": [
      "\n",
      "      Epoch    GPU_mem       loss  Instances       Size\n"
     ]
    },
    {
     "name": "stderr",
     "output_type": "stream",
     "text": [
      "     26/100      7.46G    0.01156         39        224: 100%|██████████| 223/223 [00:18<00:00, 12.01it/s]\n",
      "               classes   top1_acc   top5_acc: 100%|██████████| 18/18 [00:01<00:00, 11.43it/s]"
     ]
    },
    {
     "name": "stdout",
     "output_type": "stream",
     "text": [
      "                   all      0.462      0.901\n"
     ]
    },
    {
     "name": "stderr",
     "output_type": "stream",
     "text": [
      "\n"
     ]
    },
    {
     "name": "stdout",
     "output_type": "stream",
     "text": [
      "\n",
      "      Epoch    GPU_mem       loss  Instances       Size\n"
     ]
    },
    {
     "name": "stderr",
     "output_type": "stream",
     "text": [
      "     27/100      7.46G   0.009546         39        224: 100%|██████████| 223/223 [00:18<00:00, 12.12it/s]\n",
      "               classes   top1_acc   top5_acc: 100%|██████████| 18/18 [00:01<00:00, 11.32it/s]"
     ]
    },
    {
     "name": "stdout",
     "output_type": "stream",
     "text": [
      "                   all      0.502       0.91\n"
     ]
    },
    {
     "name": "stderr",
     "output_type": "stream",
     "text": [
      "\n"
     ]
    },
    {
     "name": "stdout",
     "output_type": "stream",
     "text": [
      "\n",
      "      Epoch    GPU_mem       loss  Instances       Size\n"
     ]
    },
    {
     "name": "stderr",
     "output_type": "stream",
     "text": [
      "     28/100      7.46G    0.01165         39        224: 100%|██████████| 223/223 [00:18<00:00, 12.16it/s]\n",
      "               classes   top1_acc   top5_acc: 100%|██████████| 18/18 [00:01<00:00, 11.37it/s]"
     ]
    },
    {
     "name": "stdout",
     "output_type": "stream",
     "text": [
      "                   all      0.475      0.893\n"
     ]
    },
    {
     "name": "stderr",
     "output_type": "stream",
     "text": [
      "\n"
     ]
    },
    {
     "name": "stdout",
     "output_type": "stream",
     "text": [
      "\n",
      "      Epoch    GPU_mem       loss  Instances       Size\n"
     ]
    },
    {
     "name": "stderr",
     "output_type": "stream",
     "text": [
      "     29/100      7.46G    0.01117         39        224: 100%|██████████| 223/223 [00:18<00:00, 12.18it/s]\n",
      "               classes   top1_acc   top5_acc: 100%|██████████| 18/18 [00:01<00:00, 11.48it/s]"
     ]
    },
    {
     "name": "stdout",
     "output_type": "stream",
     "text": [
      "                   all      0.507      0.971\n"
     ]
    },
    {
     "name": "stderr",
     "output_type": "stream",
     "text": [
      "\n"
     ]
    },
    {
     "name": "stdout",
     "output_type": "stream",
     "text": [
      "\n",
      "      Epoch    GPU_mem       loss  Instances       Size\n"
     ]
    },
    {
     "name": "stderr",
     "output_type": "stream",
     "text": [
      "     30/100      7.46G   0.008029         39        224: 100%|██████████| 223/223 [00:18<00:00, 12.21it/s]\n",
      "               classes   top1_acc   top5_acc: 100%|██████████| 18/18 [00:01<00:00, 11.48it/s]"
     ]
    },
    {
     "name": "stdout",
     "output_type": "stream",
     "text": [
      "                   all      0.495      0.908\n"
     ]
    },
    {
     "name": "stderr",
     "output_type": "stream",
     "text": [
      "\n"
     ]
    },
    {
     "name": "stdout",
     "output_type": "stream",
     "text": [
      "\n",
      "      Epoch    GPU_mem       loss  Instances       Size\n"
     ]
    },
    {
     "name": "stderr",
     "output_type": "stream",
     "text": [
      "     31/100      7.46G   0.009383         39        224: 100%|██████████| 223/223 [00:18<00:00, 12.22it/s]\n",
      "               classes   top1_acc   top5_acc: 100%|██████████| 18/18 [00:01<00:00, 11.61it/s]"
     ]
    },
    {
     "name": "stdout",
     "output_type": "stream",
     "text": [
      "                   all      0.585      0.941\n"
     ]
    },
    {
     "name": "stderr",
     "output_type": "stream",
     "text": [
      "\n"
     ]
    },
    {
     "name": "stdout",
     "output_type": "stream",
     "text": [
      "\n",
      "      Epoch    GPU_mem       loss  Instances       Size\n"
     ]
    },
    {
     "name": "stderr",
     "output_type": "stream",
     "text": [
      "     32/100      7.46G    0.01276         39        224: 100%|██████████| 223/223 [00:18<00:00, 12.20it/s]\n",
      "               classes   top1_acc   top5_acc: 100%|██████████| 18/18 [00:01<00:00, 11.25it/s]"
     ]
    },
    {
     "name": "stdout",
     "output_type": "stream",
     "text": [
      "                   all       0.58      0.966\n"
     ]
    },
    {
     "name": "stderr",
     "output_type": "stream",
     "text": [
      "\n"
     ]
    },
    {
     "name": "stdout",
     "output_type": "stream",
     "text": [
      "\n",
      "      Epoch    GPU_mem       loss  Instances       Size\n"
     ]
    },
    {
     "name": "stderr",
     "output_type": "stream",
     "text": [
      "     33/100      7.46G    0.01409         39        224: 100%|██████████| 223/223 [00:18<00:00, 12.10it/s]\n",
      "               classes   top1_acc   top5_acc: 100%|██████████| 18/18 [00:01<00:00, 11.58it/s]"
     ]
    },
    {
     "name": "stdout",
     "output_type": "stream",
     "text": [
      "                   all      0.577       0.98\n"
     ]
    },
    {
     "name": "stderr",
     "output_type": "stream",
     "text": [
      "\n"
     ]
    },
    {
     "name": "stdout",
     "output_type": "stream",
     "text": [
      "\n",
      "      Epoch    GPU_mem       loss  Instances       Size\n"
     ]
    },
    {
     "name": "stderr",
     "output_type": "stream",
     "text": [
      "     34/100      7.46G    0.01065         39        224: 100%|██████████| 223/223 [00:18<00:00, 12.22it/s]\n",
      "               classes   top1_acc   top5_acc: 100%|██████████| 18/18 [00:01<00:00, 11.42it/s]"
     ]
    },
    {
     "name": "stdout",
     "output_type": "stream",
     "text": [
      "                   all      0.535      0.992\n"
     ]
    },
    {
     "name": "stderr",
     "output_type": "stream",
     "text": [
      "\n"
     ]
    },
    {
     "name": "stdout",
     "output_type": "stream",
     "text": [
      "\n",
      "      Epoch    GPU_mem       loss  Instances       Size\n"
     ]
    },
    {
     "name": "stderr",
     "output_type": "stream",
     "text": [
      "     35/100      7.46G    0.01023         39        224: 100%|██████████| 223/223 [00:18<00:00, 12.19it/s]\n",
      "               classes   top1_acc   top5_acc: 100%|██████████| 18/18 [00:01<00:00, 11.61it/s]"
     ]
    },
    {
     "name": "stdout",
     "output_type": "stream",
     "text": [
      "                   all      0.588      0.931\n"
     ]
    },
    {
     "name": "stderr",
     "output_type": "stream",
     "text": [
      "\n"
     ]
    },
    {
     "name": "stdout",
     "output_type": "stream",
     "text": [
      "\n",
      "      Epoch    GPU_mem       loss  Instances       Size\n"
     ]
    },
    {
     "name": "stderr",
     "output_type": "stream",
     "text": [
      "     36/100      7.46G   0.009497         39        224: 100%|██████████| 223/223 [00:18<00:00, 12.16it/s]\n",
      "               classes   top1_acc   top5_acc: 100%|██████████| 18/18 [00:01<00:00, 11.41it/s]"
     ]
    },
    {
     "name": "stdout",
     "output_type": "stream",
     "text": [
      "                   all      0.525      0.983\n"
     ]
    },
    {
     "name": "stderr",
     "output_type": "stream",
     "text": [
      "\n"
     ]
    },
    {
     "name": "stdout",
     "output_type": "stream",
     "text": [
      "\n",
      "      Epoch    GPU_mem       loss  Instances       Size\n"
     ]
    },
    {
     "name": "stderr",
     "output_type": "stream",
     "text": [
      "     37/100      7.46G    0.00842         39        224: 100%|██████████| 223/223 [00:18<00:00, 12.30it/s]\n",
      "               classes   top1_acc   top5_acc: 100%|██████████| 18/18 [00:01<00:00, 11.55it/s]"
     ]
    },
    {
     "name": "stdout",
     "output_type": "stream",
     "text": [
      "                   all      0.512      0.928\n"
     ]
    },
    {
     "name": "stderr",
     "output_type": "stream",
     "text": [
      "\n"
     ]
    },
    {
     "name": "stdout",
     "output_type": "stream",
     "text": [
      "\n",
      "      Epoch    GPU_mem       loss  Instances       Size\n"
     ]
    },
    {
     "name": "stderr",
     "output_type": "stream",
     "text": [
      "     38/100      7.46G   0.008142         39        224: 100%|██████████| 223/223 [00:18<00:00, 12.05it/s]\n",
      "               classes   top1_acc   top5_acc: 100%|██████████| 18/18 [00:01<00:00, 11.26it/s]"
     ]
    },
    {
     "name": "stdout",
     "output_type": "stream",
     "text": [
      "                   all      0.532      0.903\n"
     ]
    },
    {
     "name": "stderr",
     "output_type": "stream",
     "text": [
      "\n"
     ]
    },
    {
     "name": "stdout",
     "output_type": "stream",
     "text": [
      "\n",
      "      Epoch    GPU_mem       loss  Instances       Size\n"
     ]
    },
    {
     "name": "stderr",
     "output_type": "stream",
     "text": [
      "     39/100      7.46G   0.008526         39        224: 100%|██████████| 223/223 [00:18<00:00, 12.15it/s]\n",
      "               classes   top1_acc   top5_acc: 100%|██████████| 18/18 [00:01<00:00, 11.36it/s]"
     ]
    },
    {
     "name": "stdout",
     "output_type": "stream",
     "text": [
      "                   all      0.518      0.922\n"
     ]
    },
    {
     "name": "stderr",
     "output_type": "stream",
     "text": [
      "\n"
     ]
    },
    {
     "name": "stdout",
     "output_type": "stream",
     "text": [
      "\n",
      "      Epoch    GPU_mem       loss  Instances       Size\n"
     ]
    },
    {
     "name": "stderr",
     "output_type": "stream",
     "text": [
      "     40/100      7.46G   0.008486         39        224: 100%|██████████| 223/223 [00:18<00:00, 12.19it/s]\n",
      "               classes   top1_acc   top5_acc: 100%|██████████| 18/18 [00:01<00:00, 11.13it/s]"
     ]
    },
    {
     "name": "stdout",
     "output_type": "stream",
     "text": [
      "                   all      0.539       0.93\n"
     ]
    },
    {
     "name": "stderr",
     "output_type": "stream",
     "text": [
      "\n"
     ]
    },
    {
     "name": "stdout",
     "output_type": "stream",
     "text": [
      "\n",
      "      Epoch    GPU_mem       loss  Instances       Size\n"
     ]
    },
    {
     "name": "stderr",
     "output_type": "stream",
     "text": [
      "     41/100      7.46G   0.008577         39        224: 100%|██████████| 223/223 [00:18<00:00, 12.03it/s]\n",
      "               classes   top1_acc   top5_acc: 100%|██████████| 18/18 [00:01<00:00, 11.32it/s]"
     ]
    },
    {
     "name": "stdout",
     "output_type": "stream",
     "text": [
      "                   all       0.54       0.92\n"
     ]
    },
    {
     "name": "stderr",
     "output_type": "stream",
     "text": [
      "\n"
     ]
    },
    {
     "name": "stdout",
     "output_type": "stream",
     "text": [
      "\n",
      "      Epoch    GPU_mem       loss  Instances       Size\n"
     ]
    },
    {
     "name": "stderr",
     "output_type": "stream",
     "text": [
      "     42/100      7.46G   0.008253         39        224: 100%|██████████| 223/223 [00:18<00:00, 12.02it/s]\n",
      "               classes   top1_acc   top5_acc: 100%|██████████| 18/18 [00:01<00:00, 11.32it/s]"
     ]
    },
    {
     "name": "stdout",
     "output_type": "stream",
     "text": [
      "                   all      0.529      0.928\n"
     ]
    },
    {
     "name": "stderr",
     "output_type": "stream",
     "text": [
      "\n"
     ]
    },
    {
     "name": "stdout",
     "output_type": "stream",
     "text": [
      "\n",
      "      Epoch    GPU_mem       loss  Instances       Size\n"
     ]
    },
    {
     "name": "stderr",
     "output_type": "stream",
     "text": [
      "     43/100      7.46G   0.009203         39        224: 100%|██████████| 223/223 [00:18<00:00, 12.02it/s]\n",
      "               classes   top1_acc   top5_acc: 100%|██████████| 18/18 [00:01<00:00, 11.07it/s]"
     ]
    },
    {
     "name": "stdout",
     "output_type": "stream",
     "text": [
      "                   all      0.467      0.952\n"
     ]
    },
    {
     "name": "stderr",
     "output_type": "stream",
     "text": [
      "\n"
     ]
    },
    {
     "name": "stdout",
     "output_type": "stream",
     "text": [
      "\n",
      "      Epoch    GPU_mem       loss  Instances       Size\n"
     ]
    },
    {
     "name": "stderr",
     "output_type": "stream",
     "text": [
      "     44/100      7.46G   0.007097         39        224: 100%|██████████| 223/223 [00:18<00:00, 12.16it/s]\n",
      "               classes   top1_acc   top5_acc: 100%|██████████| 18/18 [00:01<00:00, 11.35it/s]"
     ]
    },
    {
     "name": "stdout",
     "output_type": "stream",
     "text": [
      "                   all      0.532      0.976\n"
     ]
    },
    {
     "name": "stderr",
     "output_type": "stream",
     "text": [
      "\n"
     ]
    },
    {
     "name": "stdout",
     "output_type": "stream",
     "text": [
      "\n",
      "      Epoch    GPU_mem       loss  Instances       Size\n"
     ]
    },
    {
     "name": "stderr",
     "output_type": "stream",
     "text": [
      "     45/100      7.46G   0.007392         39        224: 100%|██████████| 223/223 [00:18<00:00, 12.10it/s]\n",
      "               classes   top1_acc   top5_acc: 100%|██████████| 18/18 [00:01<00:00, 11.33it/s]"
     ]
    },
    {
     "name": "stdout",
     "output_type": "stream",
     "text": [
      "                   all       0.52      0.971\n"
     ]
    },
    {
     "name": "stderr",
     "output_type": "stream",
     "text": [
      "\n"
     ]
    },
    {
     "name": "stdout",
     "output_type": "stream",
     "text": [
      "\n",
      "      Epoch    GPU_mem       loss  Instances       Size\n"
     ]
    },
    {
     "name": "stderr",
     "output_type": "stream",
     "text": [
      "     46/100      7.46G   0.007052         39        224: 100%|██████████| 223/223 [00:18<00:00, 12.18it/s]\n",
      "               classes   top1_acc   top5_acc: 100%|██████████| 18/18 [00:01<00:00, 11.46it/s]"
     ]
    },
    {
     "name": "stdout",
     "output_type": "stream",
     "text": [
      "                   all      0.533        0.9\n"
     ]
    },
    {
     "name": "stderr",
     "output_type": "stream",
     "text": [
      "\n"
     ]
    },
    {
     "name": "stdout",
     "output_type": "stream",
     "text": [
      "\n",
      "      Epoch    GPU_mem       loss  Instances       Size\n"
     ]
    },
    {
     "name": "stderr",
     "output_type": "stream",
     "text": [
      "     47/100      7.46G   0.007998         39        224: 100%|██████████| 223/223 [00:18<00:00, 12.14it/s]\n",
      "               classes   top1_acc   top5_acc: 100%|██████████| 18/18 [00:01<00:00, 11.30it/s]"
     ]
    },
    {
     "name": "stdout",
     "output_type": "stream",
     "text": [
      "                   all      0.469      0.898\n"
     ]
    },
    {
     "name": "stderr",
     "output_type": "stream",
     "text": [
      "\n"
     ]
    },
    {
     "name": "stdout",
     "output_type": "stream",
     "text": [
      "\n",
      "      Epoch    GPU_mem       loss  Instances       Size\n"
     ]
    },
    {
     "name": "stderr",
     "output_type": "stream",
     "text": [
      "     48/100      7.46G   0.009125         39        224: 100%|██████████| 223/223 [00:18<00:00, 12.04it/s]\n",
      "               classes   top1_acc   top5_acc: 100%|██████████| 18/18 [00:01<00:00, 11.38it/s]"
     ]
    },
    {
     "name": "stdout",
     "output_type": "stream",
     "text": [
      "                   all      0.458      0.895\n"
     ]
    },
    {
     "name": "stderr",
     "output_type": "stream",
     "text": [
      "\n"
     ]
    },
    {
     "name": "stdout",
     "output_type": "stream",
     "text": [
      "\n",
      "      Epoch    GPU_mem       loss  Instances       Size\n"
     ]
    },
    {
     "name": "stderr",
     "output_type": "stream",
     "text": [
      "     49/100      7.46G   0.008704         39        224: 100%|██████████| 223/223 [00:18<00:00, 12.10it/s]\n",
      "               classes   top1_acc   top5_acc: 100%|██████████| 18/18 [00:01<00:00, 11.38it/s]"
     ]
    },
    {
     "name": "stdout",
     "output_type": "stream",
     "text": [
      "                   all      0.444      0.903\n"
     ]
    },
    {
     "name": "stderr",
     "output_type": "stream",
     "text": [
      "\n"
     ]
    },
    {
     "name": "stdout",
     "output_type": "stream",
     "text": [
      "\n",
      "      Epoch    GPU_mem       loss  Instances       Size\n"
     ]
    },
    {
     "name": "stderr",
     "output_type": "stream",
     "text": [
      "     50/100      7.46G   0.006745         39        224: 100%|██████████| 223/223 [00:18<00:00, 12.23it/s]\n",
      "               classes   top1_acc   top5_acc: 100%|██████████| 18/18 [00:01<00:00, 11.49it/s]"
     ]
    },
    {
     "name": "stdout",
     "output_type": "stream",
     "text": [
      "                   all      0.488      0.907\n"
     ]
    },
    {
     "name": "stderr",
     "output_type": "stream",
     "text": [
      "\n"
     ]
    },
    {
     "name": "stdout",
     "output_type": "stream",
     "text": [
      "\n",
      "      Epoch    GPU_mem       loss  Instances       Size\n"
     ]
    },
    {
     "name": "stderr",
     "output_type": "stream",
     "text": [
      "     51/100      7.46G   0.005264         39        224: 100%|██████████| 223/223 [00:18<00:00, 12.25it/s]\n",
      "               classes   top1_acc   top5_acc: 100%|██████████| 18/18 [00:01<00:00, 11.33it/s]"
     ]
    },
    {
     "name": "stdout",
     "output_type": "stream",
     "text": [
      "                   all      0.496        0.9\n"
     ]
    },
    {
     "name": "stderr",
     "output_type": "stream",
     "text": [
      "\n"
     ]
    },
    {
     "name": "stdout",
     "output_type": "stream",
     "text": [
      "\n",
      "      Epoch    GPU_mem       loss  Instances       Size\n"
     ]
    },
    {
     "name": "stderr",
     "output_type": "stream",
     "text": [
      "     52/100      7.46G   0.006882         39        224: 100%|██████████| 223/223 [00:18<00:00, 12.22it/s]\n",
      "               classes   top1_acc   top5_acc: 100%|██████████| 18/18 [00:01<00:00, 11.47it/s]"
     ]
    },
    {
     "name": "stdout",
     "output_type": "stream",
     "text": [
      "                   all      0.488        0.9\n"
     ]
    },
    {
     "name": "stderr",
     "output_type": "stream",
     "text": [
      "\n"
     ]
    },
    {
     "name": "stdout",
     "output_type": "stream",
     "text": [
      "\n",
      "      Epoch    GPU_mem       loss  Instances       Size\n"
     ]
    },
    {
     "name": "stderr",
     "output_type": "stream",
     "text": [
      "     53/100      7.46G   0.008217         39        224: 100%|██████████| 223/223 [00:18<00:00, 12.23it/s]\n",
      "               classes   top1_acc   top5_acc: 100%|██████████| 18/18 [00:01<00:00, 11.68it/s]"
     ]
    },
    {
     "name": "stdout",
     "output_type": "stream",
     "text": [
      "                   all      0.534      0.899\n"
     ]
    },
    {
     "name": "stderr",
     "output_type": "stream",
     "text": [
      "\n"
     ]
    },
    {
     "name": "stdout",
     "output_type": "stream",
     "text": [
      "\n",
      "      Epoch    GPU_mem       loss  Instances       Size\n"
     ]
    },
    {
     "name": "stderr",
     "output_type": "stream",
     "text": [
      "     54/100      7.46G   0.005072         39        224: 100%|██████████| 223/223 [00:18<00:00, 12.27it/s]\n",
      "               classes   top1_acc   top5_acc: 100%|██████████| 18/18 [00:01<00:00, 11.38it/s]"
     ]
    },
    {
     "name": "stdout",
     "output_type": "stream",
     "text": [
      "                   all      0.549      0.903\n"
     ]
    },
    {
     "name": "stderr",
     "output_type": "stream",
     "text": [
      "\n"
     ]
    },
    {
     "name": "stdout",
     "output_type": "stream",
     "text": [
      "\n",
      "      Epoch    GPU_mem       loss  Instances       Size\n"
     ]
    },
    {
     "name": "stderr",
     "output_type": "stream",
     "text": [
      "     55/100      7.46G   0.009032         39        224: 100%|██████████| 223/223 [00:18<00:00, 12.11it/s]\n",
      "               classes   top1_acc   top5_acc: 100%|██████████| 18/18 [00:01<00:00, 11.28it/s]"
     ]
    },
    {
     "name": "stdout",
     "output_type": "stream",
     "text": [
      "                   all      0.552      0.899\n"
     ]
    },
    {
     "name": "stderr",
     "output_type": "stream",
     "text": [
      "\n"
     ]
    },
    {
     "name": "stdout",
     "output_type": "stream",
     "text": [
      "\n",
      "      Epoch    GPU_mem       loss  Instances       Size\n"
     ]
    },
    {
     "name": "stderr",
     "output_type": "stream",
     "text": [
      "     56/100      7.46G   0.007857         39        224: 100%|██████████| 223/223 [00:18<00:00, 12.23it/s]\n",
      "               classes   top1_acc   top5_acc: 100%|██████████| 18/18 [00:01<00:00, 11.22it/s]"
     ]
    },
    {
     "name": "stdout",
     "output_type": "stream",
     "text": [
      "                   all      0.559      0.898\n"
     ]
    },
    {
     "name": "stderr",
     "output_type": "stream",
     "text": [
      "\n"
     ]
    },
    {
     "name": "stdout",
     "output_type": "stream",
     "text": [
      "\n",
      "      Epoch    GPU_mem       loss  Instances       Size\n"
     ]
    },
    {
     "name": "stderr",
     "output_type": "stream",
     "text": [
      "     57/100      7.46G   0.004637         39        224: 100%|██████████| 223/223 [00:18<00:00, 12.18it/s]\n",
      "               classes   top1_acc   top5_acc: 100%|██████████| 18/18 [00:01<00:00, 11.52it/s]"
     ]
    },
    {
     "name": "stdout",
     "output_type": "stream",
     "text": [
      "                   all      0.548      0.886\n"
     ]
    },
    {
     "name": "stderr",
     "output_type": "stream",
     "text": [
      "\n"
     ]
    },
    {
     "name": "stdout",
     "output_type": "stream",
     "text": [
      "\n",
      "      Epoch    GPU_mem       loss  Instances       Size\n"
     ]
    },
    {
     "name": "stderr",
     "output_type": "stream",
     "text": [
      "     58/100      7.46G   0.007706         39        224: 100%|██████████| 223/223 [00:18<00:00, 12.13it/s]\n",
      "               classes   top1_acc   top5_acc: 100%|██████████| 18/18 [00:01<00:00, 11.19it/s]"
     ]
    },
    {
     "name": "stdout",
     "output_type": "stream",
     "text": [
      "                   all       0.56      0.885\n"
     ]
    },
    {
     "name": "stderr",
     "output_type": "stream",
     "text": [
      "\n"
     ]
    },
    {
     "name": "stdout",
     "output_type": "stream",
     "text": [
      "\n",
      "      Epoch    GPU_mem       loss  Instances       Size\n"
     ]
    },
    {
     "name": "stderr",
     "output_type": "stream",
     "text": [
      "     59/100      7.46G   0.004624         39        224: 100%|██████████| 223/223 [00:18<00:00, 12.02it/s]\n",
      "               classes   top1_acc   top5_acc: 100%|██████████| 18/18 [00:01<00:00, 11.61it/s]"
     ]
    },
    {
     "name": "stdout",
     "output_type": "stream",
     "text": [
      "                   all      0.569      0.887\n"
     ]
    },
    {
     "name": "stderr",
     "output_type": "stream",
     "text": [
      "\n"
     ]
    },
    {
     "name": "stdout",
     "output_type": "stream",
     "text": [
      "\n",
      "      Epoch    GPU_mem       loss  Instances       Size\n"
     ]
    },
    {
     "name": "stderr",
     "output_type": "stream",
     "text": [
      "     60/100      7.46G   0.004164         39        224: 100%|██████████| 223/223 [00:18<00:00, 12.00it/s]\n",
      "               classes   top1_acc   top5_acc: 100%|██████████| 18/18 [00:01<00:00, 11.36it/s]"
     ]
    },
    {
     "name": "stdout",
     "output_type": "stream",
     "text": [
      "                   all      0.572      0.899\n"
     ]
    },
    {
     "name": "stderr",
     "output_type": "stream",
     "text": [
      "\n"
     ]
    },
    {
     "name": "stdout",
     "output_type": "stream",
     "text": [
      "\n",
      "      Epoch    GPU_mem       loss  Instances       Size\n"
     ]
    },
    {
     "name": "stderr",
     "output_type": "stream",
     "text": [
      "     61/100      7.46G   0.004467         39        224: 100%|██████████| 223/223 [00:18<00:00, 12.15it/s]\n",
      "               classes   top1_acc   top5_acc: 100%|██████████| 18/18 [00:01<00:00, 11.44it/s]"
     ]
    },
    {
     "name": "stdout",
     "output_type": "stream",
     "text": [
      "                   all      0.569      0.913\n"
     ]
    },
    {
     "name": "stderr",
     "output_type": "stream",
     "text": [
      "\n"
     ]
    },
    {
     "name": "stdout",
     "output_type": "stream",
     "text": [
      "\n",
      "      Epoch    GPU_mem       loss  Instances       Size\n"
     ]
    },
    {
     "name": "stderr",
     "output_type": "stream",
     "text": [
      "     62/100      7.46G   0.004753         39        224: 100%|██████████| 223/223 [00:18<00:00, 12.12it/s]\n",
      "               classes   top1_acc   top5_acc: 100%|██████████| 18/18 [00:01<00:00, 11.37it/s]"
     ]
    },
    {
     "name": "stdout",
     "output_type": "stream",
     "text": [
      "                   all       0.57      0.915\n"
     ]
    },
    {
     "name": "stderr",
     "output_type": "stream",
     "text": [
      "\n"
     ]
    },
    {
     "name": "stdout",
     "output_type": "stream",
     "text": [
      "\n",
      "      Epoch    GPU_mem       loss  Instances       Size\n"
     ]
    },
    {
     "name": "stderr",
     "output_type": "stream",
     "text": [
      "     63/100      7.46G   0.003992         39        224: 100%|██████████| 223/223 [00:18<00:00, 12.08it/s]\n",
      "               classes   top1_acc   top5_acc: 100%|██████████| 18/18 [00:01<00:00, 11.54it/s]"
     ]
    },
    {
     "name": "stdout",
     "output_type": "stream",
     "text": [
      "                   all      0.569      0.912\n"
     ]
    },
    {
     "name": "stderr",
     "output_type": "stream",
     "text": [
      "\n"
     ]
    },
    {
     "name": "stdout",
     "output_type": "stream",
     "text": [
      "\n",
      "      Epoch    GPU_mem       loss  Instances       Size\n"
     ]
    },
    {
     "name": "stderr",
     "output_type": "stream",
     "text": [
      "     64/100      7.46G   0.006805         39        224: 100%|██████████| 223/223 [00:18<00:00, 12.21it/s]\n",
      "               classes   top1_acc   top5_acc: 100%|██████████| 18/18 [00:01<00:00, 11.45it/s]"
     ]
    },
    {
     "name": "stdout",
     "output_type": "stream",
     "text": [
      "                   all      0.567      0.914\n"
     ]
    },
    {
     "name": "stderr",
     "output_type": "stream",
     "text": [
      "\n"
     ]
    },
    {
     "name": "stdout",
     "output_type": "stream",
     "text": [
      "\n",
      "      Epoch    GPU_mem       loss  Instances       Size\n"
     ]
    },
    {
     "name": "stderr",
     "output_type": "stream",
     "text": [
      "     65/100      7.46G    0.00351         39        224: 100%|██████████| 223/223 [00:18<00:00, 12.16it/s]\n",
      "               classes   top1_acc   top5_acc: 100%|██████████| 18/18 [00:01<00:00, 11.42it/s]"
     ]
    },
    {
     "name": "stdout",
     "output_type": "stream",
     "text": [
      "                   all      0.567       0.91\n"
     ]
    },
    {
     "name": "stderr",
     "output_type": "stream",
     "text": [
      "\n"
     ]
    },
    {
     "name": "stdout",
     "output_type": "stream",
     "text": [
      "\n",
      "      Epoch    GPU_mem       loss  Instances       Size\n"
     ]
    },
    {
     "name": "stderr",
     "output_type": "stream",
     "text": [
      "     66/100      7.46G   0.003456         39        224: 100%|██████████| 223/223 [00:18<00:00, 12.16it/s]\n",
      "               classes   top1_acc   top5_acc: 100%|██████████| 18/18 [00:01<00:00, 11.24it/s]"
     ]
    },
    {
     "name": "stdout",
     "output_type": "stream",
     "text": [
      "                   all       0.57      0.898\n"
     ]
    },
    {
     "name": "stderr",
     "output_type": "stream",
     "text": [
      "\n"
     ]
    },
    {
     "name": "stdout",
     "output_type": "stream",
     "text": [
      "\n",
      "      Epoch    GPU_mem       loss  Instances       Size\n"
     ]
    },
    {
     "name": "stderr",
     "output_type": "stream",
     "text": [
      "     67/100      7.46G   0.004649         39        224: 100%|██████████| 223/223 [00:18<00:00, 12.06it/s]\n",
      "               classes   top1_acc   top5_acc: 100%|██████████| 18/18 [00:01<00:00, 11.61it/s]"
     ]
    },
    {
     "name": "stdout",
     "output_type": "stream",
     "text": [
      "                   all      0.569      0.898\n"
     ]
    },
    {
     "name": "stderr",
     "output_type": "stream",
     "text": [
      "\n"
     ]
    },
    {
     "name": "stdout",
     "output_type": "stream",
     "text": [
      "\n",
      "      Epoch    GPU_mem       loss  Instances       Size\n"
     ]
    },
    {
     "name": "stderr",
     "output_type": "stream",
     "text": [
      "     68/100      7.46G   0.004509         39        224: 100%|██████████| 223/223 [00:18<00:00, 12.22it/s]\n",
      "               classes   top1_acc   top5_acc: 100%|██████████| 18/18 [00:01<00:00, 11.43it/s]"
     ]
    },
    {
     "name": "stdout",
     "output_type": "stream",
     "text": [
      "                   all      0.572      0.905\n"
     ]
    },
    {
     "name": "stderr",
     "output_type": "stream",
     "text": [
      "\n"
     ]
    },
    {
     "name": "stdout",
     "output_type": "stream",
     "text": [
      "\n",
      "      Epoch    GPU_mem       loss  Instances       Size\n"
     ]
    },
    {
     "name": "stderr",
     "output_type": "stream",
     "text": [
      "     69/100      7.46G    0.00513         39        224: 100%|██████████| 223/223 [00:18<00:00, 12.20it/s]\n",
      "               classes   top1_acc   top5_acc: 100%|██████████| 18/18 [00:01<00:00, 11.64it/s]"
     ]
    },
    {
     "name": "stdout",
     "output_type": "stream",
     "text": [
      "                   all      0.567      0.913\n"
     ]
    },
    {
     "name": "stderr",
     "output_type": "stream",
     "text": [
      "\n"
     ]
    },
    {
     "name": "stdout",
     "output_type": "stream",
     "text": [
      "\n",
      "      Epoch    GPU_mem       loss  Instances       Size\n"
     ]
    },
    {
     "name": "stderr",
     "output_type": "stream",
     "text": [
      "     70/100      7.46G   0.005646         39        224: 100%|██████████| 223/223 [00:18<00:00, 12.20it/s]\n",
      "               classes   top1_acc   top5_acc: 100%|██████████| 18/18 [00:01<00:00, 11.45it/s]"
     ]
    },
    {
     "name": "stdout",
     "output_type": "stream",
     "text": [
      "                   all      0.563      0.915\n"
     ]
    },
    {
     "name": "stderr",
     "output_type": "stream",
     "text": [
      "\n"
     ]
    },
    {
     "name": "stdout",
     "output_type": "stream",
     "text": [
      "\n",
      "      Epoch    GPU_mem       loss  Instances       Size\n"
     ]
    },
    {
     "name": "stderr",
     "output_type": "stream",
     "text": [
      "     71/100      7.46G   0.002934         39        224: 100%|██████████| 223/223 [00:18<00:00, 12.23it/s]\n",
      "               classes   top1_acc   top5_acc: 100%|██████████| 18/18 [00:01<00:00, 11.50it/s]"
     ]
    },
    {
     "name": "stdout",
     "output_type": "stream",
     "text": [
      "                   all      0.557      0.912\n"
     ]
    },
    {
     "name": "stderr",
     "output_type": "stream",
     "text": [
      "\n"
     ]
    },
    {
     "name": "stdout",
     "output_type": "stream",
     "text": [
      "\n",
      "      Epoch    GPU_mem       loss  Instances       Size\n"
     ]
    },
    {
     "name": "stderr",
     "output_type": "stream",
     "text": [
      "     72/100      7.46G   0.004078         39        224: 100%|██████████| 223/223 [00:18<00:00, 12.10it/s]\n",
      "               classes   top1_acc   top5_acc: 100%|██████████| 18/18 [00:01<00:00, 11.35it/s]"
     ]
    },
    {
     "name": "stdout",
     "output_type": "stream",
     "text": [
      "                   all      0.551      0.908\n"
     ]
    },
    {
     "name": "stderr",
     "output_type": "stream",
     "text": [
      "\n"
     ]
    },
    {
     "name": "stdout",
     "output_type": "stream",
     "text": [
      "\n",
      "      Epoch    GPU_mem       loss  Instances       Size\n"
     ]
    },
    {
     "name": "stderr",
     "output_type": "stream",
     "text": [
      "     73/100      7.46G   0.003864         39        224: 100%|██████████| 223/223 [00:18<00:00, 12.18it/s]\n",
      "               classes   top1_acc   top5_acc: 100%|██████████| 18/18 [00:01<00:00, 11.54it/s]"
     ]
    },
    {
     "name": "stdout",
     "output_type": "stream",
     "text": [
      "                   all      0.537      0.903\n"
     ]
    },
    {
     "name": "stderr",
     "output_type": "stream",
     "text": [
      "\n"
     ]
    },
    {
     "name": "stdout",
     "output_type": "stream",
     "text": [
      "\n",
      "      Epoch    GPU_mem       loss  Instances       Size\n"
     ]
    },
    {
     "name": "stderr",
     "output_type": "stream",
     "text": [
      "     74/100      7.46G   0.002057         39        224: 100%|██████████| 223/223 [00:18<00:00, 12.20it/s]\n",
      "               classes   top1_acc   top5_acc: 100%|██████████| 18/18 [00:01<00:00, 11.37it/s]"
     ]
    },
    {
     "name": "stdout",
     "output_type": "stream",
     "text": [
      "                   all      0.527      0.904\n"
     ]
    },
    {
     "name": "stderr",
     "output_type": "stream",
     "text": [
      "\n"
     ]
    },
    {
     "name": "stdout",
     "output_type": "stream",
     "text": [
      "\n",
      "      Epoch    GPU_mem       loss  Instances       Size\n"
     ]
    },
    {
     "name": "stderr",
     "output_type": "stream",
     "text": [
      "     75/100      7.46G   0.003066         39        224: 100%|██████████| 223/223 [00:18<00:00, 12.14it/s]\n",
      "               classes   top1_acc   top5_acc: 100%|██████████| 18/18 [00:01<00:00, 11.21it/s]"
     ]
    },
    {
     "name": "stdout",
     "output_type": "stream",
     "text": [
      "                   all      0.519      0.904\n"
     ]
    },
    {
     "name": "stderr",
     "output_type": "stream",
     "text": [
      "\n"
     ]
    },
    {
     "name": "stdout",
     "output_type": "stream",
     "text": [
      "\n",
      "      Epoch    GPU_mem       loss  Instances       Size\n"
     ]
    },
    {
     "name": "stderr",
     "output_type": "stream",
     "text": [
      "     76/100      7.46G   0.002095         39        224: 100%|██████████| 223/223 [00:18<00:00, 12.13it/s]\n",
      "               classes   top1_acc   top5_acc: 100%|██████████| 18/18 [00:01<00:00, 11.36it/s]"
     ]
    },
    {
     "name": "stdout",
     "output_type": "stream",
     "text": [
      "                   all      0.518      0.905\n"
     ]
    },
    {
     "name": "stderr",
     "output_type": "stream",
     "text": [
      "\n"
     ]
    },
    {
     "name": "stdout",
     "output_type": "stream",
     "text": [
      "\n",
      "      Epoch    GPU_mem       loss  Instances       Size\n"
     ]
    },
    {
     "name": "stderr",
     "output_type": "stream",
     "text": [
      "     77/100      7.46G   0.001953         39        224: 100%|██████████| 223/223 [00:18<00:00, 12.07it/s]\n",
      "               classes   top1_acc   top5_acc: 100%|██████████| 18/18 [00:01<00:00, 11.32it/s]"
     ]
    },
    {
     "name": "stdout",
     "output_type": "stream",
     "text": [
      "                   all      0.519      0.905\n"
     ]
    },
    {
     "name": "stderr",
     "output_type": "stream",
     "text": [
      "\n"
     ]
    },
    {
     "name": "stdout",
     "output_type": "stream",
     "text": [
      "\n",
      "      Epoch    GPU_mem       loss  Instances       Size\n"
     ]
    },
    {
     "name": "stderr",
     "output_type": "stream",
     "text": [
      "     78/100      7.46G   0.002888         39        224: 100%|██████████| 223/223 [00:18<00:00, 11.98it/s]\n",
      "               classes   top1_acc   top5_acc: 100%|██████████| 18/18 [00:01<00:00, 10.90it/s]"
     ]
    },
    {
     "name": "stdout",
     "output_type": "stream",
     "text": [
      "                   all      0.521      0.905\n"
     ]
    },
    {
     "name": "stderr",
     "output_type": "stream",
     "text": [
      "\n"
     ]
    },
    {
     "name": "stdout",
     "output_type": "stream",
     "text": [
      "\n",
      "      Epoch    GPU_mem       loss  Instances       Size\n"
     ]
    },
    {
     "name": "stderr",
     "output_type": "stream",
     "text": [
      "     79/100      7.46G   0.002322         39        224: 100%|██████████| 223/223 [00:18<00:00, 12.08it/s]\n",
      "               classes   top1_acc   top5_acc: 100%|██████████| 18/18 [00:01<00:00, 11.11it/s]"
     ]
    },
    {
     "name": "stdout",
     "output_type": "stream",
     "text": [
      "                   all      0.523      0.906\n"
     ]
    },
    {
     "name": "stderr",
     "output_type": "stream",
     "text": [
      "\n"
     ]
    },
    {
     "name": "stdout",
     "output_type": "stream",
     "text": [
      "\n",
      "      Epoch    GPU_mem       loss  Instances       Size\n"
     ]
    },
    {
     "name": "stderr",
     "output_type": "stream",
     "text": [
      "     80/100      7.46G    0.00295         39        224: 100%|██████████| 223/223 [00:18<00:00, 12.09it/s]\n",
      "               classes   top1_acc   top5_acc: 100%|██████████| 18/18 [00:01<00:00, 11.23it/s]"
     ]
    },
    {
     "name": "stdout",
     "output_type": "stream",
     "text": [
      "                   all      0.525      0.907\n"
     ]
    },
    {
     "name": "stderr",
     "output_type": "stream",
     "text": [
      "\n"
     ]
    },
    {
     "name": "stdout",
     "output_type": "stream",
     "text": [
      "\n",
      "      Epoch    GPU_mem       loss  Instances       Size\n"
     ]
    },
    {
     "name": "stderr",
     "output_type": "stream",
     "text": [
      "     81/100      7.46G   0.001557         39        224: 100%|██████████| 223/223 [00:18<00:00, 12.12it/s]\n",
      "               classes   top1_acc   top5_acc: 100%|██████████| 18/18 [00:01<00:00, 11.13it/s]"
     ]
    },
    {
     "name": "stdout",
     "output_type": "stream",
     "text": [
      "                   all      0.526      0.909\n"
     ]
    },
    {
     "name": "stderr",
     "output_type": "stream",
     "text": [
      "\n"
     ]
    },
    {
     "name": "stdout",
     "output_type": "stream",
     "text": [
      "\n",
      "      Epoch    GPU_mem       loss  Instances       Size\n"
     ]
    },
    {
     "name": "stderr",
     "output_type": "stream",
     "text": [
      "     82/100      7.46G   0.002336         39        224: 100%|██████████| 223/223 [00:18<00:00, 12.13it/s]\n",
      "               classes   top1_acc   top5_acc: 100%|██████████| 18/18 [00:01<00:00, 11.20it/s]"
     ]
    },
    {
     "name": "stdout",
     "output_type": "stream",
     "text": [
      "                   all      0.525      0.913\n"
     ]
    },
    {
     "name": "stderr",
     "output_type": "stream",
     "text": [
      "\n"
     ]
    },
    {
     "name": "stdout",
     "output_type": "stream",
     "text": [
      "\n",
      "      Epoch    GPU_mem       loss  Instances       Size\n"
     ]
    },
    {
     "name": "stderr",
     "output_type": "stream",
     "text": [
      "     83/100      7.46G   0.001543         39        224: 100%|██████████| 223/223 [00:18<00:00, 12.12it/s]\n",
      "               classes   top1_acc   top5_acc: 100%|██████████| 18/18 [00:01<00:00, 11.26it/s]"
     ]
    },
    {
     "name": "stdout",
     "output_type": "stream",
     "text": [
      "                   all      0.527      0.916\n"
     ]
    },
    {
     "name": "stderr",
     "output_type": "stream",
     "text": [
      "\n"
     ]
    },
    {
     "name": "stdout",
     "output_type": "stream",
     "text": [
      "\n",
      "      Epoch    GPU_mem       loss  Instances       Size\n"
     ]
    },
    {
     "name": "stderr",
     "output_type": "stream",
     "text": [
      "     84/100      7.46G    0.00168         39        224: 100%|██████████| 223/223 [00:18<00:00, 12.17it/s]\n",
      "               classes   top1_acc   top5_acc: 100%|██████████| 18/18 [00:01<00:00, 11.23it/s]"
     ]
    },
    {
     "name": "stdout",
     "output_type": "stream",
     "text": [
      "                   all      0.527       0.92\n"
     ]
    },
    {
     "name": "stderr",
     "output_type": "stream",
     "text": [
      "\n"
     ]
    },
    {
     "name": "stdout",
     "output_type": "stream",
     "text": [
      "\n",
      "      Epoch    GPU_mem       loss  Instances       Size\n"
     ]
    },
    {
     "name": "stderr",
     "output_type": "stream",
     "text": [
      "     85/100      7.46G   0.002017         39        224: 100%|██████████| 223/223 [00:18<00:00, 12.20it/s]\n",
      "               classes   top1_acc   top5_acc: 100%|██████████| 18/18 [00:01<00:00, 11.29it/s]"
     ]
    },
    {
     "name": "stdout",
     "output_type": "stream",
     "text": [
      "                   all      0.528      0.924\n"
     ]
    },
    {
     "name": "stderr",
     "output_type": "stream",
     "text": [
      "\n"
     ]
    },
    {
     "name": "stdout",
     "output_type": "stream",
     "text": [
      "\n",
      "      Epoch    GPU_mem       loss  Instances       Size\n"
     ]
    },
    {
     "name": "stderr",
     "output_type": "stream",
     "text": [
      "     86/100      7.46G   0.002045         39        224: 100%|██████████| 223/223 [00:18<00:00, 12.14it/s]\n",
      "               classes   top1_acc   top5_acc: 100%|██████████| 18/18 [00:01<00:00, 11.11it/s]"
     ]
    },
    {
     "name": "stdout",
     "output_type": "stream",
     "text": [
      "                   all      0.528      0.927\n"
     ]
    },
    {
     "name": "stderr",
     "output_type": "stream",
     "text": [
      "\n"
     ]
    },
    {
     "name": "stdout",
     "output_type": "stream",
     "text": [
      "\n",
      "      Epoch    GPU_mem       loss  Instances       Size\n"
     ]
    },
    {
     "name": "stderr",
     "output_type": "stream",
     "text": [
      "     87/100      7.46G   0.001294         39        224: 100%|██████████| 223/223 [00:18<00:00, 12.20it/s]\n",
      "               classes   top1_acc   top5_acc: 100%|██████████| 18/18 [00:01<00:00, 11.39it/s]"
     ]
    },
    {
     "name": "stdout",
     "output_type": "stream",
     "text": [
      "                   all      0.528      0.928\n"
     ]
    },
    {
     "name": "stderr",
     "output_type": "stream",
     "text": [
      "\n"
     ]
    },
    {
     "name": "stdout",
     "output_type": "stream",
     "text": [
      "\n",
      "      Epoch    GPU_mem       loss  Instances       Size\n"
     ]
    },
    {
     "name": "stderr",
     "output_type": "stream",
     "text": [
      "     88/100      7.46G   0.001605         39        224: 100%|██████████| 223/223 [00:18<00:00, 12.20it/s]\n",
      "               classes   top1_acc   top5_acc: 100%|██████████| 18/18 [00:01<00:00, 11.05it/s]"
     ]
    },
    {
     "name": "stdout",
     "output_type": "stream",
     "text": [
      "                   all      0.529      0.928\n"
     ]
    },
    {
     "name": "stderr",
     "output_type": "stream",
     "text": [
      "\n"
     ]
    },
    {
     "name": "stdout",
     "output_type": "stream",
     "text": [
      "\n",
      "      Epoch    GPU_mem       loss  Instances       Size\n"
     ]
    },
    {
     "name": "stderr",
     "output_type": "stream",
     "text": [
      "     89/100      7.46G  0.0009158         39        224: 100%|██████████| 223/223 [00:18<00:00, 11.99it/s]\n",
      "               classes   top1_acc   top5_acc: 100%|██████████| 18/18 [00:01<00:00, 11.23it/s]"
     ]
    },
    {
     "name": "stdout",
     "output_type": "stream",
     "text": [
      "                   all      0.531      0.929\n"
     ]
    },
    {
     "name": "stderr",
     "output_type": "stream",
     "text": [
      "\n"
     ]
    },
    {
     "name": "stdout",
     "output_type": "stream",
     "text": [
      "\n",
      "      Epoch    GPU_mem       loss  Instances       Size\n"
     ]
    },
    {
     "name": "stderr",
     "output_type": "stream",
     "text": [
      "     90/100      7.46G   0.001366         39        224: 100%|██████████| 223/223 [00:18<00:00, 12.11it/s]\n",
      "               classes   top1_acc   top5_acc: 100%|██████████| 18/18 [00:01<00:00, 11.24it/s]"
     ]
    },
    {
     "name": "stdout",
     "output_type": "stream",
     "text": [
      "                   all      0.532      0.929\n"
     ]
    },
    {
     "name": "stderr",
     "output_type": "stream",
     "text": [
      "\n"
     ]
    },
    {
     "name": "stdout",
     "output_type": "stream",
     "text": [
      "\n",
      "      Epoch    GPU_mem       loss  Instances       Size\n"
     ]
    },
    {
     "name": "stderr",
     "output_type": "stream",
     "text": [
      "     91/100      7.46G   0.001393         39        224: 100%|██████████| 223/223 [00:18<00:00, 11.95it/s]\n",
      "               classes   top1_acc   top5_acc: 100%|██████████| 18/18 [00:01<00:00, 11.48it/s]"
     ]
    },
    {
     "name": "stdout",
     "output_type": "stream",
     "text": [
      "                   all      0.532      0.929\n"
     ]
    },
    {
     "name": "stderr",
     "output_type": "stream",
     "text": [
      "\n"
     ]
    },
    {
     "name": "stdout",
     "output_type": "stream",
     "text": [
      "\n",
      "      Epoch    GPU_mem       loss  Instances       Size\n"
     ]
    },
    {
     "name": "stderr",
     "output_type": "stream",
     "text": [
      "     92/100      7.46G   0.001803         39        224: 100%|██████████| 223/223 [00:18<00:00, 12.02it/s]\n",
      "               classes   top1_acc   top5_acc: 100%|██████████| 18/18 [00:01<00:00, 10.83it/s]"
     ]
    },
    {
     "name": "stdout",
     "output_type": "stream",
     "text": [
      "                   all      0.534       0.93\n"
     ]
    },
    {
     "name": "stderr",
     "output_type": "stream",
     "text": [
      "\n"
     ]
    },
    {
     "name": "stdout",
     "output_type": "stream",
     "text": [
      "\n",
      "      Epoch    GPU_mem       loss  Instances       Size\n"
     ]
    },
    {
     "name": "stderr",
     "output_type": "stream",
     "text": [
      "     93/100      7.46G   0.001069         39        224: 100%|██████████| 223/223 [00:18<00:00, 12.08it/s]\n",
      "               classes   top1_acc   top5_acc: 100%|██████████| 18/18 [00:01<00:00, 11.22it/s]"
     ]
    },
    {
     "name": "stdout",
     "output_type": "stream",
     "text": [
      "                   all      0.536       0.93\n"
     ]
    },
    {
     "name": "stderr",
     "output_type": "stream",
     "text": [
      "\n"
     ]
    },
    {
     "name": "stdout",
     "output_type": "stream",
     "text": [
      "\n",
      "      Epoch    GPU_mem       loss  Instances       Size\n"
     ]
    },
    {
     "name": "stderr",
     "output_type": "stream",
     "text": [
      "     94/100      7.46G  0.0006447         39        224: 100%|██████████| 223/223 [00:18<00:00, 11.99it/s]\n",
      "               classes   top1_acc   top5_acc: 100%|██████████| 18/18 [00:01<00:00, 11.25it/s]"
     ]
    },
    {
     "name": "stdout",
     "output_type": "stream",
     "text": [
      "                   all      0.537      0.931\n"
     ]
    },
    {
     "name": "stderr",
     "output_type": "stream",
     "text": [
      "\n"
     ]
    },
    {
     "name": "stdout",
     "output_type": "stream",
     "text": [
      "\n",
      "      Epoch    GPU_mem       loss  Instances       Size\n"
     ]
    },
    {
     "name": "stderr",
     "output_type": "stream",
     "text": [
      "     95/100      7.46G   0.001135         39        224: 100%|██████████| 223/223 [00:18<00:00, 11.98it/s]\n",
      "               classes   top1_acc   top5_acc: 100%|██████████| 18/18 [00:01<00:00, 11.62it/s]"
     ]
    },
    {
     "name": "stdout",
     "output_type": "stream",
     "text": [
      "                   all      0.537      0.931\n"
     ]
    },
    {
     "name": "stderr",
     "output_type": "stream",
     "text": [
      "\n"
     ]
    },
    {
     "name": "stdout",
     "output_type": "stream",
     "text": [
      "\n",
      "      Epoch    GPU_mem       loss  Instances       Size\n"
     ]
    },
    {
     "name": "stderr",
     "output_type": "stream",
     "text": [
      "     96/100      7.46G   0.001426         39        224: 100%|██████████| 223/223 [00:18<00:00, 12.01it/s]\n",
      "               classes   top1_acc   top5_acc: 100%|██████████| 18/18 [00:01<00:00, 11.30it/s]"
     ]
    },
    {
     "name": "stdout",
     "output_type": "stream",
     "text": [
      "                   all      0.537      0.932\n"
     ]
    },
    {
     "name": "stderr",
     "output_type": "stream",
     "text": [
      "\n"
     ]
    },
    {
     "name": "stdout",
     "output_type": "stream",
     "text": [
      "\n",
      "      Epoch    GPU_mem       loss  Instances       Size\n"
     ]
    },
    {
     "name": "stderr",
     "output_type": "stream",
     "text": [
      "     97/100      7.46G  0.0006823         39        224: 100%|██████████| 223/223 [00:18<00:00, 12.17it/s]\n",
      "               classes   top1_acc   top5_acc: 100%|██████████| 18/18 [00:01<00:00, 11.43it/s]"
     ]
    },
    {
     "name": "stdout",
     "output_type": "stream",
     "text": [
      "                   all      0.537      0.932\n"
     ]
    },
    {
     "name": "stderr",
     "output_type": "stream",
     "text": [
      "\n"
     ]
    },
    {
     "name": "stdout",
     "output_type": "stream",
     "text": [
      "\n",
      "      Epoch    GPU_mem       loss  Instances       Size\n"
     ]
    },
    {
     "name": "stderr",
     "output_type": "stream",
     "text": [
      "     98/100      7.46G   0.001241         39        224: 100%|██████████| 223/223 [00:18<00:00, 12.17it/s]\n",
      "               classes   top1_acc   top5_acc: 100%|██████████| 18/18 [00:01<00:00, 11.20it/s]"
     ]
    },
    {
     "name": "stdout",
     "output_type": "stream",
     "text": [
      "                   all      0.538      0.932\n"
     ]
    },
    {
     "name": "stderr",
     "output_type": "stream",
     "text": [
      "\n"
     ]
    },
    {
     "name": "stdout",
     "output_type": "stream",
     "text": [
      "\n",
      "      Epoch    GPU_mem       loss  Instances       Size\n"
     ]
    },
    {
     "name": "stderr",
     "output_type": "stream",
     "text": [
      "     99/100      7.46G  0.0006585         39        224: 100%|██████████| 223/223 [00:18<00:00, 12.07it/s]\n",
      "               classes   top1_acc   top5_acc: 100%|██████████| 18/18 [00:01<00:00, 11.63it/s]"
     ]
    },
    {
     "name": "stdout",
     "output_type": "stream",
     "text": [
      "                   all      0.539      0.932\n"
     ]
    },
    {
     "name": "stderr",
     "output_type": "stream",
     "text": [
      "\n"
     ]
    },
    {
     "name": "stdout",
     "output_type": "stream",
     "text": [
      "\n",
      "      Epoch    GPU_mem       loss  Instances       Size\n"
     ]
    },
    {
     "name": "stderr",
     "output_type": "stream",
     "text": [
      "    100/100      7.46G  0.0005431         39        224: 100%|██████████| 223/223 [00:18<00:00, 11.97it/s]\n",
      "               classes   top1_acc   top5_acc: 100%|██████████| 18/18 [00:01<00:00, 11.02it/s]"
     ]
    },
    {
     "name": "stdout",
     "output_type": "stream",
     "text": [
      "                   all      0.539      0.933\n"
     ]
    },
    {
     "name": "stderr",
     "output_type": "stream",
     "text": [
      "\n"
     ]
    },
    {
     "name": "stdout",
     "output_type": "stream",
     "text": [
      "\n",
      "100 epochs completed in 0.578 hours.\n",
      "Optimizer stripped from C:\\Users\\Informatica_UNICAM\\Desktop\\csd\\activity-recognition\\runs\\classify\\custom_yolo7\\weights\\last.pt, 57.0MB\n",
      "Optimizer stripped from C:\\Users\\Informatica_UNICAM\\Desktop\\csd\\activity-recognition\\runs\\classify\\custom_yolo7\\weights\\best.pt, 57.0MB\n",
      "\n",
      "Validating C:\\Users\\Informatica_UNICAM\\Desktop\\csd\\activity-recognition\\runs\\classify\\custom_yolo7\\weights\\best.pt...\n",
      "Ultralytics 8.3.40  Python-3.10.11 torch-2.5.1+cu124 CUDA:0 (NVIDIA GeForce RTX 4090, 24564MiB)\n",
      "YOLO11x-cls summary (fused): 227 layers, 28,347,788 parameters, 0 gradients, 110.3 GFLOPs\n",
      "\u001b[34m\u001b[1mtrain:\u001b[0m C:\\Users\\Informatica_UNICAM\\Desktop\\csd\\activity-recognition\\YOLO_dataset_classification\\train... found 14247 images in 12 classes  \n",
      "\u001b[34m\u001b[1mval:\u001b[0m C:\\Users\\Informatica_UNICAM\\Desktop\\csd\\activity-recognition\\YOLO_dataset_classification\\val... found 2295 images in 12 classes  \n",
      "\u001b[34m\u001b[1mtest:\u001b[0m C:\\Users\\Informatica_UNICAM\\Desktop\\csd\\activity-recognition\\YOLO_dataset_classification\\test... found 2341 images in 12 classes  \n"
     ]
    },
    {
     "name": "stderr",
     "output_type": "stream",
     "text": [
      "               classes   top1_acc   top5_acc: 100%|██████████| 18/18 [00:01<00:00, 11.42it/s]\n"
     ]
    },
    {
     "name": "stdout",
     "output_type": "stream",
     "text": [
      "                   all      0.637      0.993\n",
      "Speed: 0.0ms preprocess, 0.3ms inference, 0.0ms loss, 0.0ms postprocess per image\n",
      "Results saved to \u001b[1mC:\\Users\\Informatica_UNICAM\\Desktop\\csd\\activity-recognition\\runs\\classify\\custom_yolo7\u001b[0m\n",
      "Ultralytics 8.3.40  Python-3.10.11 torch-2.5.1+cu124 CPU (Intel Core(TM) i9-14900K)\n",
      "YOLO11x-cls summary (fused): 227 layers, 28,347,788 parameters, 0 gradients, 110.3 GFLOPs\n",
      "\n",
      "\u001b[34m\u001b[1mPyTorch:\u001b[0m starting from 'C:\\Users\\Informatica_UNICAM\\Desktop\\csd\\activity-recognition\\runs\\classify\\custom_yolo7\\weights\\best.pt' with input shape (1, 3, 224, 224) BCHW and output shape(s) (1, 12) (54.4 MB)\n",
      "\n",
      "\u001b[34m\u001b[1mTorchScript:\u001b[0m starting export with torch 2.5.1+cu124...\n",
      "\u001b[34m\u001b[1mTorchScript:\u001b[0m export success  1.2s, saved as 'C:\\Users\\Informatica_UNICAM\\Desktop\\csd\\activity-recognition\\runs\\classify\\custom_yolo7\\weights\\best.torchscript' (108.6 MB)\n",
      "\n",
      "Export complete (1.6s)\n",
      "Results saved to \u001b[1mC:\\Users\\Informatica_UNICAM\\Desktop\\csd\\activity-recognition\\runs\\classify\\custom_yolo7\\weights\u001b[0m\n",
      "Predict:         yolo predict task=classify model=C:\\Users\\Informatica_UNICAM\\Desktop\\csd\\activity-recognition\\runs\\classify\\custom_yolo7\\weights\\best.torchscript imgsz=224  \n",
      "Validate:        yolo val task=classify model=C:\\Users\\Informatica_UNICAM\\Desktop\\csd\\activity-recognition\\runs\\classify\\custom_yolo7\\weights\\best.torchscript imgsz=224 data=C:/Users/Informatica_UNICAM/Desktop/csd/activity-recognition/YOLO_dataset_classification/  \n",
      "Visualize:       https://netron.app\n"
     ]
    },
    {
     "data": {
      "text/plain": [
       "'C:\\\\Users\\\\Informatica_UNICAM\\\\Desktop\\\\csd\\\\activity-recognition\\\\runs\\\\classify\\\\custom_yolo7\\\\weights\\\\best.torchscript'"
      ]
     },
     "execution_count": 18,
     "metadata": {},
     "output_type": "execute_result"
    }
   ],
   "source": [
    "model = YOLO(\"yolo11x-cls.pt\")\n",
    "results = model.train(data=\"C:/Users/Informatica_UNICAM/Desktop/csd/activity-recognition/YOLO_dataset_classification/\",\n",
    "    epochs=100,                             # Numero di epoche\n",
    "    imgsz=224,                             # Dimensione delle immagini\n",
    "    batch=64,                              # Dimensione del batch\n",
    "    workers=4,                             # Numero di worker\n",
    "    device=0,                              # '0' per GPU, 'cpu' per CPU\n",
    "    name='custom_yolo',                     # Nome del progetto)\n",
    ")\n",
    "model.export()"
   ]
  },
  {
   "cell_type": "code",
   "execution_count": 23,
   "metadata": {},
   "outputs": [
    {
     "name": "stdout",
     "output_type": "stream",
     "text": [
      "\n",
      "\n",
      "WARNING  inference results will accumulate in RAM unless `stream=True` is passed, causing potential out-of-memory\n",
      "errors for large sources or long-running streams and videos. See https://docs.ultralytics.com/modes/predict/ for help.\n",
      "\n",
      "Example:\n",
      "    results = model(source=..., stream=True)  # generator of Results objects\n",
      "    for r in results:\n",
      "        boxes = r.boxes  # Boxes object for bbox outputs\n",
      "        masks = r.masks  # Masks object for segment masks outputs\n",
      "        probs = r.probs  # Class probabilities for classification outputs\n",
      "\n",
      "video 1/1 (frame 1/92) C:\\Users\\Informatica_UNICAM\\Desktop\\csd\\activity-recognition\\atlas_dione_objectdetection\\ATLAS_Dione_ObjectDetection\\ATLAS_Dione_ObjectDetection_Study_ActionClips\\ATLAS_Dione_ObjectDetection_Study_ActionClips\\set12\\set12V013.mkv: 224x224 Placing Rings 0.68, Placing Rings 2 arms 0.32, UVA Tie 0.00, UVA Pick Up 0.00, Suture Pick Up 0.00, 34.1ms\n",
      "video 1/1 (frame 2/92) C:\\Users\\Informatica_UNICAM\\Desktop\\csd\\activity-recognition\\atlas_dione_objectdetection\\ATLAS_Dione_ObjectDetection\\ATLAS_Dione_ObjectDetection_Study_ActionClips\\ATLAS_Dione_ObjectDetection_Study_ActionClips\\set12\\set12V013.mkv: 224x224 Placing Rings 2 arms 0.61, Placing Rings 0.39, UVA Tie 0.00, Pull Off 0.00, UVA Pick Up 0.00, 40.7ms\n",
      "video 1/1 (frame 3/92) C:\\Users\\Informatica_UNICAM\\Desktop\\csd\\activity-recognition\\atlas_dione_objectdetection\\ATLAS_Dione_ObjectDetection\\ATLAS_Dione_ObjectDetection_Study_ActionClips\\ATLAS_Dione_ObjectDetection_Study_ActionClips\\set12\\set12V013.mkv: 224x224 Placing Rings 2 arms 0.51, Placing Rings 0.49, UVA Tie 0.00, Pull Off 0.00, Suture Pick Up 0.00, 31.3ms\n",
      "video 1/1 (frame 4/92) C:\\Users\\Informatica_UNICAM\\Desktop\\csd\\activity-recognition\\atlas_dione_objectdetection\\ATLAS_Dione_ObjectDetection\\ATLAS_Dione_ObjectDetection_Study_ActionClips\\ATLAS_Dione_ObjectDetection_Study_ActionClips\\set12\\set12V013.mkv: 224x224 Placing Rings 2 arms 0.52, Placing Rings 0.48, UVA Tie 0.00, Pull Off 0.00, Suture Pick Up 0.00, 32.0ms\n",
      "video 1/1 (frame 5/92) C:\\Users\\Informatica_UNICAM\\Desktop\\csd\\activity-recognition\\atlas_dione_objectdetection\\ATLAS_Dione_ObjectDetection\\ATLAS_Dione_ObjectDetection_Study_ActionClips\\ATLAS_Dione_ObjectDetection_Study_ActionClips\\set12\\set12V013.mkv: 224x224 Placing Rings 2 arms 0.57, Placing Rings 0.43, UVA Tie 0.00, Pull Off 0.00, UVA Pick Up 0.00, 30.1ms\n",
      "video 1/1 (frame 6/92) C:\\Users\\Informatica_UNICAM\\Desktop\\csd\\activity-recognition\\atlas_dione_objectdetection\\ATLAS_Dione_ObjectDetection\\ATLAS_Dione_ObjectDetection_Study_ActionClips\\ATLAS_Dione_ObjectDetection_Study_ActionClips\\set12\\set12V013.mkv: 224x224 Placing Rings 2 arms 0.56, Placing Rings 0.44, UVA Tie 0.00, Pull Off 0.00, UVA Pick Up 0.00, 0.0ms\n",
      "video 1/1 (frame 7/92) C:\\Users\\Informatica_UNICAM\\Desktop\\csd\\activity-recognition\\atlas_dione_objectdetection\\ATLAS_Dione_ObjectDetection\\ATLAS_Dione_ObjectDetection_Study_ActionClips\\ATLAS_Dione_ObjectDetection_Study_ActionClips\\set12\\set12V013.mkv: 224x224 Placing Rings 2 arms 0.50, Placing Rings 0.49, UVA Tie 0.00, Pull Off 0.00, Suture Pick Up 0.00, 1.6ms\n",
      "video 1/1 (frame 8/92) C:\\Users\\Informatica_UNICAM\\Desktop\\csd\\activity-recognition\\atlas_dione_objectdetection\\ATLAS_Dione_ObjectDetection\\ATLAS_Dione_ObjectDetection_Study_ActionClips\\ATLAS_Dione_ObjectDetection_Study_ActionClips\\set12\\set12V013.mkv: 224x224 Placing Rings 0.64, Placing Rings 2 arms 0.36, UVA Tie 0.00, Pull Off 0.00, Suture Pick Up 0.00, 16.5ms\n",
      "video 1/1 (frame 9/92) C:\\Users\\Informatica_UNICAM\\Desktop\\csd\\activity-recognition\\atlas_dione_objectdetection\\ATLAS_Dione_ObjectDetection\\ATLAS_Dione_ObjectDetection_Study_ActionClips\\ATLAS_Dione_ObjectDetection_Study_ActionClips\\set12\\set12V013.mkv: 224x224 Placing Rings 0.82, Placing Rings 2 arms 0.18, UVA Tie 0.00, Pull Off 0.00, UVA Pick Up 0.00, 0.0ms\n",
      "video 1/1 (frame 10/92) C:\\Users\\Informatica_UNICAM\\Desktop\\csd\\activity-recognition\\atlas_dione_objectdetection\\ATLAS_Dione_ObjectDetection\\ATLAS_Dione_ObjectDetection_Study_ActionClips\\ATLAS_Dione_ObjectDetection_Study_ActionClips\\set12\\set12V013.mkv: 224x224 Placing Rings 0.86, Placing Rings 2 arms 0.14, Pull Off 0.00, UVA Tie 0.00, UVA Pick Up 0.00, 1.9ms\n",
      "video 1/1 (frame 11/92) C:\\Users\\Informatica_UNICAM\\Desktop\\csd\\activity-recognition\\atlas_dione_objectdetection\\ATLAS_Dione_ObjectDetection\\ATLAS_Dione_ObjectDetection_Study_ActionClips\\ATLAS_Dione_ObjectDetection_Study_ActionClips\\set12\\set12V013.mkv: 224x224 Placing Rings 0.82, Placing Rings 2 arms 0.18, UVA Tie 0.00, Pull Off 0.00, UVA Pick Up 0.00, 14.7ms\n",
      "video 1/1 (frame 12/92) C:\\Users\\Informatica_UNICAM\\Desktop\\csd\\activity-recognition\\atlas_dione_objectdetection\\ATLAS_Dione_ObjectDetection\\ATLAS_Dione_ObjectDetection_Study_ActionClips\\ATLAS_Dione_ObjectDetection_Study_ActionClips\\set12\\set12V013.mkv: 224x224 Placing Rings 0.79, Placing Rings 2 arms 0.21, UVA Tie 0.00, Pull Off 0.00, UVA Pick Up 0.00, 0.0ms\n",
      "video 1/1 (frame 13/92) C:\\Users\\Informatica_UNICAM\\Desktop\\csd\\activity-recognition\\atlas_dione_objectdetection\\ATLAS_Dione_ObjectDetection\\ATLAS_Dione_ObjectDetection_Study_ActionClips\\ATLAS_Dione_ObjectDetection_Study_ActionClips\\set12\\set12V013.mkv: 224x224 Placing Rings 0.82, Placing Rings 2 arms 0.18, UVA Tie 0.00, Pull Off 0.00, UVA Pick Up 0.00, 2.5ms\n",
      "video 1/1 (frame 14/92) C:\\Users\\Informatica_UNICAM\\Desktop\\csd\\activity-recognition\\atlas_dione_objectdetection\\ATLAS_Dione_ObjectDetection\\ATLAS_Dione_ObjectDetection_Study_ActionClips\\ATLAS_Dione_ObjectDetection_Study_ActionClips\\set12\\set12V013.mkv: 224x224 Placing Rings 0.84, Placing Rings 2 arms 0.16, UVA Tie 0.00, Pull Off 0.00, UVA Pick Up 0.00, 14.1ms\n",
      "video 1/1 (frame 15/92) C:\\Users\\Informatica_UNICAM\\Desktop\\csd\\activity-recognition\\atlas_dione_objectdetection\\ATLAS_Dione_ObjectDetection\\ATLAS_Dione_ObjectDetection_Study_ActionClips\\ATLAS_Dione_ObjectDetection_Study_ActionClips\\set12\\set12V013.mkv: 224x224 Placing Rings 0.75, Placing Rings 2 arms 0.25, UVA Tie 0.00, Pull Off 0.00, UVA Pick Up 0.00, 0.0ms\n",
      "video 1/1 (frame 16/92) C:\\Users\\Informatica_UNICAM\\Desktop\\csd\\activity-recognition\\atlas_dione_objectdetection\\ATLAS_Dione_ObjectDetection\\ATLAS_Dione_ObjectDetection_Study_ActionClips\\ATLAS_Dione_ObjectDetection_Study_ActionClips\\set12\\set12V013.mkv: 224x224 Placing Rings 0.80, Placing Rings 2 arms 0.19, UVA Tie 0.00, Pull Off 0.00, Pull Through 0.00, 2.5ms\n",
      "video 1/1 (frame 17/92) C:\\Users\\Informatica_UNICAM\\Desktop\\csd\\activity-recognition\\atlas_dione_objectdetection\\ATLAS_Dione_ObjectDetection\\ATLAS_Dione_ObjectDetection_Study_ActionClips\\ATLAS_Dione_ObjectDetection_Study_ActionClips\\set12\\set12V013.mkv: 224x224 Placing Rings 0.79, Placing Rings 2 arms 0.20, UVA Tie 0.00, Pull Off 0.00, Pull Through 0.00, 14.2ms\n",
      "video 1/1 (frame 18/92) C:\\Users\\Informatica_UNICAM\\Desktop\\csd\\activity-recognition\\atlas_dione_objectdetection\\ATLAS_Dione_ObjectDetection\\ATLAS_Dione_ObjectDetection_Study_ActionClips\\ATLAS_Dione_ObjectDetection_Study_ActionClips\\set12\\set12V013.mkv: 224x224 Placing Rings 0.79, Placing Rings 2 arms 0.21, UVA Tie 0.00, Pull Off 0.00, UVA Pick Up 0.00, 0.0ms\n",
      "video 1/1 (frame 19/92) C:\\Users\\Informatica_UNICAM\\Desktop\\csd\\activity-recognition\\atlas_dione_objectdetection\\ATLAS_Dione_ObjectDetection\\ATLAS_Dione_ObjectDetection_Study_ActionClips\\ATLAS_Dione_ObjectDetection_Study_ActionClips\\set12\\set12V013.mkv: 224x224 Placing Rings 0.83, Placing Rings 2 arms 0.17, UVA Tie 0.00, Pull Off 0.00, UVA Pick Up 0.00, 17.1ms\n",
      "video 1/1 (frame 20/92) C:\\Users\\Informatica_UNICAM\\Desktop\\csd\\activity-recognition\\atlas_dione_objectdetection\\ATLAS_Dione_ObjectDetection\\ATLAS_Dione_ObjectDetection_Study_ActionClips\\ATLAS_Dione_ObjectDetection_Study_ActionClips\\set12\\set12V013.mkv: 224x224 Placing Rings 0.86, Placing Rings 2 arms 0.14, UVA Tie 0.00, Pull Off 0.00, UVA Pick Up 0.00, 0.0ms\n",
      "video 1/1 (frame 21/92) C:\\Users\\Informatica_UNICAM\\Desktop\\csd\\activity-recognition\\atlas_dione_objectdetection\\ATLAS_Dione_ObjectDetection\\ATLAS_Dione_ObjectDetection_Study_ActionClips\\ATLAS_Dione_ObjectDetection_Study_ActionClips\\set12\\set12V013.mkv: 224x224 Placing Rings 0.79, Placing Rings 2 arms 0.21, UVA Tie 0.00, Pull Off 0.00, UVA Pick Up 0.00, 0.0ms\n",
      "video 1/1 (frame 22/92) C:\\Users\\Informatica_UNICAM\\Desktop\\csd\\activity-recognition\\atlas_dione_objectdetection\\ATLAS_Dione_ObjectDetection\\ATLAS_Dione_ObjectDetection_Study_ActionClips\\ATLAS_Dione_ObjectDetection_Study_ActionClips\\set12\\set12V013.mkv: 224x224 Placing Rings 0.79, Placing Rings 2 arms 0.21, UVA Tie 0.00, Pull Off 0.00, UVA Pick Up 0.00, 17.7ms\n",
      "video 1/1 (frame 23/92) C:\\Users\\Informatica_UNICAM\\Desktop\\csd\\activity-recognition\\atlas_dione_objectdetection\\ATLAS_Dione_ObjectDetection\\ATLAS_Dione_ObjectDetection_Study_ActionClips\\ATLAS_Dione_ObjectDetection_Study_ActionClips\\set12\\set12V013.mkv: 224x224 Placing Rings 0.85, Placing Rings 2 arms 0.15, UVA Tie 0.00, Pull Off 0.00, UVA Pick Up 0.00, 0.0ms\n",
      "video 1/1 (frame 24/92) C:\\Users\\Informatica_UNICAM\\Desktop\\csd\\activity-recognition\\atlas_dione_objectdetection\\ATLAS_Dione_ObjectDetection\\ATLAS_Dione_ObjectDetection_Study_ActionClips\\ATLAS_Dione_ObjectDetection_Study_ActionClips\\set12\\set12V013.mkv: 224x224 Placing Rings 0.86, Placing Rings 2 arms 0.14, UVA Tie 0.00, Pull Off 0.00, UVA Pick Up 0.00, 0.9ms\n",
      "video 1/1 (frame 25/92) C:\\Users\\Informatica_UNICAM\\Desktop\\csd\\activity-recognition\\atlas_dione_objectdetection\\ATLAS_Dione_ObjectDetection\\ATLAS_Dione_ObjectDetection_Study_ActionClips\\ATLAS_Dione_ObjectDetection_Study_ActionClips\\set12\\set12V013.mkv: 224x224 Placing Rings 0.82, Placing Rings 2 arms 0.18, UVA Tie 0.00, Pull Off 0.00, UVA Pick Up 0.00, 16.3ms\n",
      "video 1/1 (frame 26/92) C:\\Users\\Informatica_UNICAM\\Desktop\\csd\\activity-recognition\\atlas_dione_objectdetection\\ATLAS_Dione_ObjectDetection\\ATLAS_Dione_ObjectDetection_Study_ActionClips\\ATLAS_Dione_ObjectDetection_Study_ActionClips\\set12\\set12V013.mkv: 224x224 Placing Rings 0.88, Placing Rings 2 arms 0.12, UVA Tie 0.00, Pull Off 0.00, UVA Pick Up 0.00, 2.3ms\n",
      "video 1/1 (frame 27/92) C:\\Users\\Informatica_UNICAM\\Desktop\\csd\\activity-recognition\\atlas_dione_objectdetection\\ATLAS_Dione_ObjectDetection\\ATLAS_Dione_ObjectDetection_Study_ActionClips\\ATLAS_Dione_ObjectDetection_Study_ActionClips\\set12\\set12V013.mkv: 224x224 Placing Rings 0.86, Placing Rings 2 arms 0.14, UVA Tie 0.00, UVA Pick Up 0.00, Pull Off 0.00, 5.0ms\n",
      "video 1/1 (frame 28/92) C:\\Users\\Informatica_UNICAM\\Desktop\\csd\\activity-recognition\\atlas_dione_objectdetection\\ATLAS_Dione_ObjectDetection\\ATLAS_Dione_ObjectDetection_Study_ActionClips\\ATLAS_Dione_ObjectDetection_Study_ActionClips\\set12\\set12V013.mkv: 224x224 Placing Rings 0.90, Placing Rings 2 arms 0.10, UVA Tie 0.00, Pull Off 0.00, UVA Pick Up 0.00, 5.3ms\n",
      "video 1/1 (frame 29/92) C:\\Users\\Informatica_UNICAM\\Desktop\\csd\\activity-recognition\\atlas_dione_objectdetection\\ATLAS_Dione_ObjectDetection\\ATLAS_Dione_ObjectDetection_Study_ActionClips\\ATLAS_Dione_ObjectDetection_Study_ActionClips\\set12\\set12V013.mkv: 224x224 Placing Rings 0.93, Placing Rings 2 arms 0.06, UVA Tie 0.00, Pull Off 0.00, UVA Pick Up 0.00, 5.0ms\n",
      "video 1/1 (frame 30/92) C:\\Users\\Informatica_UNICAM\\Desktop\\csd\\activity-recognition\\atlas_dione_objectdetection\\ATLAS_Dione_ObjectDetection\\ATLAS_Dione_ObjectDetection_Study_ActionClips\\ATLAS_Dione_ObjectDetection_Study_ActionClips\\set12\\set12V013.mkv: 224x224 Placing Rings 0.95, Placing Rings 2 arms 0.05, UVA Tie 0.00, UVA Pick Up 0.00, Suture Pick Up 0.00, 4.4ms\n",
      "video 1/1 (frame 31/92) C:\\Users\\Informatica_UNICAM\\Desktop\\csd\\activity-recognition\\atlas_dione_objectdetection\\ATLAS_Dione_ObjectDetection\\ATLAS_Dione_ObjectDetection_Study_ActionClips\\ATLAS_Dione_ObjectDetection_Study_ActionClips\\set12\\set12V013.mkv: 224x224 Placing Rings 0.93, Placing Rings 2 arms 0.07, UVA Tie 0.00, Pull Off 0.00, Suture Pull Through 0.00, 11.3ms\n",
      "video 1/1 (frame 32/92) C:\\Users\\Informatica_UNICAM\\Desktop\\csd\\activity-recognition\\atlas_dione_objectdetection\\ATLAS_Dione_ObjectDetection\\ATLAS_Dione_ObjectDetection_Study_ActionClips\\ATLAS_Dione_ObjectDetection_Study_ActionClips\\set12\\set12V013.mkv: 224x224 Placing Rings 0.80, Placing Rings 2 arms 0.20, UVA Tie 0.00, UVA Pick Up 0.00, Pull Off 0.00, 2.9ms\n",
      "video 1/1 (frame 33/92) C:\\Users\\Informatica_UNICAM\\Desktop\\csd\\activity-recognition\\atlas_dione_objectdetection\\ATLAS_Dione_ObjectDetection\\ATLAS_Dione_ObjectDetection_Study_ActionClips\\ATLAS_Dione_ObjectDetection_Study_ActionClips\\set12\\set12V013.mkv: 224x224 Placing Rings 0.61, Placing Rings 2 arms 0.39, UVA Tie 0.00, Pull Off 0.00, UVA Pick Up 0.00, 13.7ms\n",
      "video 1/1 (frame 34/92) C:\\Users\\Informatica_UNICAM\\Desktop\\csd\\activity-recognition\\atlas_dione_objectdetection\\ATLAS_Dione_ObjectDetection\\ATLAS_Dione_ObjectDetection_Study_ActionClips\\ATLAS_Dione_ObjectDetection_Study_ActionClips\\set12\\set12V013.mkv: 224x224 Placing Rings 0.69, Placing Rings 2 arms 0.31, UVA Tie 0.00, Pull Off 0.00, Suture Pull Through 0.00, 6.0ms\n",
      "video 1/1 (frame 35/92) C:\\Users\\Informatica_UNICAM\\Desktop\\csd\\activity-recognition\\atlas_dione_objectdetection\\ATLAS_Dione_ObjectDetection\\ATLAS_Dione_ObjectDetection_Study_ActionClips\\ATLAS_Dione_ObjectDetection_Study_ActionClips\\set12\\set12V013.mkv: 224x224 Placing Rings 0.58, Placing Rings 2 arms 0.42, UVA Tie 0.00, Suture Pull Through 0.00, Suture Pick Up 0.00, 6.0ms\n",
      "video 1/1 (frame 36/92) C:\\Users\\Informatica_UNICAM\\Desktop\\csd\\activity-recognition\\atlas_dione_objectdetection\\ATLAS_Dione_ObjectDetection\\ATLAS_Dione_ObjectDetection_Study_ActionClips\\ATLAS_Dione_ObjectDetection_Study_ActionClips\\set12\\set12V013.mkv: 224x224 Placing Rings 0.50, Placing Rings 2 arms 0.49, UVA Tie 0.00, UVA Pick Up 0.00, Suture Pull Through 0.00, 3.0ms\n",
      "video 1/1 (frame 37/92) C:\\Users\\Informatica_UNICAM\\Desktop\\csd\\activity-recognition\\atlas_dione_objectdetection\\ATLAS_Dione_ObjectDetection\\ATLAS_Dione_ObjectDetection_Study_ActionClips\\ATLAS_Dione_ObjectDetection_Study_ActionClips\\set12\\set12V013.mkv: 224x224 Placing Rings 0.80, Placing Rings 2 arms 0.19, UVA Tie 0.00, Suture Pull Through 0.00, Pull Off 0.00, 14.6ms\n",
      "video 1/1 (frame 38/92) C:\\Users\\Informatica_UNICAM\\Desktop\\csd\\activity-recognition\\atlas_dione_objectdetection\\ATLAS_Dione_ObjectDetection\\ATLAS_Dione_ObjectDetection_Study_ActionClips\\ATLAS_Dione_ObjectDetection_Study_ActionClips\\set12\\set12V013.mkv: 224x224 Placing Rings 0.98, Placing Rings 2 arms 0.02, UVA Tie 0.00, Pull Off 0.00, UVA Pick Up 0.00, 1.7ms\n",
      "video 1/1 (frame 39/92) C:\\Users\\Informatica_UNICAM\\Desktop\\csd\\activity-recognition\\atlas_dione_objectdetection\\ATLAS_Dione_ObjectDetection\\ATLAS_Dione_ObjectDetection_Study_ActionClips\\ATLAS_Dione_ObjectDetection_Study_ActionClips\\set12\\set12V013.mkv: 224x224 Placing Rings 0.98, Placing Rings 2 arms 0.02, UVA Tie 0.00, Pull Off 0.00, UVA Pick Up 0.00, 4.8ms\n",
      "video 1/1 (frame 40/92) C:\\Users\\Informatica_UNICAM\\Desktop\\csd\\activity-recognition\\atlas_dione_objectdetection\\ATLAS_Dione_ObjectDetection\\ATLAS_Dione_ObjectDetection_Study_ActionClips\\ATLAS_Dione_ObjectDetection_Study_ActionClips\\set12\\set12V013.mkv: 224x224 Placing Rings 0.98, Placing Rings 2 arms 0.01, UVA Tie 0.00, Pull Off 0.00, UVA Pick Up 0.00, 11.9ms\n",
      "video 1/1 (frame 41/92) C:\\Users\\Informatica_UNICAM\\Desktop\\csd\\activity-recognition\\atlas_dione_objectdetection\\ATLAS_Dione_ObjectDetection\\ATLAS_Dione_ObjectDetection_Study_ActionClips\\ATLAS_Dione_ObjectDetection_Study_ActionClips\\set12\\set12V013.mkv: 224x224 Placing Rings 0.99, Placing Rings 2 arms 0.01, UVA Tie 0.00, Pull Off 0.00, Suture Pull Through 0.00, 2.1ms\n",
      "video 1/1 (frame 42/92) C:\\Users\\Informatica_UNICAM\\Desktop\\csd\\activity-recognition\\atlas_dione_objectdetection\\ATLAS_Dione_ObjectDetection\\ATLAS_Dione_ObjectDetection_Study_ActionClips\\ATLAS_Dione_ObjectDetection_Study_ActionClips\\set12\\set12V013.mkv: 224x224 Placing Rings 0.96, Placing Rings 2 arms 0.04, UVA Tie 0.00, Pull Off 0.00, Suture Pull Through 0.00, 5.1ms\n",
      "video 1/1 (frame 43/92) C:\\Users\\Informatica_UNICAM\\Desktop\\csd\\activity-recognition\\atlas_dione_objectdetection\\ATLAS_Dione_ObjectDetection\\ATLAS_Dione_ObjectDetection_Study_ActionClips\\ATLAS_Dione_ObjectDetection_Study_ActionClips\\set12\\set12V013.mkv: 224x224 Placing Rings 0.97, Placing Rings 2 arms 0.03, UVA Tie 0.00, Pull Off 0.00, Suture Pull Through 0.00, 8.0ms\n",
      "video 1/1 (frame 44/92) C:\\Users\\Informatica_UNICAM\\Desktop\\csd\\activity-recognition\\atlas_dione_objectdetection\\ATLAS_Dione_ObjectDetection\\ATLAS_Dione_ObjectDetection_Study_ActionClips\\ATLAS_Dione_ObjectDetection_Study_ActionClips\\set12\\set12V013.mkv: 224x224 Placing Rings 0.95, Placing Rings 2 arms 0.04, UVA Tie 0.00, Pull Off 0.00, Suture Pull Through 0.00, 5.0ms\n",
      "video 1/1 (frame 45/92) C:\\Users\\Informatica_UNICAM\\Desktop\\csd\\activity-recognition\\atlas_dione_objectdetection\\ATLAS_Dione_ObjectDetection\\ATLAS_Dione_ObjectDetection_Study_ActionClips\\ATLAS_Dione_ObjectDetection_Study_ActionClips\\set12\\set12V013.mkv: 224x224 Placing Rings 0.99, Placing Rings 2 arms 0.01, UVA Tie 0.00, Suture Pull Through 0.00, Pull Off 0.00, 16.3ms\n",
      "video 1/1 (frame 46/92) C:\\Users\\Informatica_UNICAM\\Desktop\\csd\\activity-recognition\\atlas_dione_objectdetection\\ATLAS_Dione_ObjectDetection\\ATLAS_Dione_ObjectDetection_Study_ActionClips\\ATLAS_Dione_ObjectDetection_Study_ActionClips\\set12\\set12V013.mkv: 224x224 Placing Rings 1.00, Placing Rings 2 arms 0.00, UVA Tie 0.00, Suture Pull Through 0.00, 2 arms placing 0.00, 0.0ms\n",
      "video 1/1 (frame 47/92) C:\\Users\\Informatica_UNICAM\\Desktop\\csd\\activity-recognition\\atlas_dione_objectdetection\\ATLAS_Dione_ObjectDetection\\ATLAS_Dione_ObjectDetection_Study_ActionClips\\ATLAS_Dione_ObjectDetection_Study_ActionClips\\set12\\set12V013.mkv: 224x224 Placing Rings 0.99, Placing Rings 2 arms 0.01, UVA Tie 0.00, Suture Pull Through 0.00, 2 arms placing 0.00, 17.5ms\n",
      "video 1/1 (frame 48/92) C:\\Users\\Informatica_UNICAM\\Desktop\\csd\\activity-recognition\\atlas_dione_objectdetection\\ATLAS_Dione_ObjectDetection\\ATLAS_Dione_ObjectDetection_Study_ActionClips\\ATLAS_Dione_ObjectDetection_Study_ActionClips\\set12\\set12V013.mkv: 224x224 Placing Rings 0.98, Placing Rings 2 arms 0.01, UVA Tie 0.00, Suture Pull Through 0.00, 2 arms placing 0.00, 16.2ms\n",
      "video 1/1 (frame 49/92) C:\\Users\\Informatica_UNICAM\\Desktop\\csd\\activity-recognition\\atlas_dione_objectdetection\\ATLAS_Dione_ObjectDetection\\ATLAS_Dione_ObjectDetection_Study_ActionClips\\ATLAS_Dione_ObjectDetection_Study_ActionClips\\set12\\set12V013.mkv: 224x224 Placing Rings 0.98, Placing Rings 2 arms 0.01, UVA Tie 0.00, Suture Pull Through 0.00, 2 arms placing 0.00, 0.0ms\n",
      "video 1/1 (frame 50/92) C:\\Users\\Informatica_UNICAM\\Desktop\\csd\\activity-recognition\\atlas_dione_objectdetection\\ATLAS_Dione_ObjectDetection\\ATLAS_Dione_ObjectDetection_Study_ActionClips\\ATLAS_Dione_ObjectDetection_Study_ActionClips\\set12\\set12V013.mkv: 224x224 Placing Rings 0.98, Placing Rings 2 arms 0.01, UVA Tie 0.00, Suture Pull Through 0.00, 2 arms placing 0.00, 3.8ms\n",
      "video 1/1 (frame 51/92) C:\\Users\\Informatica_UNICAM\\Desktop\\csd\\activity-recognition\\atlas_dione_objectdetection\\ATLAS_Dione_ObjectDetection\\ATLAS_Dione_ObjectDetection_Study_ActionClips\\ATLAS_Dione_ObjectDetection_Study_ActionClips\\set12\\set12V013.mkv: 224x224 Placing Rings 0.99, Placing Rings 2 arms 0.01, UVA Tie 0.00, Suture Pull Through 0.00, 2 arms placing 0.00, 13.6ms\n",
      "video 1/1 (frame 52/92) C:\\Users\\Informatica_UNICAM\\Desktop\\csd\\activity-recognition\\atlas_dione_objectdetection\\ATLAS_Dione_ObjectDetection\\ATLAS_Dione_ObjectDetection_Study_ActionClips\\ATLAS_Dione_ObjectDetection_Study_ActionClips\\set12\\set12V013.mkv: 224x224 Placing Rings 0.98, Placing Rings 2 arms 0.02, UVA Tie 0.00, 2 arms placing 0.00, Suture Pull Through 0.00, 3.6ms\n",
      "video 1/1 (frame 53/92) C:\\Users\\Informatica_UNICAM\\Desktop\\csd\\activity-recognition\\atlas_dione_objectdetection\\ATLAS_Dione_ObjectDetection\\ATLAS_Dione_ObjectDetection_Study_ActionClips\\ATLAS_Dione_ObjectDetection_Study_ActionClips\\set12\\set12V013.mkv: 224x224 Placing Rings 0.98, Placing Rings 2 arms 0.01, UVA Tie 0.00, Suture Pull Through 0.00, 2 arms placing 0.00, 6.3ms\n",
      "video 1/1 (frame 54/92) C:\\Users\\Informatica_UNICAM\\Desktop\\csd\\activity-recognition\\atlas_dione_objectdetection\\ATLAS_Dione_ObjectDetection\\ATLAS_Dione_ObjectDetection_Study_ActionClips\\ATLAS_Dione_ObjectDetection_Study_ActionClips\\set12\\set12V013.mkv: 224x224 Placing Rings 0.98, Placing Rings 2 arms 0.02, UVA Tie 0.00, Suture Pull Through 0.00, 2 arms placing 0.00, 5.8ms\n",
      "video 1/1 (frame 55/92) C:\\Users\\Informatica_UNICAM\\Desktop\\csd\\activity-recognition\\atlas_dione_objectdetection\\ATLAS_Dione_ObjectDetection\\ATLAS_Dione_ObjectDetection_Study_ActionClips\\ATLAS_Dione_ObjectDetection_Study_ActionClips\\set12\\set12V013.mkv: 224x224 Placing Rings 0.95, Placing Rings 2 arms 0.04, UVA Tie 0.00, Suture Pull Through 0.00, 2 arms placing 0.00, 6.0ms\n",
      "video 1/1 (frame 56/92) C:\\Users\\Informatica_UNICAM\\Desktop\\csd\\activity-recognition\\atlas_dione_objectdetection\\ATLAS_Dione_ObjectDetection\\ATLAS_Dione_ObjectDetection_Study_ActionClips\\ATLAS_Dione_ObjectDetection_Study_ActionClips\\set12\\set12V013.mkv: 224x224 Placing Rings 0.96, Placing Rings 2 arms 0.03, UVA Tie 0.00, Suture Pull Through 0.00, 2 arms placing 0.00, 3.7ms\n",
      "video 1/1 (frame 57/92) C:\\Users\\Informatica_UNICAM\\Desktop\\csd\\activity-recognition\\atlas_dione_objectdetection\\ATLAS_Dione_ObjectDetection\\ATLAS_Dione_ObjectDetection_Study_ActionClips\\ATLAS_Dione_ObjectDetection_Study_ActionClips\\set12\\set12V013.mkv: 224x224 Placing Rings 0.95, Placing Rings 2 arms 0.04, UVA Tie 0.01, Suture Pull Through 0.00, 2 arms placing 0.00, 13.3ms\n",
      "video 1/1 (frame 58/92) C:\\Users\\Informatica_UNICAM\\Desktop\\csd\\activity-recognition\\atlas_dione_objectdetection\\ATLAS_Dione_ObjectDetection\\ATLAS_Dione_ObjectDetection_Study_ActionClips\\ATLAS_Dione_ObjectDetection_Study_ActionClips\\set12\\set12V013.mkv: 224x224 Placing Rings 0.82, Placing Rings 2 arms 0.17, UVA Tie 0.01, Suture Pull Through 0.00, 2 arms placing 0.00, 1.9ms\n",
      "video 1/1 (frame 59/92) C:\\Users\\Informatica_UNICAM\\Desktop\\csd\\activity-recognition\\atlas_dione_objectdetection\\ATLAS_Dione_ObjectDetection\\ATLAS_Dione_ObjectDetection_Study_ActionClips\\ATLAS_Dione_ObjectDetection_Study_ActionClips\\set12\\set12V013.mkv: 224x224 Placing Rings 0.70, Placing Rings 2 arms 0.28, UVA Tie 0.01, Suture Pull Through 0.00, 2 arms placing 0.00, 6.1ms\n",
      "video 1/1 (frame 60/92) C:\\Users\\Informatica_UNICAM\\Desktop\\csd\\activity-recognition\\atlas_dione_objectdetection\\ATLAS_Dione_ObjectDetection\\ATLAS_Dione_ObjectDetection_Study_ActionClips\\ATLAS_Dione_ObjectDetection_Study_ActionClips\\set12\\set12V013.mkv: 224x224 Placing Rings 0.87, Placing Rings 2 arms 0.12, UVA Tie 0.00, Suture Pull Through 0.00, Pull Off 0.00, 9.3ms\n",
      "video 1/1 (frame 61/92) C:\\Users\\Informatica_UNICAM\\Desktop\\csd\\activity-recognition\\atlas_dione_objectdetection\\ATLAS_Dione_ObjectDetection\\ATLAS_Dione_ObjectDetection_Study_ActionClips\\ATLAS_Dione_ObjectDetection_Study_ActionClips\\set12\\set12V013.mkv: 224x224 Placing Rings 0.93, Placing Rings 2 arms 0.06, UVA Tie 0.00, Suture Pull Through 0.00, Pull Off 0.00, 5.0ms\n",
      "video 1/1 (frame 62/92) C:\\Users\\Informatica_UNICAM\\Desktop\\csd\\activity-recognition\\atlas_dione_objectdetection\\ATLAS_Dione_ObjectDetection\\ATLAS_Dione_ObjectDetection_Study_ActionClips\\ATLAS_Dione_ObjectDetection_Study_ActionClips\\set12\\set12V013.mkv: 224x224 Placing Rings 0.94, Placing Rings 2 arms 0.05, UVA Tie 0.00, Suture Pull Through 0.00, Pull Off 0.00, 2.0ms\n",
      "video 1/1 (frame 63/92) C:\\Users\\Informatica_UNICAM\\Desktop\\csd\\activity-recognition\\atlas_dione_objectdetection\\ATLAS_Dione_ObjectDetection\\ATLAS_Dione_ObjectDetection_Study_ActionClips\\ATLAS_Dione_ObjectDetection_Study_ActionClips\\set12\\set12V013.mkv: 224x224 Placing Rings 0.95, Placing Rings 2 arms 0.04, UVA Tie 0.01, Pull Off 0.00, Suture Pull Through 0.00, 16.7ms\n",
      "video 1/1 (frame 64/92) C:\\Users\\Informatica_UNICAM\\Desktop\\csd\\activity-recognition\\atlas_dione_objectdetection\\ATLAS_Dione_ObjectDetection\\ATLAS_Dione_ObjectDetection_Study_ActionClips\\ATLAS_Dione_ObjectDetection_Study_ActionClips\\set12\\set12V013.mkv: 224x224 Placing Rings 0.97, Placing Rings 2 arms 0.03, UVA Tie 0.00, Pull Off 0.00, Suture Pull Through 0.00, 7.9ms\n",
      "video 1/1 (frame 65/92) C:\\Users\\Informatica_UNICAM\\Desktop\\csd\\activity-recognition\\atlas_dione_objectdetection\\ATLAS_Dione_ObjectDetection\\ATLAS_Dione_ObjectDetection_Study_ActionClips\\ATLAS_Dione_ObjectDetection_Study_ActionClips\\set12\\set12V013.mkv: 224x224 Placing Rings 0.97, Placing Rings 2 arms 0.02, UVA Tie 0.00, Pull Off 0.00, Suture Pull Through 0.00, 5.0ms\n",
      "video 1/1 (frame 66/92) C:\\Users\\Informatica_UNICAM\\Desktop\\csd\\activity-recognition\\atlas_dione_objectdetection\\ATLAS_Dione_ObjectDetection\\ATLAS_Dione_ObjectDetection_Study_ActionClips\\ATLAS_Dione_ObjectDetection_Study_ActionClips\\set12\\set12V013.mkv: 224x224 Placing Rings 0.97, Placing Rings 2 arms 0.03, UVA Tie 0.00, Pull Off 0.00, Suture Pull Through 0.00, 5.2ms\n",
      "video 1/1 (frame 67/92) C:\\Users\\Informatica_UNICAM\\Desktop\\csd\\activity-recognition\\atlas_dione_objectdetection\\ATLAS_Dione_ObjectDetection\\ATLAS_Dione_ObjectDetection_Study_ActionClips\\ATLAS_Dione_ObjectDetection_Study_ActionClips\\set12\\set12V013.mkv: 224x224 Placing Rings 0.97, Placing Rings 2 arms 0.02, UVA Tie 0.00, Pull Off 0.00, Suture Pull Through 0.00, 15.9ms\n",
      "video 1/1 (frame 68/92) C:\\Users\\Informatica_UNICAM\\Desktop\\csd\\activity-recognition\\atlas_dione_objectdetection\\ATLAS_Dione_ObjectDetection\\ATLAS_Dione_ObjectDetection_Study_ActionClips\\ATLAS_Dione_ObjectDetection_Study_ActionClips\\set12\\set12V013.mkv: 224x224 Placing Rings 0.97, Placing Rings 2 arms 0.03, UVA Tie 0.00, Pull Off 0.00, Suture Pull Through 0.00, 0.0ms\n",
      "video 1/1 (frame 69/92) C:\\Users\\Informatica_UNICAM\\Desktop\\csd\\activity-recognition\\atlas_dione_objectdetection\\ATLAS_Dione_ObjectDetection\\ATLAS_Dione_ObjectDetection_Study_ActionClips\\ATLAS_Dione_ObjectDetection_Study_ActionClips\\set12\\set12V013.mkv: 224x224 Placing Rings 0.99, Placing Rings 2 arms 0.01, UVA Tie 0.00, Pull Off 0.00, Suture Pull Through 0.00, 1.4ms\n",
      "video 1/1 (frame 70/92) C:\\Users\\Informatica_UNICAM\\Desktop\\csd\\activity-recognition\\atlas_dione_objectdetection\\ATLAS_Dione_ObjectDetection\\ATLAS_Dione_ObjectDetection_Study_ActionClips\\ATLAS_Dione_ObjectDetection_Study_ActionClips\\set12\\set12V013.mkv: 224x224 Placing Rings 0.98, Placing Rings 2 arms 0.02, UVA Tie 0.00, Pull Off 0.00, Suture Pull Through 0.00, 15.1ms\n",
      "video 1/1 (frame 71/92) C:\\Users\\Informatica_UNICAM\\Desktop\\csd\\activity-recognition\\atlas_dione_objectdetection\\ATLAS_Dione_ObjectDetection\\ATLAS_Dione_ObjectDetection_Study_ActionClips\\ATLAS_Dione_ObjectDetection_Study_ActionClips\\set12\\set12V013.mkv: 224x224 Placing Rings 0.97, Placing Rings 2 arms 0.02, UVA Tie 0.00, Pull Off 0.00, Suture Pull Through 0.00, 5.9ms\n",
      "video 1/1 (frame 72/92) C:\\Users\\Informatica_UNICAM\\Desktop\\csd\\activity-recognition\\atlas_dione_objectdetection\\ATLAS_Dione_ObjectDetection\\ATLAS_Dione_ObjectDetection_Study_ActionClips\\ATLAS_Dione_ObjectDetection_Study_ActionClips\\set12\\set12V013.mkv: 224x224 Placing Rings 0.98, Placing Rings 2 arms 0.02, UVA Tie 0.00, Pull Off 0.00, Suture Pull Through 0.00, 2.3ms\n",
      "video 1/1 (frame 73/92) C:\\Users\\Informatica_UNICAM\\Desktop\\csd\\activity-recognition\\atlas_dione_objectdetection\\ATLAS_Dione_ObjectDetection\\ATLAS_Dione_ObjectDetection_Study_ActionClips\\ATLAS_Dione_ObjectDetection_Study_ActionClips\\set12\\set12V013.mkv: 224x224 Placing Rings 0.98, Placing Rings 2 arms 0.02, UVA Tie 0.00, Pull Off 0.00, Suture Pull Through 0.00, 16.4ms\n",
      "video 1/1 (frame 74/92) C:\\Users\\Informatica_UNICAM\\Desktop\\csd\\activity-recognition\\atlas_dione_objectdetection\\ATLAS_Dione_ObjectDetection\\ATLAS_Dione_ObjectDetection_Study_ActionClips\\ATLAS_Dione_ObjectDetection_Study_ActionClips\\set12\\set12V013.mkv: 224x224 Placing Rings 0.97, Placing Rings 2 arms 0.02, UVA Tie 0.00, Pull Off 0.00, Suture Pull Through 0.00, 14.2ms\n",
      "video 1/1 (frame 75/92) C:\\Users\\Informatica_UNICAM\\Desktop\\csd\\activity-recognition\\atlas_dione_objectdetection\\ATLAS_Dione_ObjectDetection\\ATLAS_Dione_ObjectDetection_Study_ActionClips\\ATLAS_Dione_ObjectDetection_Study_ActionClips\\set12\\set12V013.mkv: 224x224 Placing Rings 0.98, Placing Rings 2 arms 0.01, UVA Tie 0.00, Pull Off 0.00, Suture Pull Through 0.00, 6.0ms\n",
      "video 1/1 (frame 76/92) C:\\Users\\Informatica_UNICAM\\Desktop\\csd\\activity-recognition\\atlas_dione_objectdetection\\ATLAS_Dione_ObjectDetection\\ATLAS_Dione_ObjectDetection_Study_ActionClips\\ATLAS_Dione_ObjectDetection_Study_ActionClips\\set12\\set12V013.mkv: 224x224 Placing Rings 0.97, Placing Rings 2 arms 0.02, UVA Tie 0.01, Pull Off 0.00, Suture Pull Through 0.00, 0.0ms\n",
      "video 1/1 (frame 77/92) C:\\Users\\Informatica_UNICAM\\Desktop\\csd\\activity-recognition\\atlas_dione_objectdetection\\ATLAS_Dione_ObjectDetection\\ATLAS_Dione_ObjectDetection_Study_ActionClips\\ATLAS_Dione_ObjectDetection_Study_ActionClips\\set12\\set12V013.mkv: 224x224 Placing Rings 0.92, Placing Rings 2 arms 0.06, UVA Tie 0.01, Pull Off 0.00, Suture Pull Through 0.00, 5.0ms\n",
      "video 1/1 (frame 78/92) C:\\Users\\Informatica_UNICAM\\Desktop\\csd\\activity-recognition\\atlas_dione_objectdetection\\ATLAS_Dione_ObjectDetection\\ATLAS_Dione_ObjectDetection_Study_ActionClips\\ATLAS_Dione_ObjectDetection_Study_ActionClips\\set12\\set12V013.mkv: 224x224 Placing Rings 0.98, Placing Rings 2 arms 0.02, UVA Tie 0.00, Pull Off 0.00, Suture Pull Through 0.00, 4.0ms\n",
      "video 1/1 (frame 79/92) C:\\Users\\Informatica_UNICAM\\Desktop\\csd\\activity-recognition\\atlas_dione_objectdetection\\ATLAS_Dione_ObjectDetection\\ATLAS_Dione_ObjectDetection_Study_ActionClips\\ATLAS_Dione_ObjectDetection_Study_ActionClips\\set12\\set12V013.mkv: 224x224 Placing Rings 0.97, Placing Rings 2 arms 0.03, UVA Tie 0.00, Pull Off 0.00, Suture Pull Through 0.00, 0.0ms\n",
      "video 1/1 (frame 80/92) C:\\Users\\Informatica_UNICAM\\Desktop\\csd\\activity-recognition\\atlas_dione_objectdetection\\ATLAS_Dione_ObjectDetection\\ATLAS_Dione_ObjectDetection_Study_ActionClips\\ATLAS_Dione_ObjectDetection_Study_ActionClips\\set12\\set12V013.mkv: 224x224 Placing Rings 0.96, Placing Rings 2 arms 0.04, UVA Tie 0.00, Pull Off 0.00, Suture Pull Through 0.00, 0.0ms\n",
      "video 1/1 (frame 81/92) C:\\Users\\Informatica_UNICAM\\Desktop\\csd\\activity-recognition\\atlas_dione_objectdetection\\ATLAS_Dione_ObjectDetection\\ATLAS_Dione_ObjectDetection_Study_ActionClips\\ATLAS_Dione_ObjectDetection_Study_ActionClips\\set12\\set12V013.mkv: 224x224 Placing Rings 0.96, Placing Rings 2 arms 0.04, UVA Tie 0.00, Pull Off 0.00, UVA Pick Up 0.00, 6.0ms\n",
      "video 1/1 (frame 82/92) C:\\Users\\Informatica_UNICAM\\Desktop\\csd\\activity-recognition\\atlas_dione_objectdetection\\ATLAS_Dione_ObjectDetection\\ATLAS_Dione_ObjectDetection_Study_ActionClips\\ATLAS_Dione_ObjectDetection_Study_ActionClips\\set12\\set12V013.mkv: 224x224 Placing Rings 0.87, Placing Rings 2 arms 0.13, UVA Tie 0.00, Pull Off 0.00, UVA Pick Up 0.00, 4.8ms\n",
      "video 1/1 (frame 83/92) C:\\Users\\Informatica_UNICAM\\Desktop\\csd\\activity-recognition\\atlas_dione_objectdetection\\ATLAS_Dione_ObjectDetection\\ATLAS_Dione_ObjectDetection_Study_ActionClips\\ATLAS_Dione_ObjectDetection_Study_ActionClips\\set12\\set12V013.mkv: 224x224 Placing Rings 0.81, Placing Rings 2 arms 0.19, UVA Tie 0.00, UVA Pick Up 0.00, Suture Pick Up 0.00, 1.1ms\n",
      "video 1/1 (frame 84/92) C:\\Users\\Informatica_UNICAM\\Desktop\\csd\\activity-recognition\\atlas_dione_objectdetection\\ATLAS_Dione_ObjectDetection\\ATLAS_Dione_ObjectDetection_Study_ActionClips\\ATLAS_Dione_ObjectDetection_Study_ActionClips\\set12\\set12V013.mkv: 224x224 Placing Rings 0.63, Placing Rings 2 arms 0.37, UVA Tie 0.00, UVA Pick Up 0.00, Suture Pick Up 0.00, 3.1ms\n",
      "video 1/1 (frame 85/92) C:\\Users\\Informatica_UNICAM\\Desktop\\csd\\activity-recognition\\atlas_dione_objectdetection\\ATLAS_Dione_ObjectDetection\\ATLAS_Dione_ObjectDetection_Study_ActionClips\\ATLAS_Dione_ObjectDetection_Study_ActionClips\\set12\\set12V013.mkv: 224x224 Placing Rings 0.79, Placing Rings 2 arms 0.21, UVA Tie 0.00, UVA Pick Up 0.00, Pull Off 0.00, 15.6ms\n",
      "video 1/1 (frame 86/92) C:\\Users\\Informatica_UNICAM\\Desktop\\csd\\activity-recognition\\atlas_dione_objectdetection\\ATLAS_Dione_ObjectDetection\\ATLAS_Dione_ObjectDetection_Study_ActionClips\\ATLAS_Dione_ObjectDetection_Study_ActionClips\\set12\\set12V013.mkv: 224x224 Placing Rings 0.84, Placing Rings 2 arms 0.16, UVA Tie 0.00, UVA Pick Up 0.00, Suture Pick Up 0.00, 7.0ms\n",
      "video 1/1 (frame 87/92) C:\\Users\\Informatica_UNICAM\\Desktop\\csd\\activity-recognition\\atlas_dione_objectdetection\\ATLAS_Dione_ObjectDetection\\ATLAS_Dione_ObjectDetection_Study_ActionClips\\ATLAS_Dione_ObjectDetection_Study_ActionClips\\set12\\set12V013.mkv: 224x224 Placing Rings 0.63, Placing Rings 2 arms 0.37, UVA Tie 0.00, Suture Pick Up 0.00, UVA Pick Up 0.00, 0.0ms\n",
      "video 1/1 (frame 88/92) C:\\Users\\Informatica_UNICAM\\Desktop\\csd\\activity-recognition\\atlas_dione_objectdetection\\ATLAS_Dione_ObjectDetection\\ATLAS_Dione_ObjectDetection_Study_ActionClips\\ATLAS_Dione_ObjectDetection_Study_ActionClips\\set12\\set12V013.mkv: 224x224 Placing Rings 0.87, Placing Rings 2 arms 0.12, UVA Tie 0.00, Suture Pick Up 0.00, Pull Off 0.00, 16.8ms\n",
      "video 1/1 (frame 89/92) C:\\Users\\Informatica_UNICAM\\Desktop\\csd\\activity-recognition\\atlas_dione_objectdetection\\ATLAS_Dione_ObjectDetection\\ATLAS_Dione_ObjectDetection_Study_ActionClips\\ATLAS_Dione_ObjectDetection_Study_ActionClips\\set12\\set12V013.mkv: 224x224 Placing Rings 0.77, Placing Rings 2 arms 0.22, UVA Tie 0.00, Suture Pick Up 0.00, Pull Off 0.00, 11.8ms\n",
      "video 1/1 (frame 90/92) C:\\Users\\Informatica_UNICAM\\Desktop\\csd\\activity-recognition\\atlas_dione_objectdetection\\ATLAS_Dione_ObjectDetection\\ATLAS_Dione_ObjectDetection_Study_ActionClips\\ATLAS_Dione_ObjectDetection_Study_ActionClips\\set12\\set12V013.mkv: 224x224 Placing Rings 0.67, Placing Rings 2 arms 0.33, UVA Tie 0.00, Suture Pick Up 0.00, UVA Pick Up 0.00, 0.0ms\n",
      "video 1/1 (frame 91/92) C:\\Users\\Informatica_UNICAM\\Desktop\\csd\\activity-recognition\\atlas_dione_objectdetection\\ATLAS_Dione_ObjectDetection\\ATLAS_Dione_ObjectDetection_Study_ActionClips\\ATLAS_Dione_ObjectDetection_Study_ActionClips\\set12\\set12V013.mkv: 224x224 Placing Rings 0.89, Placing Rings 2 arms 0.11, UVA Pick Up 0.00, UVA Tie 0.00, Pull Off 0.00, 5.5ms\n",
      "video 1/1 (frame 92/92) C:\\Users\\Informatica_UNICAM\\Desktop\\csd\\activity-recognition\\atlas_dione_objectdetection\\ATLAS_Dione_ObjectDetection\\ATLAS_Dione_ObjectDetection_Study_ActionClips\\ATLAS_Dione_ObjectDetection_Study_ActionClips\\set12\\set12V013.mkv: 224x224 Placing Rings 0.82, Placing Rings 2 arms 0.18, UVA Tie 0.00, UVA Pick Up 0.00, Suture Pick Up 0.00, 2.8ms\n",
      "Speed: 3.5ms preprocess, 8.0ms inference, 0.0ms postprocess per image at shape (1, 3, 224, 224)\n"
     ]
    }
   ],
   "source": [
    "model = YOLO (\"C:/Users/Informatica_UNICAM/Desktop/csd/activity-recognition/runs/classify/custom_yolo7/weights/best.pt\")\n",
    "\n",
    "results = model(\"C:/Users/Informatica_UNICAM/Desktop/csd/activity-recognition/atlas_dione_objectdetection/ATLAS_Dione_ObjectDetection/ATLAS_Dione_ObjectDetection_Study_ActionClips/ATLAS_Dione_ObjectDetection_Study_ActionClips/set12/set12V013.mkv\")"
   ]
  },
  {
   "cell_type": "code",
   "execution_count": 21,
   "metadata": {},
   "outputs": [
    {
     "data": {
      "text/plain": [
       "{0: '1 arm placing',\n",
       " 1: '2 arms placing',\n",
       " 2: 'Placing Rings',\n",
       " 3: 'Placing Rings 2 arms',\n",
       " 4: 'Pull Off',\n",
       " 5: 'Pull Through',\n",
       " 6: 'Suture Pick Up',\n",
       " 7: 'Suture Pull Through',\n",
       " 8: 'Suture Tie',\n",
       " 9: 'UVA Pick Up',\n",
       " 10: 'UVA Pull Through',\n",
       " 11: 'UVA Tie'}"
      ]
     },
     "execution_count": 21,
     "metadata": {},
     "output_type": "execute_result"
    }
   ],
   "source": [
    "results[0].names"
   ]
  },
  {
   "cell_type": "code",
   "execution_count": 24,
   "metadata": {},
   "outputs": [
    {
     "data": {
      "text/plain": [
       "ultralytics.engine.results.Probs object with attributes:\n",
       "\n",
       "data: tensor([3.3657e-05, 8.6261e-05, 6.7539e-01, 3.2301e-01, 2.1285e-04, 6.3809e-05, 2.5079e-04, 1.2190e-04, 2.9374e-05, 2.6780e-04, 9.5445e-06, 5.2506e-04], device='cuda:0')\n",
       "orig_shape: None\n",
       "shape: torch.Size([12])\n",
       "top1: 2\n",
       "top1conf: tensor(0.6754, device='cuda:0')\n",
       "top5: [2, 3, 11, 9, 6]\n",
       "top5conf: tensor([6.7539e-01, 3.2301e-01, 5.2506e-04, 2.6780e-04, 2.5079e-04], device='cuda:0')"
      ]
     },
     "execution_count": 24,
     "metadata": {},
     "output_type": "execute_result"
    }
   ],
   "source": [
    "results[0].probs"
   ]
  }
 ],
 "metadata": {
  "kernelspec": {
   "display_name": "venv",
   "language": "python",
   "name": "python3"
  },
  "language_info": {
   "codemirror_mode": {
    "name": "ipython",
    "version": 3
   },
   "file_extension": ".py",
   "mimetype": "text/x-python",
   "name": "python",
   "nbconvert_exporter": "python",
   "pygments_lexer": "ipython3",
   "version": "3.10.11"
  }
 },
 "nbformat": 4,
 "nbformat_minor": 2
}
