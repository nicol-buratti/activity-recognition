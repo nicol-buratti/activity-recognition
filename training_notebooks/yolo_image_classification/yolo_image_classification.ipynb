{
 "cells": [
  {
   "cell_type": "code",
   "execution_count": 26,
   "metadata": {},
   "outputs": [],
   "source": [
    "from ultralytics import YOLO\n",
    "from pathlib import Path\n",
    "YOLO_DATASET_ROOT = \"C:/Users/Informatica_UNICAM/Desktop/csd/activity-recognition/YOLO_dataset_classification/data.yaml\""
   ]
  },
  {
   "cell_type": "code",
   "execution_count": null,
   "metadata": {},
   "outputs": [
    {
     "name": "stdout",
     "output_type": "stream",
     "text": [
      "Ultralytics 8.3.40  Python-3.10.11 torch-2.5.1+cu124 CUDA:0 (NVIDIA GeForce RTX 4090, 24564MiB)\n",
      "\u001b[34m\u001b[1mengine\\trainer: \u001b[0mtask=classify, mode=train, model=yolo11n-cls.pt, data=C:/Users/Informatica_UNICAM/Desktop/csd/activity-recognition/YOLO_dataset_classification/, epochs=3, time=None, patience=100, batch=16, imgsz=224, save=True, save_period=-1, cache=False, device=0, workers=4, project=None, name=custom_yolo4, exist_ok=False, pretrained=True, optimizer=auto, verbose=True, seed=0, deterministic=True, single_cls=False, rect=False, cos_lr=False, close_mosaic=10, resume=False, amp=True, fraction=1.0, profile=False, freeze=None, multi_scale=False, overlap_mask=True, mask_ratio=4, dropout=0.0, val=True, split=val, save_json=False, save_hybrid=False, conf=None, iou=0.7, max_det=300, half=False, dnn=False, plots=True, source=None, vid_stride=1, stream_buffer=False, visualize=False, augment=False, agnostic_nms=False, classes=None, retina_masks=False, embed=None, show=False, save_frames=False, save_txt=False, save_conf=False, save_crop=False, show_labels=True, show_conf=True, show_boxes=True, line_width=None, format=torchscript, keras=False, optimize=False, int8=False, dynamic=False, simplify=True, opset=None, workspace=None, nms=False, lr0=0.01, lrf=0.01, momentum=0.937, weight_decay=0.0005, warmup_epochs=3.0, warmup_momentum=0.8, warmup_bias_lr=0.1, box=7.5, cls=0.5, dfl=1.5, pose=12.0, kobj=1.0, nbs=64, hsv_h=0.015, hsv_s=0.7, hsv_v=0.4, degrees=0.0, translate=0.1, scale=0.5, shear=0.0, perspective=0.0, flipud=0.0, fliplr=0.5, bgr=0.0, mosaic=1.0, mixup=0.0, copy_paste=0.0, copy_paste_mode=flip, auto_augment=randaugment, erasing=0.4, crop_fraction=1.0, cfg=None, tracker=botsort.yaml, save_dir=C:\\Users\\Informatica_UNICAM\\Desktop\\csd\\activity-recognition\\runs\\classify\\custom_yolo4\n",
      "\u001b[34m\u001b[1mtrain:\u001b[0m C:\\Users\\Informatica_UNICAM\\Desktop\\csd\\activity-recognition\\YOLO_dataset_classification\\train... found 14247 images in 12 classes  \n",
      "\u001b[34m\u001b[1mval:\u001b[0m C:\\Users\\Informatica_UNICAM\\Desktop\\csd\\activity-recognition\\YOLO_dataset_classification\\val... found 2295 images in 12 classes  \n",
      "\u001b[34m\u001b[1mtest:\u001b[0m C:\\Users\\Informatica_UNICAM\\Desktop\\csd\\activity-recognition\\YOLO_dataset_classification\\test... found 2341 images in 12 classes  \n",
      "Overriding model.yaml nc=80 with nc=12\n",
      "\n",
      "                   from  n    params  module                                       arguments                     \n",
      "  0                  -1  1       464  ultralytics.nn.modules.conv.Conv             [3, 16, 3, 2]                 \n",
      "  1                  -1  1      4672  ultralytics.nn.modules.conv.Conv             [16, 32, 3, 2]                \n",
      "  2                  -1  1      6640  ultralytics.nn.modules.block.C3k2            [32, 64, 1, False, 0.25]      \n",
      "  3                  -1  1     36992  ultralytics.nn.modules.conv.Conv             [64, 64, 3, 2]                \n",
      "  4                  -1  1     26080  ultralytics.nn.modules.block.C3k2            [64, 128, 1, False, 0.25]     \n",
      "  5                  -1  1    147712  ultralytics.nn.modules.conv.Conv             [128, 128, 3, 2]              \n",
      "  6                  -1  1     87040  ultralytics.nn.modules.block.C3k2            [128, 128, 1, True]           \n",
      "  7                  -1  1    295424  ultralytics.nn.modules.conv.Conv             [128, 256, 3, 2]              \n",
      "  8                  -1  1    346112  ultralytics.nn.modules.block.C3k2            [256, 256, 1, True]           \n",
      "  9                  -1  1    249728  ultralytics.nn.modules.block.C2PSA           [256, 256, 1]                 \n",
      " 10                  -1  1    345612  ultralytics.nn.modules.head.Classify         [256, 12]                     \n",
      "YOLO11n-cls summary: 151 layers, 1,546,476 parameters, 1,546,476 gradients, 3.3 GFLOPs\n",
      "Transferred 234/236 items from pretrained weights\n",
      "\u001b[34m\u001b[1mAMP: \u001b[0mrunning Automatic Mixed Precision (AMP) checks...\n",
      "Downloading https://github.com/ultralytics/assets/releases/download/v8.3.0/yolo11n.pt to 'yolo11n.pt'...\n"
     ]
    },
    {
     "name": "stderr",
     "output_type": "stream",
     "text": [
      "100%|██████████| 5.35M/5.35M [00:00<00:00, 50.4MB/s]\n"
     ]
    },
    {
     "name": "stdout",
     "output_type": "stream",
     "text": [
      "\u001b[34m\u001b[1mAMP: \u001b[0mchecks passed \n"
     ]
    },
    {
     "name": "stderr",
     "output_type": "stream",
     "text": [
      "\u001b[34m\u001b[1mtrain: \u001b[0mScanning C:\\Users\\Informatica_UNICAM\\Desktop\\csd\\activity-recognition\\YOLO_dataset_classification\\train... 14247 images, 0 corrupt: 100%|██████████| 14247/14247 [00:07<00:00, 2015.17it/s]\n"
     ]
    },
    {
     "name": "stdout",
     "output_type": "stream",
     "text": [
      "\u001b[34m\u001b[1mtrain: \u001b[0mNew cache created: C:\\Users\\Informatica_UNICAM\\Desktop\\csd\\activity-recognition\\YOLO_dataset_classification\\train.cache\n"
     ]
    },
    {
     "name": "stderr",
     "output_type": "stream",
     "text": [
      "\u001b[34m\u001b[1mval: \u001b[0mScanning C:\\Users\\Informatica_UNICAM\\Desktop\\csd\\activity-recognition\\YOLO_dataset_classification\\val... 2295 images, 0 corrupt: 100%|██████████| 2295/2295 [00:01<00:00, 1791.17it/s]"
     ]
    },
    {
     "name": "stdout",
     "output_type": "stream",
     "text": [
      "\u001b[34m\u001b[1mval: \u001b[0mNew cache created: C:\\Users\\Informatica_UNICAM\\Desktop\\csd\\activity-recognition\\YOLO_dataset_classification\\val.cache\n"
     ]
    },
    {
     "name": "stderr",
     "output_type": "stream",
     "text": [
      "\n"
     ]
    },
    {
     "name": "stdout",
     "output_type": "stream",
     "text": [
      "\u001b[34m\u001b[1moptimizer:\u001b[0m 'optimizer=auto' found, ignoring 'lr0=0.01' and 'momentum=0.937' and determining best 'optimizer', 'lr0' and 'momentum' automatically... \n",
      "\u001b[34m\u001b[1moptimizer:\u001b[0m AdamW(lr=0.000714, momentum=0.9) with parameter groups 39 weight(decay=0.0), 40 weight(decay=0.0005), 40 bias(decay=0.0)\n",
      "Image sizes 224 train, 224 val\n",
      "Using 4 dataloader workers\n",
      "Logging results to \u001b[1mC:\\Users\\Informatica_UNICAM\\Desktop\\csd\\activity-recognition\\runs\\classify\\custom_yolo4\u001b[0m\n",
      "Starting training for 3 epochs...\n",
      "\n",
      "      Epoch    GPU_mem       loss  Instances       Size\n"
     ]
    },
    {
     "name": "stderr",
     "output_type": "stream",
     "text": [
      "        1/3     0.308G      2.647         16        224:   1%|          | 8/891 [00:02<02:18,  6.39it/s]"
     ]
    },
    {
     "name": "stdout",
     "output_type": "stream",
     "text": [
      "Downloading https://ultralytics.com/assets/Arial.ttf to 'C:\\Users\\Informatica_UNICAM\\AppData\\Roaming\\Ultralytics\\Arial.ttf'...\n"
     ]
    },
    {
     "name": "stderr",
     "output_type": "stream",
     "text": [
      "100%|██████████| 755k/755k [00:00<00:00, 11.7MB/s]  224:   3%|▎         | 27/891 [00:03<00:36, 23.72it/s]\n",
      "        1/3     0.312G     0.6858          7        224: 100%|██████████| 891/891 [00:28<00:00, 31.26it/s]\n",
      "               classes   top1_acc   top5_acc: 100%|██████████| 72/72 [00:02<00:00, 33.21it/s]"
     ]
    },
    {
     "name": "stdout",
     "output_type": "stream",
     "text": [
      "                   all      0.619      0.999\n"
     ]
    },
    {
     "name": "stderr",
     "output_type": "stream",
     "text": [
      "\n"
     ]
    },
    {
     "name": "stdout",
     "output_type": "stream",
     "text": [
      "\n",
      "      Epoch    GPU_mem       loss  Instances       Size\n"
     ]
    },
    {
     "name": "stderr",
     "output_type": "stream",
     "text": [
      "        2/3     0.262G     0.1156          7        224: 100%|██████████| 891/891 [00:22<00:00, 39.36it/s]\n",
      "               classes   top1_acc   top5_acc: 100%|██████████| 72/72 [00:02<00:00, 33.65it/s]\n"
     ]
    },
    {
     "name": "stdout",
     "output_type": "stream",
     "text": [
      "                   all      0.567          1\n",
      "\n",
      "      Epoch    GPU_mem       loss  Instances       Size\n"
     ]
    },
    {
     "name": "stderr",
     "output_type": "stream",
     "text": [
      "        3/3     0.283G    0.06536          7        224: 100%|██████████| 891/891 [00:21<00:00, 41.67it/s]\n",
      "               classes   top1_acc   top5_acc: 100%|██████████| 72/72 [00:02<00:00, 34.94it/s]"
     ]
    },
    {
     "name": "stdout",
     "output_type": "stream",
     "text": [
      "                   all      0.568      0.997\n"
     ]
    },
    {
     "name": "stderr",
     "output_type": "stream",
     "text": [
      "\n"
     ]
    },
    {
     "name": "stdout",
     "output_type": "stream",
     "text": [
      "\n",
      "3 epochs completed in 0.022 hours.\n",
      "Optimizer stripped from C:\\Users\\Informatica_UNICAM\\Desktop\\csd\\activity-recognition\\runs\\classify\\custom_yolo4\\weights\\last.pt, 3.2MB\n",
      "Optimizer stripped from C:\\Users\\Informatica_UNICAM\\Desktop\\csd\\activity-recognition\\runs\\classify\\custom_yolo4\\weights\\best.pt, 3.2MB\n",
      "\n",
      "Validating C:\\Users\\Informatica_UNICAM\\Desktop\\csd\\activity-recognition\\runs\\classify\\custom_yolo4\\weights\\best.pt...\n",
      "Ultralytics 8.3.40  Python-3.10.11 torch-2.5.1+cu124 CUDA:0 (NVIDIA GeForce RTX 4090, 24564MiB)\n",
      "YOLO11n-cls summary (fused): 112 layers, 1,541,396 parameters, 0 gradients, 3.2 GFLOPs\n",
      "\u001b[34m\u001b[1mtrain:\u001b[0m C:\\Users\\Informatica_UNICAM\\Desktop\\csd\\activity-recognition\\YOLO_dataset_classification\\train... found 14247 images in 12 classes  \n",
      "\u001b[34m\u001b[1mval:\u001b[0m C:\\Users\\Informatica_UNICAM\\Desktop\\csd\\activity-recognition\\YOLO_dataset_classification\\val... found 2295 images in 12 classes  \n",
      "\u001b[34m\u001b[1mtest:\u001b[0m C:\\Users\\Informatica_UNICAM\\Desktop\\csd\\activity-recognition\\YOLO_dataset_classification\\test... found 2341 images in 12 classes  \n"
     ]
    },
    {
     "name": "stderr",
     "output_type": "stream",
     "text": [
      "               classes   top1_acc   top5_acc: 100%|██████████| 72/72 [00:02<00:00, 34.38it/s]\n"
     ]
    },
    {
     "name": "stdout",
     "output_type": "stream",
     "text": [
      "                   all       0.62      0.999\n",
      "Speed: 0.1ms preprocess, 0.3ms inference, 0.0ms loss, 0.0ms postprocess per image\n",
      "Results saved to \u001b[1mC:\\Users\\Informatica_UNICAM\\Desktop\\csd\\activity-recognition\\runs\\classify\\custom_yolo4\u001b[0m\n",
      "Ultralytics 8.3.40  Python-3.10.11 torch-2.5.1+cu124 CPU (Intel Core(TM) i9-14900K)\n",
      "YOLO11n-cls summary (fused): 112 layers, 1,541,396 parameters, 0 gradients, 3.2 GFLOPs\n",
      "\n",
      "\u001b[34m\u001b[1mPyTorch:\u001b[0m starting from 'C:\\Users\\Informatica_UNICAM\\Desktop\\csd\\activity-recognition\\runs\\classify\\custom_yolo4\\weights\\best.pt' with input shape (1, 3, 224, 224) BCHW and output shape(s) (1, 12) (3.1 MB)\n",
      "\n",
      "\u001b[34m\u001b[1mTorchScript:\u001b[0m starting export with torch 2.5.1+cu124...\n",
      "\u001b[34m\u001b[1mTorchScript:\u001b[0m export success  0.5s, saved as 'C:\\Users\\Informatica_UNICAM\\Desktop\\csd\\activity-recognition\\runs\\classify\\custom_yolo4\\weights\\best.torchscript' (6.1 MB)\n",
      "\n",
      "Export complete (2.0s)\n",
      "Results saved to \u001b[1mC:\\Users\\Informatica_UNICAM\\Desktop\\csd\\activity-recognition\\runs\\classify\\custom_yolo4\\weights\u001b[0m\n",
      "Predict:         yolo predict task=classify model=C:\\Users\\Informatica_UNICAM\\Desktop\\csd\\activity-recognition\\runs\\classify\\custom_yolo4\\weights\\best.torchscript imgsz=224  \n",
      "Validate:        yolo val task=classify model=C:\\Users\\Informatica_UNICAM\\Desktop\\csd\\activity-recognition\\runs\\classify\\custom_yolo4\\weights\\best.torchscript imgsz=224 data=C:/Users/Informatica_UNICAM/Desktop/csd/activity-recognition/YOLO_dataset_classification/  \n",
      "Visualize:       https://netron.app\n"
     ]
    },
    {
     "data": {
      "text/plain": [
       "'C:\\\\Users\\\\Informatica_UNICAM\\\\Desktop\\\\csd\\\\activity-recognition\\\\runs\\\\classify\\\\custom_yolo4\\\\weights\\\\best.torchscript'"
      ]
     },
     "execution_count": 27,
     "metadata": {},
     "output_type": "execute_result"
    }
   ],
   "source": [
    "model = YOLO(\"yolo11n-cls.pt\")\n",
    "results = model.train(data=\"C:/Users/Informatica_UNICAM/Desktop/csd/activity-recognition/YOLO_dataset_classification/\",\n",
    "    epochs=100,                             # Numero di epoche\n",
    "    imgsz=224,                             # Dimensione delle immagini\n",
    "    batch=16,                              # Dimensione del batch\n",
    "    workers=4,                             # Numero di worker\n",
    "    device=0,                              # '0' per GPU, 'cpu' per CPU\n",
    "    name='custom_yolo',                     # Nome del progetto)\n",
    ")\n",
    "model.export()"
   ]
  },
  {
   "cell_type": "code",
   "execution_count": 41,
   "metadata": {},
   "outputs": [
    {
     "name": "stdout",
     "output_type": "stream",
     "text": [
      "\n",
      "\n",
      "WARNING  inference results will accumulate in RAM unless `stream=True` is passed, causing potential out-of-memory\n",
      "errors for large sources or long-running streams and videos. See https://docs.ultralytics.com/modes/predict/ for help.\n",
      "\n",
      "Example:\n",
      "    results = model(source=..., stream=True)  # generator of Results objects\n",
      "    for r in results:\n",
      "        boxes = r.boxes  # Boxes object for bbox outputs\n",
      "        masks = r.masks  # Masks object for segment masks outputs\n",
      "        probs = r.probs  # Class probabilities for classification outputs\n",
      "\n",
      "video 1/1 (frame 1/244) C:\\Users\\Informatica_UNICAM\\Desktop\\csd\\activity-recognition\\atlas_dione_objectdetection\\ATLAS_Dione_ObjectDetection\\ATLAS_Dione_ObjectDetection_Study_ActionClips\\ATLAS_Dione_ObjectDetection_Study_ActionClips\\set12\\set12V010.mkv: 224x224 set09 0.50, set11 0.47, set07 0.03, set08 0.00, set04 0.00, 21.6ms\n",
      "video 1/1 (frame 2/244) C:\\Users\\Informatica_UNICAM\\Desktop\\csd\\activity-recognition\\atlas_dione_objectdetection\\ATLAS_Dione_ObjectDetection\\ATLAS_Dione_ObjectDetection_Study_ActionClips\\ATLAS_Dione_ObjectDetection_Study_ActionClips\\set12\\set12V010.mkv: 224x224 set11 0.72, set09 0.26, set07 0.02, set08 0.00, set04 0.00, 0.0ms\n",
      "video 1/1 (frame 3/244) C:\\Users\\Informatica_UNICAM\\Desktop\\csd\\activity-recognition\\atlas_dione_objectdetection\\ATLAS_Dione_ObjectDetection\\ATLAS_Dione_ObjectDetection_Study_ActionClips\\ATLAS_Dione_ObjectDetection_Study_ActionClips\\set12\\set12V010.mkv: 224x224 set11 0.50, set09 0.44, set07 0.05, set08 0.00, set04 0.00, 15.5ms\n",
      "video 1/1 (frame 4/244) C:\\Users\\Informatica_UNICAM\\Desktop\\csd\\activity-recognition\\atlas_dione_objectdetection\\ATLAS_Dione_ObjectDetection\\ATLAS_Dione_ObjectDetection_Study_ActionClips\\ATLAS_Dione_ObjectDetection_Study_ActionClips\\set12\\set12V010.mkv: 224x224 set11 0.73, set09 0.20, set07 0.06, set08 0.00, set03 0.00, 12.8ms\n",
      "video 1/1 (frame 5/244) C:\\Users\\Informatica_UNICAM\\Desktop\\csd\\activity-recognition\\atlas_dione_objectdetection\\ATLAS_Dione_ObjectDetection\\ATLAS_Dione_ObjectDetection_Study_ActionClips\\ATLAS_Dione_ObjectDetection_Study_ActionClips\\set12\\set12V010.mkv: 224x224 set09 0.47, set11 0.45, set07 0.08, set08 0.00, set03 0.00, 1.7ms\n",
      "video 1/1 (frame 6/244) C:\\Users\\Informatica_UNICAM\\Desktop\\csd\\activity-recognition\\atlas_dione_objectdetection\\ATLAS_Dione_ObjectDetection\\ATLAS_Dione_ObjectDetection_Study_ActionClips\\ATLAS_Dione_ObjectDetection_Study_ActionClips\\set12\\set12V010.mkv: 224x224 set11 0.58, set09 0.34, set07 0.07, set08 0.00, set04 0.00, 0.0ms\n",
      "video 1/1 (frame 7/244) C:\\Users\\Informatica_UNICAM\\Desktop\\csd\\activity-recognition\\atlas_dione_objectdetection\\ATLAS_Dione_ObjectDetection\\ATLAS_Dione_ObjectDetection_Study_ActionClips\\ATLAS_Dione_ObjectDetection_Study_ActionClips\\set12\\set12V010.mkv: 224x224 set09 0.49, set11 0.43, set07 0.07, set08 0.00, set04 0.00, 0.0ms\n",
      "video 1/1 (frame 8/244) C:\\Users\\Informatica_UNICAM\\Desktop\\csd\\activity-recognition\\atlas_dione_objectdetection\\ATLAS_Dione_ObjectDetection\\ATLAS_Dione_ObjectDetection_Study_ActionClips\\ATLAS_Dione_ObjectDetection_Study_ActionClips\\set12\\set12V010.mkv: 224x224 set11 0.59, set09 0.33, set07 0.07, set08 0.00, set03 0.00, 0.0ms\n",
      "video 1/1 (frame 9/244) C:\\Users\\Informatica_UNICAM\\Desktop\\csd\\activity-recognition\\atlas_dione_objectdetection\\ATLAS_Dione_ObjectDetection\\ATLAS_Dione_ObjectDetection_Study_ActionClips\\ATLAS_Dione_ObjectDetection_Study_ActionClips\\set12\\set12V010.mkv: 224x224 set11 0.68, set09 0.23, set07 0.09, set03 0.00, set08 0.00, 16.7ms\n",
      "video 1/1 (frame 10/244) C:\\Users\\Informatica_UNICAM\\Desktop\\csd\\activity-recognition\\atlas_dione_objectdetection\\ATLAS_Dione_ObjectDetection\\ATLAS_Dione_ObjectDetection_Study_ActionClips\\ATLAS_Dione_ObjectDetection_Study_ActionClips\\set12\\set12V010.mkv: 224x224 set11 0.76, set07 0.13, set09 0.11, set03 0.00, set02 0.00, 12.1ms\n",
      "video 1/1 (frame 11/244) C:\\Users\\Informatica_UNICAM\\Desktop\\csd\\activity-recognition\\atlas_dione_objectdetection\\ATLAS_Dione_ObjectDetection\\ATLAS_Dione_ObjectDetection_Study_ActionClips\\ATLAS_Dione_ObjectDetection_Study_ActionClips\\set12\\set12V010.mkv: 224x224 set11 0.73, set07 0.17, set09 0.09, set03 0.00, set02 0.00, 14.8ms\n",
      "video 1/1 (frame 12/244) C:\\Users\\Informatica_UNICAM\\Desktop\\csd\\activity-recognition\\atlas_dione_objectdetection\\ATLAS_Dione_ObjectDetection\\ATLAS_Dione_ObjectDetection_Study_ActionClips\\ATLAS_Dione_ObjectDetection_Study_ActionClips\\set12\\set12V010.mkv: 224x224 set11 0.87, set07 0.09, set09 0.04, set03 0.00, set02 0.00, 0.0ms\n",
      "video 1/1 (frame 13/244) C:\\Users\\Informatica_UNICAM\\Desktop\\csd\\activity-recognition\\atlas_dione_objectdetection\\ATLAS_Dione_ObjectDetection\\ATLAS_Dione_ObjectDetection_Study_ActionClips\\ATLAS_Dione_ObjectDetection_Study_ActionClips\\set12\\set12V010.mkv: 224x224 set11 0.85, set07 0.11, set09 0.03, set03 0.00, set02 0.00, 9.0ms\n",
      "video 1/1 (frame 14/244) C:\\Users\\Informatica_UNICAM\\Desktop\\csd\\activity-recognition\\atlas_dione_objectdetection\\ATLAS_Dione_ObjectDetection\\ATLAS_Dione_ObjectDetection_Study_ActionClips\\ATLAS_Dione_ObjectDetection_Study_ActionClips\\set12\\set12V010.mkv: 224x224 set11 0.93, set07 0.05, set09 0.01, set03 0.00, set02 0.00, 19.8ms\n",
      "video 1/1 (frame 15/244) C:\\Users\\Informatica_UNICAM\\Desktop\\csd\\activity-recognition\\atlas_dione_objectdetection\\ATLAS_Dione_ObjectDetection\\ATLAS_Dione_ObjectDetection_Study_ActionClips\\ATLAS_Dione_ObjectDetection_Study_ActionClips\\set12\\set12V010.mkv: 224x224 set11 0.91, set07 0.08, set09 0.01, set03 0.00, set02 0.00, 15.7ms\n",
      "video 1/1 (frame 16/244) C:\\Users\\Informatica_UNICAM\\Desktop\\csd\\activity-recognition\\atlas_dione_objectdetection\\ATLAS_Dione_ObjectDetection\\ATLAS_Dione_ObjectDetection_Study_ActionClips\\ATLAS_Dione_ObjectDetection_Study_ActionClips\\set12\\set12V010.mkv: 224x224 set11 0.91, set07 0.07, set09 0.02, set03 0.00, set02 0.00, 0.0ms\n",
      "video 1/1 (frame 17/244) C:\\Users\\Informatica_UNICAM\\Desktop\\csd\\activity-recognition\\atlas_dione_objectdetection\\ATLAS_Dione_ObjectDetection\\ATLAS_Dione_ObjectDetection_Study_ActionClips\\ATLAS_Dione_ObjectDetection_Study_ActionClips\\set12\\set12V010.mkv: 224x224 set11 0.93, set07 0.06, set09 0.01, set03 0.00, set02 0.00, 0.0ms\n",
      "video 1/1 (frame 18/244) C:\\Users\\Informatica_UNICAM\\Desktop\\csd\\activity-recognition\\atlas_dione_objectdetection\\ATLAS_Dione_ObjectDetection\\ATLAS_Dione_ObjectDetection_Study_ActionClips\\ATLAS_Dione_ObjectDetection_Study_ActionClips\\set12\\set12V010.mkv: 224x224 set11 0.94, set07 0.05, set09 0.01, set03 0.00, set02 0.00, 15.4ms\n",
      "video 1/1 (frame 19/244) C:\\Users\\Informatica_UNICAM\\Desktop\\csd\\activity-recognition\\atlas_dione_objectdetection\\ATLAS_Dione_ObjectDetection\\ATLAS_Dione_ObjectDetection_Study_ActionClips\\ATLAS_Dione_ObjectDetection_Study_ActionClips\\set12\\set12V010.mkv: 224x224 set11 0.87, set07 0.12, set09 0.01, set03 0.00, set02 0.00, 16.3ms\n",
      "video 1/1 (frame 20/244) C:\\Users\\Informatica_UNICAM\\Desktop\\csd\\activity-recognition\\atlas_dione_objectdetection\\ATLAS_Dione_ObjectDetection\\ATLAS_Dione_ObjectDetection_Study_ActionClips\\ATLAS_Dione_ObjectDetection_Study_ActionClips\\set12\\set12V010.mkv: 224x224 set11 0.91, set07 0.08, set09 0.01, set03 0.00, set02 0.00, 18.2ms\n",
      "video 1/1 (frame 21/244) C:\\Users\\Informatica_UNICAM\\Desktop\\csd\\activity-recognition\\atlas_dione_objectdetection\\ATLAS_Dione_ObjectDetection\\ATLAS_Dione_ObjectDetection_Study_ActionClips\\ATLAS_Dione_ObjectDetection_Study_ActionClips\\set12\\set12V010.mkv: 224x224 set11 0.95, set07 0.05, set09 0.01, set02 0.00, set03 0.00, 15.0ms\n",
      "video 1/1 (frame 22/244) C:\\Users\\Informatica_UNICAM\\Desktop\\csd\\activity-recognition\\atlas_dione_objectdetection\\ATLAS_Dione_ObjectDetection\\ATLAS_Dione_ObjectDetection_Study_ActionClips\\ATLAS_Dione_ObjectDetection_Study_ActionClips\\set12\\set12V010.mkv: 224x224 set11 0.93, set07 0.06, set09 0.01, set03 0.00, set02 0.00, 0.0ms\n",
      "video 1/1 (frame 23/244) C:\\Users\\Informatica_UNICAM\\Desktop\\csd\\activity-recognition\\atlas_dione_objectdetection\\ATLAS_Dione_ObjectDetection\\ATLAS_Dione_ObjectDetection_Study_ActionClips\\ATLAS_Dione_ObjectDetection_Study_ActionClips\\set12\\set12V010.mkv: 224x224 set11 0.90, set07 0.08, set09 0.01, set02 0.00, set03 0.00, 8.8ms\n",
      "video 1/1 (frame 24/244) C:\\Users\\Informatica_UNICAM\\Desktop\\csd\\activity-recognition\\atlas_dione_objectdetection\\ATLAS_Dione_ObjectDetection\\ATLAS_Dione_ObjectDetection_Study_ActionClips\\ATLAS_Dione_ObjectDetection_Study_ActionClips\\set12\\set12V010.mkv: 224x224 set11 0.92, set07 0.07, set09 0.01, set02 0.00, set03 0.00, 0.0ms\n",
      "video 1/1 (frame 25/244) C:\\Users\\Informatica_UNICAM\\Desktop\\csd\\activity-recognition\\atlas_dione_objectdetection\\ATLAS_Dione_ObjectDetection\\ATLAS_Dione_ObjectDetection_Study_ActionClips\\ATLAS_Dione_ObjectDetection_Study_ActionClips\\set12\\set12V010.mkv: 224x224 set11 0.76, set07 0.22, set09 0.02, set02 0.00, set08 0.00, 0.0ms\n",
      "video 1/1 (frame 26/244) C:\\Users\\Informatica_UNICAM\\Desktop\\csd\\activity-recognition\\atlas_dione_objectdetection\\ATLAS_Dione_ObjectDetection\\ATLAS_Dione_ObjectDetection_Study_ActionClips\\ATLAS_Dione_ObjectDetection_Study_ActionClips\\set12\\set12V010.mkv: 224x224 set11 0.62, set07 0.35, set09 0.02, set02 0.00, set08 0.00, 12.0ms\n",
      "video 1/1 (frame 27/244) C:\\Users\\Informatica_UNICAM\\Desktop\\csd\\activity-recognition\\atlas_dione_objectdetection\\ATLAS_Dione_ObjectDetection\\ATLAS_Dione_ObjectDetection_Study_ActionClips\\ATLAS_Dione_ObjectDetection_Study_ActionClips\\set12\\set12V010.mkv: 224x224 set11 0.81, set07 0.15, set09 0.03, set02 0.00, set08 0.00, 19.5ms\n",
      "video 1/1 (frame 28/244) C:\\Users\\Informatica_UNICAM\\Desktop\\csd\\activity-recognition\\atlas_dione_objectdetection\\ATLAS_Dione_ObjectDetection\\ATLAS_Dione_ObjectDetection_Study_ActionClips\\ATLAS_Dione_ObjectDetection_Study_ActionClips\\set12\\set12V010.mkv: 224x224 set11 0.86, set07 0.11, set09 0.03, set08 0.00, set10 0.00, 13.2ms\n",
      "video 1/1 (frame 29/244) C:\\Users\\Informatica_UNICAM\\Desktop\\csd\\activity-recognition\\atlas_dione_objectdetection\\ATLAS_Dione_ObjectDetection\\ATLAS_Dione_ObjectDetection_Study_ActionClips\\ATLAS_Dione_ObjectDetection_Study_ActionClips\\set12\\set12V010.mkv: 224x224 set11 0.50, set07 0.42, set09 0.07, set08 0.00, set01 0.00, 15.0ms\n",
      "video 1/1 (frame 30/244) C:\\Users\\Informatica_UNICAM\\Desktop\\csd\\activity-recognition\\atlas_dione_objectdetection\\ATLAS_Dione_ObjectDetection\\ATLAS_Dione_ObjectDetection_Study_ActionClips\\ATLAS_Dione_ObjectDetection_Study_ActionClips\\set12\\set12V010.mkv: 224x224 set07 0.61, set11 0.32, set09 0.07, set08 0.00, set01 0.00, 15.9ms\n",
      "video 1/1 (frame 31/244) C:\\Users\\Informatica_UNICAM\\Desktop\\csd\\activity-recognition\\atlas_dione_objectdetection\\ATLAS_Dione_ObjectDetection\\ATLAS_Dione_ObjectDetection_Study_ActionClips\\ATLAS_Dione_ObjectDetection_Study_ActionClips\\set12\\set12V010.mkv: 224x224 set11 0.57, set07 0.36, set09 0.05, set10 0.01, set08 0.00, 16.4ms\n",
      "video 1/1 (frame 32/244) C:\\Users\\Informatica_UNICAM\\Desktop\\csd\\activity-recognition\\atlas_dione_objectdetection\\ATLAS_Dione_ObjectDetection\\ATLAS_Dione_ObjectDetection_Study_ActionClips\\ATLAS_Dione_ObjectDetection_Study_ActionClips\\set12\\set12V010.mkv: 224x224 set11 0.66, set07 0.30, set09 0.03, set10 0.00, set08 0.00, 13.2ms\n",
      "video 1/1 (frame 33/244) C:\\Users\\Informatica_UNICAM\\Desktop\\csd\\activity-recognition\\atlas_dione_objectdetection\\ATLAS_Dione_ObjectDetection\\ATLAS_Dione_ObjectDetection_Study_ActionClips\\ATLAS_Dione_ObjectDetection_Study_ActionClips\\set12\\set12V010.mkv: 224x224 set11 0.84, set07 0.15, set09 0.01, set10 0.00, set08 0.00, 17.1ms\n",
      "video 1/1 (frame 34/244) C:\\Users\\Informatica_UNICAM\\Desktop\\csd\\activity-recognition\\atlas_dione_objectdetection\\ATLAS_Dione_ObjectDetection\\ATLAS_Dione_ObjectDetection_Study_ActionClips\\ATLAS_Dione_ObjectDetection_Study_ActionClips\\set12\\set12V010.mkv: 224x224 set11 0.92, set07 0.07, set09 0.01, set10 0.00, set08 0.00, 16.2ms\n",
      "video 1/1 (frame 35/244) C:\\Users\\Informatica_UNICAM\\Desktop\\csd\\activity-recognition\\atlas_dione_objectdetection\\ATLAS_Dione_ObjectDetection\\ATLAS_Dione_ObjectDetection_Study_ActionClips\\ATLAS_Dione_ObjectDetection_Study_ActionClips\\set12\\set12V010.mkv: 224x224 set11 0.85, set07 0.12, set09 0.02, set08 0.00, set10 0.00, 22.5ms\n",
      "video 1/1 (frame 36/244) C:\\Users\\Informatica_UNICAM\\Desktop\\csd\\activity-recognition\\atlas_dione_objectdetection\\ATLAS_Dione_ObjectDetection\\ATLAS_Dione_ObjectDetection_Study_ActionClips\\ATLAS_Dione_ObjectDetection_Study_ActionClips\\set12\\set12V010.mkv: 224x224 set11 0.88, set07 0.11, set09 0.01, set08 0.00, set10 0.00, 0.0ms\n",
      "video 1/1 (frame 37/244) C:\\Users\\Informatica_UNICAM\\Desktop\\csd\\activity-recognition\\atlas_dione_objectdetection\\ATLAS_Dione_ObjectDetection\\ATLAS_Dione_ObjectDetection_Study_ActionClips\\ATLAS_Dione_ObjectDetection_Study_ActionClips\\set12\\set12V010.mkv: 224x224 set11 0.85, set07 0.13, set09 0.01, set08 0.00, set10 0.00, 9.0ms\n",
      "video 1/1 (frame 38/244) C:\\Users\\Informatica_UNICAM\\Desktop\\csd\\activity-recognition\\atlas_dione_objectdetection\\ATLAS_Dione_ObjectDetection\\ATLAS_Dione_ObjectDetection_Study_ActionClips\\ATLAS_Dione_ObjectDetection_Study_ActionClips\\set12\\set12V010.mkv: 224x224 set07 0.52, set11 0.44, set09 0.03, set08 0.00, set04 0.00, 17.5ms\n",
      "video 1/1 (frame 39/244) C:\\Users\\Informatica_UNICAM\\Desktop\\csd\\activity-recognition\\atlas_dione_objectdetection\\ATLAS_Dione_ObjectDetection\\ATLAS_Dione_ObjectDetection_Study_ActionClips\\ATLAS_Dione_ObjectDetection_Study_ActionClips\\set12\\set12V010.mkv: 224x224 set11 0.51, set07 0.44, set09 0.04, set08 0.01, set04 0.00, 14.9ms\n",
      "video 1/1 (frame 40/244) C:\\Users\\Informatica_UNICAM\\Desktop\\csd\\activity-recognition\\atlas_dione_objectdetection\\ATLAS_Dione_ObjectDetection\\ATLAS_Dione_ObjectDetection_Study_ActionClips\\ATLAS_Dione_ObjectDetection_Study_ActionClips\\set12\\set12V010.mkv: 224x224 set07 0.48, set11 0.47, set09 0.04, set08 0.00, set04 0.00, 16.9ms\n",
      "video 1/1 (frame 41/244) C:\\Users\\Informatica_UNICAM\\Desktop\\csd\\activity-recognition\\atlas_dione_objectdetection\\ATLAS_Dione_ObjectDetection\\ATLAS_Dione_ObjectDetection_Study_ActionClips\\ATLAS_Dione_ObjectDetection_Study_ActionClips\\set12\\set12V010.mkv: 224x224 set07 0.70, set11 0.28, set09 0.01, set04 0.00, set08 0.00, 21.0ms\n",
      "video 1/1 (frame 42/244) C:\\Users\\Informatica_UNICAM\\Desktop\\csd\\activity-recognition\\atlas_dione_objectdetection\\ATLAS_Dione_ObjectDetection\\ATLAS_Dione_ObjectDetection_Study_ActionClips\\ATLAS_Dione_ObjectDetection_Study_ActionClips\\set12\\set12V010.mkv: 224x224 set07 0.55, set11 0.43, set09 0.02, set08 0.00, set10 0.00, 15.4ms\n",
      "video 1/1 (frame 43/244) C:\\Users\\Informatica_UNICAM\\Desktop\\csd\\activity-recognition\\atlas_dione_objectdetection\\ATLAS_Dione_ObjectDetection\\ATLAS_Dione_ObjectDetection_Study_ActionClips\\ATLAS_Dione_ObjectDetection_Study_ActionClips\\set12\\set12V010.mkv: 224x224 set07 0.70, set11 0.26, set09 0.03, set08 0.00, set04 0.00, 11.1ms\n",
      "video 1/1 (frame 44/244) C:\\Users\\Informatica_UNICAM\\Desktop\\csd\\activity-recognition\\atlas_dione_objectdetection\\ATLAS_Dione_ObjectDetection\\ATLAS_Dione_ObjectDetection_Study_ActionClips\\ATLAS_Dione_ObjectDetection_Study_ActionClips\\set12\\set12V010.mkv: 224x224 set11 0.66, set07 0.31, set09 0.02, set04 0.00, set08 0.00, 24.3ms\n",
      "video 1/1 (frame 45/244) C:\\Users\\Informatica_UNICAM\\Desktop\\csd\\activity-recognition\\atlas_dione_objectdetection\\ATLAS_Dione_ObjectDetection\\ATLAS_Dione_ObjectDetection_Study_ActionClips\\ATLAS_Dione_ObjectDetection_Study_ActionClips\\set12\\set12V010.mkv: 224x224 set11 0.62, set07 0.34, set09 0.03, set08 0.00, set04 0.00, 17.1ms\n",
      "video 1/1 (frame 46/244) C:\\Users\\Informatica_UNICAM\\Desktop\\csd\\activity-recognition\\atlas_dione_objectdetection\\ATLAS_Dione_ObjectDetection\\ATLAS_Dione_ObjectDetection_Study_ActionClips\\ATLAS_Dione_ObjectDetection_Study_ActionClips\\set12\\set12V010.mkv: 224x224 set07 0.59, set11 0.35, set09 0.04, set08 0.01, set04 0.00, 15.3ms\n",
      "video 1/1 (frame 47/244) C:\\Users\\Informatica_UNICAM\\Desktop\\csd\\activity-recognition\\atlas_dione_objectdetection\\ATLAS_Dione_ObjectDetection\\ATLAS_Dione_ObjectDetection_Study_ActionClips\\ATLAS_Dione_ObjectDetection_Study_ActionClips\\set12\\set12V010.mkv: 224x224 set07 0.66, set11 0.28, set09 0.04, set08 0.01, set04 0.00, 16.0ms\n",
      "video 1/1 (frame 48/244) C:\\Users\\Informatica_UNICAM\\Desktop\\csd\\activity-recognition\\atlas_dione_objectdetection\\ATLAS_Dione_ObjectDetection\\ATLAS_Dione_ObjectDetection_Study_ActionClips\\ATLAS_Dione_ObjectDetection_Study_ActionClips\\set12\\set12V010.mkv: 224x224 set07 0.72, set11 0.23, set09 0.03, set08 0.01, set04 0.00, 0.0ms\n",
      "video 1/1 (frame 49/244) C:\\Users\\Informatica_UNICAM\\Desktop\\csd\\activity-recognition\\atlas_dione_objectdetection\\ATLAS_Dione_ObjectDetection\\ATLAS_Dione_ObjectDetection_Study_ActionClips\\ATLAS_Dione_ObjectDetection_Study_ActionClips\\set12\\set12V010.mkv: 224x224 set07 0.72, set11 0.23, set09 0.04, set08 0.01, set04 0.00, 0.0ms\n",
      "video 1/1 (frame 50/244) C:\\Users\\Informatica_UNICAM\\Desktop\\csd\\activity-recognition\\atlas_dione_objectdetection\\ATLAS_Dione_ObjectDetection\\ATLAS_Dione_ObjectDetection_Study_ActionClips\\ATLAS_Dione_ObjectDetection_Study_ActionClips\\set12\\set12V010.mkv: 224x224 set07 0.85, set11 0.07, set09 0.05, set08 0.01, set04 0.00, 0.0ms\n",
      "video 1/1 (frame 51/244) C:\\Users\\Informatica_UNICAM\\Desktop\\csd\\activity-recognition\\atlas_dione_objectdetection\\ATLAS_Dione_ObjectDetection\\ATLAS_Dione_ObjectDetection_Study_ActionClips\\ATLAS_Dione_ObjectDetection_Study_ActionClips\\set12\\set12V010.mkv: 224x224 set07 0.88, set11 0.05, set09 0.05, set08 0.01, set04 0.00, 7.8ms\n",
      "video 1/1 (frame 52/244) C:\\Users\\Informatica_UNICAM\\Desktop\\csd\\activity-recognition\\atlas_dione_objectdetection\\ATLAS_Dione_ObjectDetection\\ATLAS_Dione_ObjectDetection_Study_ActionClips\\ATLAS_Dione_ObjectDetection_Study_ActionClips\\set12\\set12V010.mkv: 224x224 set07 0.90, set11 0.05, set09 0.03, set08 0.01, set04 0.00, 17.1ms\n",
      "video 1/1 (frame 53/244) C:\\Users\\Informatica_UNICAM\\Desktop\\csd\\activity-recognition\\atlas_dione_objectdetection\\ATLAS_Dione_ObjectDetection\\ATLAS_Dione_ObjectDetection_Study_ActionClips\\ATLAS_Dione_ObjectDetection_Study_ActionClips\\set12\\set12V010.mkv: 224x224 set07 0.82, set11 0.12, set09 0.04, set08 0.01, set04 0.00, 6.7ms\n",
      "video 1/1 (frame 54/244) C:\\Users\\Informatica_UNICAM\\Desktop\\csd\\activity-recognition\\atlas_dione_objectdetection\\ATLAS_Dione_ObjectDetection\\ATLAS_Dione_ObjectDetection_Study_ActionClips\\ATLAS_Dione_ObjectDetection_Study_ActionClips\\set12\\set12V010.mkv: 224x224 set07 0.78, set11 0.14, set09 0.06, set08 0.01, set04 0.00, 1.3ms\n",
      "video 1/1 (frame 55/244) C:\\Users\\Informatica_UNICAM\\Desktop\\csd\\activity-recognition\\atlas_dione_objectdetection\\ATLAS_Dione_ObjectDetection\\ATLAS_Dione_ObjectDetection_Study_ActionClips\\ATLAS_Dione_ObjectDetection_Study_ActionClips\\set12\\set12V010.mkv: 224x224 set07 0.86, set11 0.07, set09 0.05, set08 0.01, set04 0.00, 12.1ms\n",
      "video 1/1 (frame 56/244) C:\\Users\\Informatica_UNICAM\\Desktop\\csd\\activity-recognition\\atlas_dione_objectdetection\\ATLAS_Dione_ObjectDetection\\ATLAS_Dione_ObjectDetection_Study_ActionClips\\ATLAS_Dione_ObjectDetection_Study_ActionClips\\set12\\set12V010.mkv: 224x224 set07 0.91, set11 0.04, set09 0.03, set08 0.01, set04 0.00, 10.1ms\n",
      "video 1/1 (frame 57/244) C:\\Users\\Informatica_UNICAM\\Desktop\\csd\\activity-recognition\\atlas_dione_objectdetection\\ATLAS_Dione_ObjectDetection\\ATLAS_Dione_ObjectDetection_Study_ActionClips\\ATLAS_Dione_ObjectDetection_Study_ActionClips\\set12\\set12V010.mkv: 224x224 set07 0.89, set11 0.05, set09 0.04, set08 0.01, set04 0.00, 17.7ms\n",
      "video 1/1 (frame 58/244) C:\\Users\\Informatica_UNICAM\\Desktop\\csd\\activity-recognition\\atlas_dione_objectdetection\\ATLAS_Dione_ObjectDetection\\ATLAS_Dione_ObjectDetection_Study_ActionClips\\ATLAS_Dione_ObjectDetection_Study_ActionClips\\set12\\set12V010.mkv: 224x224 set07 0.89, set11 0.06, set09 0.04, set08 0.01, set04 0.00, 2.4ms\n",
      "video 1/1 (frame 59/244) C:\\Users\\Informatica_UNICAM\\Desktop\\csd\\activity-recognition\\atlas_dione_objectdetection\\ATLAS_Dione_ObjectDetection\\ATLAS_Dione_ObjectDetection_Study_ActionClips\\ATLAS_Dione_ObjectDetection_Study_ActionClips\\set12\\set12V010.mkv: 224x224 set07 0.90, set09 0.04, set11 0.04, set08 0.01, set04 0.00, 21.7ms\n",
      "video 1/1 (frame 60/244) C:\\Users\\Informatica_UNICAM\\Desktop\\csd\\activity-recognition\\atlas_dione_objectdetection\\ATLAS_Dione_ObjectDetection\\ATLAS_Dione_ObjectDetection_Study_ActionClips\\ATLAS_Dione_ObjectDetection_Study_ActionClips\\set12\\set12V010.mkv: 224x224 set07 0.90, set11 0.04, set09 0.04, set08 0.01, set04 0.00, 1.9ms\n",
      "video 1/1 (frame 61/244) C:\\Users\\Informatica_UNICAM\\Desktop\\csd\\activity-recognition\\atlas_dione_objectdetection\\ATLAS_Dione_ObjectDetection\\ATLAS_Dione_ObjectDetection_Study_ActionClips\\ATLAS_Dione_ObjectDetection_Study_ActionClips\\set12\\set12V010.mkv: 224x224 set07 0.84, set11 0.08, set09 0.06, set08 0.01, set04 0.00, 14.5ms\n",
      "video 1/1 (frame 62/244) C:\\Users\\Informatica_UNICAM\\Desktop\\csd\\activity-recognition\\atlas_dione_objectdetection\\ATLAS_Dione_ObjectDetection\\ATLAS_Dione_ObjectDetection_Study_ActionClips\\ATLAS_Dione_ObjectDetection_Study_ActionClips\\set12\\set12V010.mkv: 224x224 set07 0.80, set09 0.09, set11 0.08, set08 0.01, set04 0.01, 18.8ms\n",
      "video 1/1 (frame 63/244) C:\\Users\\Informatica_UNICAM\\Desktop\\csd\\activity-recognition\\atlas_dione_objectdetection\\ATLAS_Dione_ObjectDetection\\ATLAS_Dione_ObjectDetection_Study_ActionClips\\ATLAS_Dione_ObjectDetection_Study_ActionClips\\set12\\set12V010.mkv: 224x224 set07 0.83, set09 0.08, set11 0.06, set08 0.01, set04 0.00, 13.0ms\n",
      "video 1/1 (frame 64/244) C:\\Users\\Informatica_UNICAM\\Desktop\\csd\\activity-recognition\\atlas_dione_objectdetection\\ATLAS_Dione_ObjectDetection\\ATLAS_Dione_ObjectDetection_Study_ActionClips\\ATLAS_Dione_ObjectDetection_Study_ActionClips\\set12\\set12V010.mkv: 224x224 set07 0.85, set09 0.08, set11 0.05, set08 0.01, set04 0.00, 18.8ms\n",
      "video 1/1 (frame 65/244) C:\\Users\\Informatica_UNICAM\\Desktop\\csd\\activity-recognition\\atlas_dione_objectdetection\\ATLAS_Dione_ObjectDetection\\ATLAS_Dione_ObjectDetection_Study_ActionClips\\ATLAS_Dione_ObjectDetection_Study_ActionClips\\set12\\set12V010.mkv: 224x224 set07 0.84, set09 0.09, set11 0.05, set08 0.01, set04 0.01, 18.0ms\n",
      "video 1/1 (frame 66/244) C:\\Users\\Informatica_UNICAM\\Desktop\\csd\\activity-recognition\\atlas_dione_objectdetection\\ATLAS_Dione_ObjectDetection\\ATLAS_Dione_ObjectDetection_Study_ActionClips\\ATLAS_Dione_ObjectDetection_Study_ActionClips\\set12\\set12V010.mkv: 224x224 set07 0.82, set09 0.11, set11 0.05, set08 0.01, set04 0.01, 0.0ms\n",
      "video 1/1 (frame 67/244) C:\\Users\\Informatica_UNICAM\\Desktop\\csd\\activity-recognition\\atlas_dione_objectdetection\\ATLAS_Dione_ObjectDetection\\ATLAS_Dione_ObjectDetection_Study_ActionClips\\ATLAS_Dione_ObjectDetection_Study_ActionClips\\set12\\set12V010.mkv: 224x224 set07 0.87, set09 0.07, set11 0.04, set08 0.01, set04 0.01, 9.0ms\n",
      "video 1/1 (frame 68/244) C:\\Users\\Informatica_UNICAM\\Desktop\\csd\\activity-recognition\\atlas_dione_objectdetection\\ATLAS_Dione_ObjectDetection\\ATLAS_Dione_ObjectDetection_Study_ActionClips\\ATLAS_Dione_ObjectDetection_Study_ActionClips\\set12\\set12V010.mkv: 224x224 set07 0.88, set09 0.06, set11 0.04, set08 0.01, set04 0.00, 19.7ms\n",
      "video 1/1 (frame 69/244) C:\\Users\\Informatica_UNICAM\\Desktop\\csd\\activity-recognition\\atlas_dione_objectdetection\\ATLAS_Dione_ObjectDetection\\ATLAS_Dione_ObjectDetection_Study_ActionClips\\ATLAS_Dione_ObjectDetection_Study_ActionClips\\set12\\set12V010.mkv: 224x224 set07 0.91, set09 0.05, set11 0.03, set08 0.01, set04 0.00, 11.7ms\n",
      "video 1/1 (frame 70/244) C:\\Users\\Informatica_UNICAM\\Desktop\\csd\\activity-recognition\\atlas_dione_objectdetection\\ATLAS_Dione_ObjectDetection\\ATLAS_Dione_ObjectDetection_Study_ActionClips\\ATLAS_Dione_ObjectDetection_Study_ActionClips\\set12\\set12V010.mkv: 224x224 set07 0.93, set09 0.04, set11 0.02, set08 0.01, set04 0.00, 18.3ms\n",
      "video 1/1 (frame 71/244) C:\\Users\\Informatica_UNICAM\\Desktop\\csd\\activity-recognition\\atlas_dione_objectdetection\\ATLAS_Dione_ObjectDetection\\ATLAS_Dione_ObjectDetection_Study_ActionClips\\ATLAS_Dione_ObjectDetection_Study_ActionClips\\set12\\set12V010.mkv: 224x224 set07 0.94, set09 0.03, set11 0.02, set08 0.01, set04 0.00, 0.0ms\n",
      "video 1/1 (frame 72/244) C:\\Users\\Informatica_UNICAM\\Desktop\\csd\\activity-recognition\\atlas_dione_objectdetection\\ATLAS_Dione_ObjectDetection\\ATLAS_Dione_ObjectDetection_Study_ActionClips\\ATLAS_Dione_ObjectDetection_Study_ActionClips\\set12\\set12V010.mkv: 224x224 set07 0.95, set09 0.02, set11 0.01, set08 0.00, set04 0.00, 16.1ms\n",
      "video 1/1 (frame 73/244) C:\\Users\\Informatica_UNICAM\\Desktop\\csd\\activity-recognition\\atlas_dione_objectdetection\\ATLAS_Dione_ObjectDetection\\ATLAS_Dione_ObjectDetection_Study_ActionClips\\ATLAS_Dione_ObjectDetection_Study_ActionClips\\set12\\set12V010.mkv: 224x224 set07 0.96, set09 0.02, set11 0.01, set08 0.00, set04 0.00, 16.1ms\n",
      "video 1/1 (frame 74/244) C:\\Users\\Informatica_UNICAM\\Desktop\\csd\\activity-recognition\\atlas_dione_objectdetection\\ATLAS_Dione_ObjectDetection\\ATLAS_Dione_ObjectDetection_Study_ActionClips\\ATLAS_Dione_ObjectDetection_Study_ActionClips\\set12\\set12V010.mkv: 224x224 set07 0.96, set09 0.02, set11 0.01, set08 0.00, set04 0.00, 0.0ms\n",
      "video 1/1 (frame 75/244) C:\\Users\\Informatica_UNICAM\\Desktop\\csd\\activity-recognition\\atlas_dione_objectdetection\\ATLAS_Dione_ObjectDetection\\ATLAS_Dione_ObjectDetection_Study_ActionClips\\ATLAS_Dione_ObjectDetection_Study_ActionClips\\set12\\set12V010.mkv: 224x224 set07 0.95, set09 0.03, set11 0.01, set08 0.01, set04 0.00, 12.5ms\n",
      "video 1/1 (frame 76/244) C:\\Users\\Informatica_UNICAM\\Desktop\\csd\\activity-recognition\\atlas_dione_objectdetection\\ATLAS_Dione_ObjectDetection\\ATLAS_Dione_ObjectDetection_Study_ActionClips\\ATLAS_Dione_ObjectDetection_Study_ActionClips\\set12\\set12V010.mkv: 224x224 set07 0.88, set09 0.06, set11 0.03, set08 0.02, set04 0.01, 17.5ms\n",
      "video 1/1 (frame 77/244) C:\\Users\\Informatica_UNICAM\\Desktop\\csd\\activity-recognition\\atlas_dione_objectdetection\\ATLAS_Dione_ObjectDetection\\ATLAS_Dione_ObjectDetection_Study_ActionClips\\ATLAS_Dione_ObjectDetection_Study_ActionClips\\set12\\set12V010.mkv: 224x224 set07 0.84, set09 0.08, set11 0.03, set08 0.03, set04 0.01, 11.0ms\n",
      "video 1/1 (frame 78/244) C:\\Users\\Informatica_UNICAM\\Desktop\\csd\\activity-recognition\\atlas_dione_objectdetection\\ATLAS_Dione_ObjectDetection\\ATLAS_Dione_ObjectDetection_Study_ActionClips\\ATLAS_Dione_ObjectDetection_Study_ActionClips\\set12\\set12V010.mkv: 224x224 set07 0.86, set09 0.07, set11 0.04, set08 0.01, set04 0.01, 0.0ms\n",
      "video 1/1 (frame 79/244) C:\\Users\\Informatica_UNICAM\\Desktop\\csd\\activity-recognition\\atlas_dione_objectdetection\\ATLAS_Dione_ObjectDetection\\ATLAS_Dione_ObjectDetection_Study_ActionClips\\ATLAS_Dione_ObjectDetection_Study_ActionClips\\set12\\set12V010.mkv: 224x224 set07 0.86, set09 0.08, set11 0.03, set08 0.02, set04 0.01, 16.7ms\n",
      "video 1/1 (frame 80/244) C:\\Users\\Informatica_UNICAM\\Desktop\\csd\\activity-recognition\\atlas_dione_objectdetection\\ATLAS_Dione_ObjectDetection\\ATLAS_Dione_ObjectDetection_Study_ActionClips\\ATLAS_Dione_ObjectDetection_Study_ActionClips\\set12\\set12V010.mkv: 224x224 set07 0.84, set09 0.08, set11 0.03, set08 0.02, set04 0.01, 19.2ms\n",
      "video 1/1 (frame 81/244) C:\\Users\\Informatica_UNICAM\\Desktop\\csd\\activity-recognition\\atlas_dione_objectdetection\\ATLAS_Dione_ObjectDetection\\ATLAS_Dione_ObjectDetection_Study_ActionClips\\ATLAS_Dione_ObjectDetection_Study_ActionClips\\set12\\set12V010.mkv: 224x224 set07 0.82, set09 0.07, set11 0.07, set08 0.01, set04 0.01, 13.6ms\n",
      "video 1/1 (frame 82/244) C:\\Users\\Informatica_UNICAM\\Desktop\\csd\\activity-recognition\\atlas_dione_objectdetection\\ATLAS_Dione_ObjectDetection\\ATLAS_Dione_ObjectDetection_Study_ActionClips\\ATLAS_Dione_ObjectDetection_Study_ActionClips\\set12\\set12V010.mkv: 224x224 set07 0.81, set11 0.08, set09 0.07, set08 0.02, set04 0.01, 9.5ms\n",
      "video 1/1 (frame 83/244) C:\\Users\\Informatica_UNICAM\\Desktop\\csd\\activity-recognition\\atlas_dione_objectdetection\\ATLAS_Dione_ObjectDetection\\ATLAS_Dione_ObjectDetection_Study_ActionClips\\ATLAS_Dione_ObjectDetection_Study_ActionClips\\set12\\set12V010.mkv: 224x224 set07 0.82, set11 0.07, set09 0.07, set08 0.02, set04 0.01, 0.0ms\n",
      "video 1/1 (frame 84/244) C:\\Users\\Informatica_UNICAM\\Desktop\\csd\\activity-recognition\\atlas_dione_objectdetection\\ATLAS_Dione_ObjectDetection\\ATLAS_Dione_ObjectDetection_Study_ActionClips\\ATLAS_Dione_ObjectDetection_Study_ActionClips\\set12\\set12V010.mkv: 224x224 set07 0.83, set09 0.07, set11 0.05, set08 0.02, set04 0.01, 9.4ms\n",
      "video 1/1 (frame 85/244) C:\\Users\\Informatica_UNICAM\\Desktop\\csd\\activity-recognition\\atlas_dione_objectdetection\\ATLAS_Dione_ObjectDetection\\ATLAS_Dione_ObjectDetection_Study_ActionClips\\ATLAS_Dione_ObjectDetection_Study_ActionClips\\set12\\set12V010.mkv: 224x224 set07 0.83, set09 0.08, set11 0.04, set08 0.02, set04 0.01, 17.1ms\n",
      "video 1/1 (frame 86/244) C:\\Users\\Informatica_UNICAM\\Desktop\\csd\\activity-recognition\\atlas_dione_objectdetection\\ATLAS_Dione_ObjectDetection\\ATLAS_Dione_ObjectDetection_Study_ActionClips\\ATLAS_Dione_ObjectDetection_Study_ActionClips\\set12\\set12V010.mkv: 224x224 set07 0.84, set09 0.10, set11 0.04, set08 0.02, set04 0.01, 9.1ms\n",
      "video 1/1 (frame 87/244) C:\\Users\\Informatica_UNICAM\\Desktop\\csd\\activity-recognition\\atlas_dione_objectdetection\\ATLAS_Dione_ObjectDetection\\ATLAS_Dione_ObjectDetection_Study_ActionClips\\ATLAS_Dione_ObjectDetection_Study_ActionClips\\set12\\set12V010.mkv: 224x224 set07 0.90, set09 0.05, set11 0.02, set08 0.01, set04 0.00, 17.5ms\n",
      "video 1/1 (frame 88/244) C:\\Users\\Informatica_UNICAM\\Desktop\\csd\\activity-recognition\\atlas_dione_objectdetection\\ATLAS_Dione_ObjectDetection\\ATLAS_Dione_ObjectDetection_Study_ActionClips\\ATLAS_Dione_ObjectDetection_Study_ActionClips\\set12\\set12V010.mkv: 224x224 set07 0.93, set09 0.05, set11 0.01, set08 0.01, set04 0.00, 9.4ms\n",
      "video 1/1 (frame 89/244) C:\\Users\\Informatica_UNICAM\\Desktop\\csd\\activity-recognition\\atlas_dione_objectdetection\\ATLAS_Dione_ObjectDetection\\ATLAS_Dione_ObjectDetection_Study_ActionClips\\ATLAS_Dione_ObjectDetection_Study_ActionClips\\set12\\set12V010.mkv: 224x224 set07 0.90, set09 0.06, set11 0.02, set08 0.01, set04 0.00, 16.0ms\n",
      "video 1/1 (frame 90/244) C:\\Users\\Informatica_UNICAM\\Desktop\\csd\\activity-recognition\\atlas_dione_objectdetection\\ATLAS_Dione_ObjectDetection\\ATLAS_Dione_ObjectDetection_Study_ActionClips\\ATLAS_Dione_ObjectDetection_Study_ActionClips\\set12\\set12V010.mkv: 224x224 set07 0.90, set09 0.05, set11 0.02, set08 0.01, set04 0.00, 21.7ms\n",
      "video 1/1 (frame 91/244) C:\\Users\\Informatica_UNICAM\\Desktop\\csd\\activity-recognition\\atlas_dione_objectdetection\\ATLAS_Dione_ObjectDetection\\ATLAS_Dione_ObjectDetection_Study_ActionClips\\ATLAS_Dione_ObjectDetection_Study_ActionClips\\set12\\set12V010.mkv: 224x224 set07 0.89, set11 0.05, set09 0.04, set08 0.01, set04 0.00, 1.8ms\n",
      "video 1/1 (frame 92/244) C:\\Users\\Informatica_UNICAM\\Desktop\\csd\\activity-recognition\\atlas_dione_objectdetection\\ATLAS_Dione_ObjectDetection\\ATLAS_Dione_ObjectDetection_Study_ActionClips\\ATLAS_Dione_ObjectDetection_Study_ActionClips\\set12\\set12V010.mkv: 224x224 set07 0.84, set11 0.07, set09 0.06, set08 0.01, set04 0.01, 10.0ms\n",
      "video 1/1 (frame 93/244) C:\\Users\\Informatica_UNICAM\\Desktop\\csd\\activity-recognition\\atlas_dione_objectdetection\\ATLAS_Dione_ObjectDetection\\ATLAS_Dione_ObjectDetection_Study_ActionClips\\ATLAS_Dione_ObjectDetection_Study_ActionClips\\set12\\set12V010.mkv: 224x224 set07 0.74, set11 0.19, set09 0.05, set08 0.01, set04 0.01, 15.9ms\n",
      "video 1/1 (frame 94/244) C:\\Users\\Informatica_UNICAM\\Desktop\\csd\\activity-recognition\\atlas_dione_objectdetection\\ATLAS_Dione_ObjectDetection\\ATLAS_Dione_ObjectDetection_Study_ActionClips\\ATLAS_Dione_ObjectDetection_Study_ActionClips\\set12\\set12V010.mkv: 224x224 set07 0.75, set11 0.14, set09 0.08, set08 0.01, set04 0.01, 15.3ms\n",
      "video 1/1 (frame 95/244) C:\\Users\\Informatica_UNICAM\\Desktop\\csd\\activity-recognition\\atlas_dione_objectdetection\\ATLAS_Dione_ObjectDetection\\ATLAS_Dione_ObjectDetection_Study_ActionClips\\ATLAS_Dione_ObjectDetection_Study_ActionClips\\set12\\set12V010.mkv: 224x224 set07 0.51, set11 0.38, set09 0.08, set08 0.01, set04 0.01, 15.5ms\n",
      "video 1/1 (frame 96/244) C:\\Users\\Informatica_UNICAM\\Desktop\\csd\\activity-recognition\\atlas_dione_objectdetection\\ATLAS_Dione_ObjectDetection\\ATLAS_Dione_ObjectDetection_Study_ActionClips\\ATLAS_Dione_ObjectDetection_Study_ActionClips\\set12\\set12V010.mkv: 224x224 set07 0.58, set11 0.34, set09 0.05, set04 0.01, set08 0.01, 17.2ms\n",
      "video 1/1 (frame 97/244) C:\\Users\\Informatica_UNICAM\\Desktop\\csd\\activity-recognition\\atlas_dione_objectdetection\\ATLAS_Dione_ObjectDetection\\ATLAS_Dione_ObjectDetection_Study_ActionClips\\ATLAS_Dione_ObjectDetection_Study_ActionClips\\set12\\set12V010.mkv: 224x224 set07 0.53, set11 0.38, set09 0.06, set08 0.01, set04 0.01, 16.5ms\n",
      "video 1/1 (frame 98/244) C:\\Users\\Informatica_UNICAM\\Desktop\\csd\\activity-recognition\\atlas_dione_objectdetection\\ATLAS_Dione_ObjectDetection\\ATLAS_Dione_ObjectDetection_Study_ActionClips\\ATLAS_Dione_ObjectDetection_Study_ActionClips\\set12\\set12V010.mkv: 224x224 set07 0.67, set11 0.25, set09 0.06, set08 0.01, set04 0.00, 0.0ms\n",
      "video 1/1 (frame 99/244) C:\\Users\\Informatica_UNICAM\\Desktop\\csd\\activity-recognition\\atlas_dione_objectdetection\\ATLAS_Dione_ObjectDetection\\ATLAS_Dione_ObjectDetection_Study_ActionClips\\ATLAS_Dione_ObjectDetection_Study_ActionClips\\set12\\set12V010.mkv: 224x224 set07 0.54, set11 0.35, set09 0.08, set08 0.01, set04 0.01, 10.0ms\n",
      "video 1/1 (frame 100/244) C:\\Users\\Informatica_UNICAM\\Desktop\\csd\\activity-recognition\\atlas_dione_objectdetection\\ATLAS_Dione_ObjectDetection\\ATLAS_Dione_ObjectDetection_Study_ActionClips\\ATLAS_Dione_ObjectDetection_Study_ActionClips\\set12\\set12V010.mkv: 224x224 set07 0.66, set11 0.27, set09 0.05, set08 0.01, set04 0.00, 0.0ms\n",
      "video 1/1 (frame 101/244) C:\\Users\\Informatica_UNICAM\\Desktop\\csd\\activity-recognition\\atlas_dione_objectdetection\\ATLAS_Dione_ObjectDetection\\ATLAS_Dione_ObjectDetection_Study_ActionClips\\ATLAS_Dione_ObjectDetection_Study_ActionClips\\set12\\set12V010.mkv: 224x224 set11 0.55, set07 0.42, set09 0.02, set08 0.00, set04 0.00, 9.6ms\n",
      "video 1/1 (frame 102/244) C:\\Users\\Informatica_UNICAM\\Desktop\\csd\\activity-recognition\\atlas_dione_objectdetection\\ATLAS_Dione_ObjectDetection\\ATLAS_Dione_ObjectDetection_Study_ActionClips\\ATLAS_Dione_ObjectDetection_Study_ActionClips\\set12\\set12V010.mkv: 224x224 set11 0.77, set07 0.20, set09 0.01, set04 0.00, set08 0.00, 0.0ms\n",
      "video 1/1 (frame 103/244) C:\\Users\\Informatica_UNICAM\\Desktop\\csd\\activity-recognition\\atlas_dione_objectdetection\\ATLAS_Dione_ObjectDetection\\ATLAS_Dione_ObjectDetection_Study_ActionClips\\ATLAS_Dione_ObjectDetection_Study_ActionClips\\set12\\set12V010.mkv: 224x224 set11 0.80, set07 0.17, set09 0.02, set08 0.00, set04 0.00, 0.0ms\n",
      "video 1/1 (frame 104/244) C:\\Users\\Informatica_UNICAM\\Desktop\\csd\\activity-recognition\\atlas_dione_objectdetection\\ATLAS_Dione_ObjectDetection\\ATLAS_Dione_ObjectDetection_Study_ActionClips\\ATLAS_Dione_ObjectDetection_Study_ActionClips\\set12\\set12V010.mkv: 224x224 set11 0.85, set07 0.13, set09 0.01, set08 0.00, set04 0.00, 0.0ms\n",
      "video 1/1 (frame 105/244) C:\\Users\\Informatica_UNICAM\\Desktop\\csd\\activity-recognition\\atlas_dione_objectdetection\\ATLAS_Dione_ObjectDetection\\ATLAS_Dione_ObjectDetection_Study_ActionClips\\ATLAS_Dione_ObjectDetection_Study_ActionClips\\set12\\set12V010.mkv: 224x224 set11 0.95, set07 0.05, set09 0.00, set10 0.00, set08 0.00, 9.0ms\n",
      "video 1/1 (frame 106/244) C:\\Users\\Informatica_UNICAM\\Desktop\\csd\\activity-recognition\\atlas_dione_objectdetection\\ATLAS_Dione_ObjectDetection\\ATLAS_Dione_ObjectDetection_Study_ActionClips\\ATLAS_Dione_ObjectDetection_Study_ActionClips\\set12\\set12V010.mkv: 224x224 set11 0.88, set07 0.11, set09 0.01, set10 0.00, set08 0.00, 17.9ms\n",
      "video 1/1 (frame 107/244) C:\\Users\\Informatica_UNICAM\\Desktop\\csd\\activity-recognition\\atlas_dione_objectdetection\\ATLAS_Dione_ObjectDetection\\ATLAS_Dione_ObjectDetection_Study_ActionClips\\ATLAS_Dione_ObjectDetection_Study_ActionClips\\set12\\set12V010.mkv: 224x224 set11 0.82, set07 0.17, set09 0.01, set10 0.00, set04 0.00, 16.5ms\n",
      "video 1/1 (frame 108/244) C:\\Users\\Informatica_UNICAM\\Desktop\\csd\\activity-recognition\\atlas_dione_objectdetection\\ATLAS_Dione_ObjectDetection\\ATLAS_Dione_ObjectDetection_Study_ActionClips\\ATLAS_Dione_ObjectDetection_Study_ActionClips\\set12\\set12V010.mkv: 224x224 set11 0.64, set07 0.35, set09 0.01, set10 0.00, set08 0.00, 29.4ms\n",
      "video 1/1 (frame 109/244) C:\\Users\\Informatica_UNICAM\\Desktop\\csd\\activity-recognition\\atlas_dione_objectdetection\\ATLAS_Dione_ObjectDetection\\ATLAS_Dione_ObjectDetection_Study_ActionClips\\ATLAS_Dione_ObjectDetection_Study_ActionClips\\set12\\set12V010.mkv: 224x224 set11 0.68, set07 0.30, set09 0.01, set10 0.00, set08 0.00, 21.4ms\n",
      "video 1/1 (frame 110/244) C:\\Users\\Informatica_UNICAM\\Desktop\\csd\\activity-recognition\\atlas_dione_objectdetection\\ATLAS_Dione_ObjectDetection\\ATLAS_Dione_ObjectDetection_Study_ActionClips\\ATLAS_Dione_ObjectDetection_Study_ActionClips\\set12\\set12V010.mkv: 224x224 set07 0.58, set11 0.40, set09 0.01, set10 0.00, set08 0.00, 15.8ms\n",
      "video 1/1 (frame 111/244) C:\\Users\\Informatica_UNICAM\\Desktop\\csd\\activity-recognition\\atlas_dione_objectdetection\\ATLAS_Dione_ObjectDetection\\ATLAS_Dione_ObjectDetection_Study_ActionClips\\ATLAS_Dione_ObjectDetection_Study_ActionClips\\set12\\set12V010.mkv: 224x224 set07 0.58, set11 0.40, set09 0.01, set10 0.00, set08 0.00, 0.5ms\n",
      "video 1/1 (frame 112/244) C:\\Users\\Informatica_UNICAM\\Desktop\\csd\\activity-recognition\\atlas_dione_objectdetection\\ATLAS_Dione_ObjectDetection\\ATLAS_Dione_ObjectDetection_Study_ActionClips\\ATLAS_Dione_ObjectDetection_Study_ActionClips\\set12\\set12V010.mkv: 224x224 set07 0.65, set11 0.34, set09 0.01, set08 0.00, set02 0.00, 8.4ms\n",
      "video 1/1 (frame 113/244) C:\\Users\\Informatica_UNICAM\\Desktop\\csd\\activity-recognition\\atlas_dione_objectdetection\\ATLAS_Dione_ObjectDetection\\ATLAS_Dione_ObjectDetection_Study_ActionClips\\ATLAS_Dione_ObjectDetection_Study_ActionClips\\set12\\set12V010.mkv: 224x224 set07 0.69, set11 0.29, set09 0.01, set02 0.00, set08 0.00, 17.9ms\n",
      "video 1/1 (frame 114/244) C:\\Users\\Informatica_UNICAM\\Desktop\\csd\\activity-recognition\\atlas_dione_objectdetection\\ATLAS_Dione_ObjectDetection\\ATLAS_Dione_ObjectDetection_Study_ActionClips\\ATLAS_Dione_ObjectDetection_Study_ActionClips\\set12\\set12V010.mkv: 224x224 set07 0.73, set11 0.25, set09 0.01, set02 0.00, set08 0.00, 9.5ms\n",
      "video 1/1 (frame 115/244) C:\\Users\\Informatica_UNICAM\\Desktop\\csd\\activity-recognition\\atlas_dione_objectdetection\\ATLAS_Dione_ObjectDetection\\ATLAS_Dione_ObjectDetection_Study_ActionClips\\ATLAS_Dione_ObjectDetection_Study_ActionClips\\set12\\set12V010.mkv: 224x224 set07 0.81, set11 0.17, set09 0.01, set02 0.00, set08 0.00, 16.3ms\n",
      "video 1/1 (frame 116/244) C:\\Users\\Informatica_UNICAM\\Desktop\\csd\\activity-recognition\\atlas_dione_objectdetection\\ATLAS_Dione_ObjectDetection\\ATLAS_Dione_ObjectDetection_Study_ActionClips\\ATLAS_Dione_ObjectDetection_Study_ActionClips\\set12\\set12V010.mkv: 224x224 set07 0.84, set11 0.15, set09 0.01, set02 0.00, set01 0.00, 14.0ms\n",
      "video 1/1 (frame 117/244) C:\\Users\\Informatica_UNICAM\\Desktop\\csd\\activity-recognition\\atlas_dione_objectdetection\\ATLAS_Dione_ObjectDetection\\ATLAS_Dione_ObjectDetection_Study_ActionClips\\ATLAS_Dione_ObjectDetection_Study_ActionClips\\set12\\set12V010.mkv: 224x224 set07 0.72, set11 0.27, set09 0.01, set02 0.00, set08 0.00, 14.6ms\n",
      "video 1/1 (frame 118/244) C:\\Users\\Informatica_UNICAM\\Desktop\\csd\\activity-recognition\\atlas_dione_objectdetection\\ATLAS_Dione_ObjectDetection\\ATLAS_Dione_ObjectDetection_Study_ActionClips\\ATLAS_Dione_ObjectDetection_Study_ActionClips\\set12\\set12V010.mkv: 224x224 set07 0.56, set11 0.43, set09 0.01, set02 0.00, set08 0.00, 15.7ms\n",
      "video 1/1 (frame 119/244) C:\\Users\\Informatica_UNICAM\\Desktop\\csd\\activity-recognition\\atlas_dione_objectdetection\\ATLAS_Dione_ObjectDetection\\ATLAS_Dione_ObjectDetection_Study_ActionClips\\ATLAS_Dione_ObjectDetection_Study_ActionClips\\set12\\set12V010.mkv: 224x224 set07 0.75, set11 0.24, set09 0.01, set02 0.00, set08 0.00, 11.0ms\n",
      "video 1/1 (frame 120/244) C:\\Users\\Informatica_UNICAM\\Desktop\\csd\\activity-recognition\\atlas_dione_objectdetection\\ATLAS_Dione_ObjectDetection\\ATLAS_Dione_ObjectDetection_Study_ActionClips\\ATLAS_Dione_ObjectDetection_Study_ActionClips\\set12\\set12V010.mkv: 224x224 set07 0.72, set11 0.27, set09 0.01, set02 0.00, set01 0.00, 16.8ms\n",
      "video 1/1 (frame 121/244) C:\\Users\\Informatica_UNICAM\\Desktop\\csd\\activity-recognition\\atlas_dione_objectdetection\\ATLAS_Dione_ObjectDetection\\ATLAS_Dione_ObjectDetection_Study_ActionClips\\ATLAS_Dione_ObjectDetection_Study_ActionClips\\set12\\set12V010.mkv: 224x224 set07 0.77, set11 0.22, set09 0.01, set02 0.00, set01 0.00, 17.2ms\n",
      "video 1/1 (frame 122/244) C:\\Users\\Informatica_UNICAM\\Desktop\\csd\\activity-recognition\\atlas_dione_objectdetection\\ATLAS_Dione_ObjectDetection\\ATLAS_Dione_ObjectDetection_Study_ActionClips\\ATLAS_Dione_ObjectDetection_Study_ActionClips\\set12\\set12V010.mkv: 224x224 set07 0.65, set11 0.33, set09 0.01, set02 0.00, set01 0.00, 1.4ms\n",
      "video 1/1 (frame 123/244) C:\\Users\\Informatica_UNICAM\\Desktop\\csd\\activity-recognition\\atlas_dione_objectdetection\\ATLAS_Dione_ObjectDetection\\ATLAS_Dione_ObjectDetection_Study_ActionClips\\ATLAS_Dione_ObjectDetection_Study_ActionClips\\set12\\set12V010.mkv: 224x224 set07 0.61, set11 0.38, set09 0.01, set02 0.00, set01 0.00, 0.0ms\n",
      "video 1/1 (frame 124/244) C:\\Users\\Informatica_UNICAM\\Desktop\\csd\\activity-recognition\\atlas_dione_objectdetection\\ATLAS_Dione_ObjectDetection\\ATLAS_Dione_ObjectDetection_Study_ActionClips\\ATLAS_Dione_ObjectDetection_Study_ActionClips\\set12\\set12V010.mkv: 224x224 set11 0.68, set07 0.31, set09 0.01, set02 0.00, set08 0.00, 9.0ms\n",
      "video 1/1 (frame 125/244) C:\\Users\\Informatica_UNICAM\\Desktop\\csd\\activity-recognition\\atlas_dione_objectdetection\\ATLAS_Dione_ObjectDetection\\ATLAS_Dione_ObjectDetection_Study_ActionClips\\ATLAS_Dione_ObjectDetection_Study_ActionClips\\set12\\set12V010.mkv: 224x224 set11 0.90, set07 0.09, set09 0.01, set02 0.00, set08 0.00, 16.1ms\n",
      "video 1/1 (frame 126/244) C:\\Users\\Informatica_UNICAM\\Desktop\\csd\\activity-recognition\\atlas_dione_objectdetection\\ATLAS_Dione_ObjectDetection\\ATLAS_Dione_ObjectDetection_Study_ActionClips\\ATLAS_Dione_ObjectDetection_Study_ActionClips\\set12\\set12V010.mkv: 224x224 set11 0.84, set07 0.14, set09 0.01, set08 0.00, set10 0.00, 15.5ms\n",
      "video 1/1 (frame 127/244) C:\\Users\\Informatica_UNICAM\\Desktop\\csd\\activity-recognition\\atlas_dione_objectdetection\\ATLAS_Dione_ObjectDetection\\ATLAS_Dione_ObjectDetection_Study_ActionClips\\ATLAS_Dione_ObjectDetection_Study_ActionClips\\set12\\set12V010.mkv: 224x224 set11 0.79, set07 0.20, set09 0.01, set08 0.00, set10 0.00, 0.0ms\n",
      "video 1/1 (frame 128/244) C:\\Users\\Informatica_UNICAM\\Desktop\\csd\\activity-recognition\\atlas_dione_objectdetection\\ATLAS_Dione_ObjectDetection\\ATLAS_Dione_ObjectDetection_Study_ActionClips\\ATLAS_Dione_ObjectDetection_Study_ActionClips\\set12\\set12V010.mkv: 224x224 set11 0.66, set07 0.32, set09 0.01, set08 0.00, set02 0.00, 0.0ms\n",
      "video 1/1 (frame 129/244) C:\\Users\\Informatica_UNICAM\\Desktop\\csd\\activity-recognition\\atlas_dione_objectdetection\\ATLAS_Dione_ObjectDetection\\ATLAS_Dione_ObjectDetection_Study_ActionClips\\ATLAS_Dione_ObjectDetection_Study_ActionClips\\set12\\set12V010.mkv: 224x224 set11 0.70, set07 0.27, set09 0.01, set02 0.00, set08 0.00, 7.8ms\n",
      "video 1/1 (frame 130/244) C:\\Users\\Informatica_UNICAM\\Desktop\\csd\\activity-recognition\\atlas_dione_objectdetection\\ATLAS_Dione_ObjectDetection\\ATLAS_Dione_ObjectDetection_Study_ActionClips\\ATLAS_Dione_ObjectDetection_Study_ActionClips\\set12\\set12V010.mkv: 224x224 set11 0.72, set07 0.27, set09 0.01, set02 0.00, set08 0.00, 19.1ms\n",
      "video 1/1 (frame 131/244) C:\\Users\\Informatica_UNICAM\\Desktop\\csd\\activity-recognition\\atlas_dione_objectdetection\\ATLAS_Dione_ObjectDetection\\ATLAS_Dione_ObjectDetection_Study_ActionClips\\ATLAS_Dione_ObjectDetection_Study_ActionClips\\set12\\set12V010.mkv: 224x224 set11 0.79, set07 0.20, set09 0.01, set02 0.00, set08 0.00, 3.5ms\n",
      "video 1/1 (frame 132/244) C:\\Users\\Informatica_UNICAM\\Desktop\\csd\\activity-recognition\\atlas_dione_objectdetection\\ATLAS_Dione_ObjectDetection\\ATLAS_Dione_ObjectDetection_Study_ActionClips\\ATLAS_Dione_ObjectDetection_Study_ActionClips\\set12\\set12V010.mkv: 224x224 set11 0.82, set07 0.17, set09 0.01, set02 0.00, set08 0.00, 16.4ms\n",
      "video 1/1 (frame 133/244) C:\\Users\\Informatica_UNICAM\\Desktop\\csd\\activity-recognition\\atlas_dione_objectdetection\\ATLAS_Dione_ObjectDetection\\ATLAS_Dione_ObjectDetection_Study_ActionClips\\ATLAS_Dione_ObjectDetection_Study_ActionClips\\set12\\set12V010.mkv: 224x224 set11 0.76, set07 0.22, set09 0.01, set02 0.00, set08 0.00, 14.9ms\n",
      "video 1/1 (frame 134/244) C:\\Users\\Informatica_UNICAM\\Desktop\\csd\\activity-recognition\\atlas_dione_objectdetection\\ATLAS_Dione_ObjectDetection\\ATLAS_Dione_ObjectDetection_Study_ActionClips\\ATLAS_Dione_ObjectDetection_Study_ActionClips\\set12\\set12V010.mkv: 224x224 set11 0.91, set07 0.08, set09 0.01, set02 0.00, set08 0.00, 18.4ms\n",
      "video 1/1 (frame 135/244) C:\\Users\\Informatica_UNICAM\\Desktop\\csd\\activity-recognition\\atlas_dione_objectdetection\\ATLAS_Dione_ObjectDetection\\ATLAS_Dione_ObjectDetection_Study_ActionClips\\ATLAS_Dione_ObjectDetection_Study_ActionClips\\set12\\set12V010.mkv: 224x224 set11 0.98, set07 0.02, set09 0.00, set02 0.00, set10 0.00, 12.6ms\n",
      "video 1/1 (frame 136/244) C:\\Users\\Informatica_UNICAM\\Desktop\\csd\\activity-recognition\\atlas_dione_objectdetection\\ATLAS_Dione_ObjectDetection\\ATLAS_Dione_ObjectDetection_Study_ActionClips\\ATLAS_Dione_ObjectDetection_Study_ActionClips\\set12\\set12V010.mkv: 224x224 set11 0.98, set07 0.02, set09 0.00, set02 0.00, set10 0.00, 0.0ms\n",
      "video 1/1 (frame 137/244) C:\\Users\\Informatica_UNICAM\\Desktop\\csd\\activity-recognition\\atlas_dione_objectdetection\\ATLAS_Dione_ObjectDetection\\ATLAS_Dione_ObjectDetection_Study_ActionClips\\ATLAS_Dione_ObjectDetection_Study_ActionClips\\set12\\set12V010.mkv: 224x224 set11 0.97, set07 0.03, set09 0.00, set02 0.00, set08 0.00, 2.7ms\n",
      "video 1/1 (frame 138/244) C:\\Users\\Informatica_UNICAM\\Desktop\\csd\\activity-recognition\\atlas_dione_objectdetection\\ATLAS_Dione_ObjectDetection\\ATLAS_Dione_ObjectDetection_Study_ActionClips\\ATLAS_Dione_ObjectDetection_Study_ActionClips\\set12\\set12V010.mkv: 224x224 set11 0.97, set07 0.02, set09 0.00, set02 0.00, set10 0.00, 10.0ms\n",
      "video 1/1 (frame 139/244) C:\\Users\\Informatica_UNICAM\\Desktop\\csd\\activity-recognition\\atlas_dione_objectdetection\\ATLAS_Dione_ObjectDetection\\ATLAS_Dione_ObjectDetection_Study_ActionClips\\ATLAS_Dione_ObjectDetection_Study_ActionClips\\set12\\set12V010.mkv: 224x224 set11 0.97, set07 0.03, set09 0.00, set02 0.00, set10 0.00, 0.0ms\n",
      "video 1/1 (frame 140/244) C:\\Users\\Informatica_UNICAM\\Desktop\\csd\\activity-recognition\\atlas_dione_objectdetection\\ATLAS_Dione_ObjectDetection\\ATLAS_Dione_ObjectDetection_Study_ActionClips\\ATLAS_Dione_ObjectDetection_Study_ActionClips\\set12\\set12V010.mkv: 224x224 set11 0.97, set07 0.03, set09 0.00, set02 0.00, set03 0.00, 10.3ms\n",
      "video 1/1 (frame 141/244) C:\\Users\\Informatica_UNICAM\\Desktop\\csd\\activity-recognition\\atlas_dione_objectdetection\\ATLAS_Dione_ObjectDetection\\ATLAS_Dione_ObjectDetection_Study_ActionClips\\ATLAS_Dione_ObjectDetection_Study_ActionClips\\set12\\set12V010.mkv: 224x224 set11 0.98, set07 0.02, set09 0.00, set02 0.00, set10 0.00, 17.9ms\n",
      "video 1/1 (frame 142/244) C:\\Users\\Informatica_UNICAM\\Desktop\\csd\\activity-recognition\\atlas_dione_objectdetection\\ATLAS_Dione_ObjectDetection\\ATLAS_Dione_ObjectDetection_Study_ActionClips\\ATLAS_Dione_ObjectDetection_Study_ActionClips\\set12\\set12V010.mkv: 224x224 set11 0.97, set07 0.03, set09 0.00, set02 0.00, set04 0.00, 15.9ms\n",
      "video 1/1 (frame 143/244) C:\\Users\\Informatica_UNICAM\\Desktop\\csd\\activity-recognition\\atlas_dione_objectdetection\\ATLAS_Dione_ObjectDetection\\ATLAS_Dione_ObjectDetection_Study_ActionClips\\ATLAS_Dione_ObjectDetection_Study_ActionClips\\set12\\set12V010.mkv: 224x224 set11 0.97, set07 0.02, set09 0.00, set02 0.00, set04 0.00, 2.3ms\n",
      "video 1/1 (frame 144/244) C:\\Users\\Informatica_UNICAM\\Desktop\\csd\\activity-recognition\\atlas_dione_objectdetection\\ATLAS_Dione_ObjectDetection\\ATLAS_Dione_ObjectDetection_Study_ActionClips\\ATLAS_Dione_ObjectDetection_Study_ActionClips\\set12\\set12V010.mkv: 224x224 set11 0.94, set07 0.04, set09 0.01, set02 0.00, set08 0.00, 9.0ms\n",
      "video 1/1 (frame 145/244) C:\\Users\\Informatica_UNICAM\\Desktop\\csd\\activity-recognition\\atlas_dione_objectdetection\\ATLAS_Dione_ObjectDetection\\ATLAS_Dione_ObjectDetection_Study_ActionClips\\ATLAS_Dione_ObjectDetection_Study_ActionClips\\set12\\set12V010.mkv: 224x224 set11 0.92, set07 0.06, set09 0.01, set08 0.00, set03 0.00, 0.0ms\n",
      "video 1/1 (frame 146/244) C:\\Users\\Informatica_UNICAM\\Desktop\\csd\\activity-recognition\\atlas_dione_objectdetection\\ATLAS_Dione_ObjectDetection\\ATLAS_Dione_ObjectDetection_Study_ActionClips\\ATLAS_Dione_ObjectDetection_Study_ActionClips\\set12\\set12V010.mkv: 224x224 set11 0.95, set07 0.04, set09 0.01, set02 0.00, set03 0.00, 10.0ms\n",
      "video 1/1 (frame 147/244) C:\\Users\\Informatica_UNICAM\\Desktop\\csd\\activity-recognition\\atlas_dione_objectdetection\\ATLAS_Dione_ObjectDetection\\ATLAS_Dione_ObjectDetection_Study_ActionClips\\ATLAS_Dione_ObjectDetection_Study_ActionClips\\set12\\set12V010.mkv: 224x224 set11 0.92, set07 0.07, set09 0.01, set02 0.00, set03 0.00, 0.0ms\n",
      "video 1/1 (frame 148/244) C:\\Users\\Informatica_UNICAM\\Desktop\\csd\\activity-recognition\\atlas_dione_objectdetection\\ATLAS_Dione_ObjectDetection\\ATLAS_Dione_ObjectDetection_Study_ActionClips\\ATLAS_Dione_ObjectDetection_Study_ActionClips\\set12\\set12V010.mkv: 224x224 set11 0.93, set07 0.06, set09 0.01, set02 0.00, set08 0.00, 15.2ms\n",
      "video 1/1 (frame 149/244) C:\\Users\\Informatica_UNICAM\\Desktop\\csd\\activity-recognition\\atlas_dione_objectdetection\\ATLAS_Dione_ObjectDetection\\ATLAS_Dione_ObjectDetection_Study_ActionClips\\ATLAS_Dione_ObjectDetection_Study_ActionClips\\set12\\set12V010.mkv: 224x224 set11 0.96, set07 0.03, set09 0.01, set02 0.00, set08 0.00, 14.6ms\n",
      "video 1/1 (frame 150/244) C:\\Users\\Informatica_UNICAM\\Desktop\\csd\\activity-recognition\\atlas_dione_objectdetection\\ATLAS_Dione_ObjectDetection\\ATLAS_Dione_ObjectDetection_Study_ActionClips\\ATLAS_Dione_ObjectDetection_Study_ActionClips\\set12\\set12V010.mkv: 224x224 set11 0.95, set07 0.04, set09 0.01, set02 0.00, set08 0.00, 16.3ms\n",
      "video 1/1 (frame 151/244) C:\\Users\\Informatica_UNICAM\\Desktop\\csd\\activity-recognition\\atlas_dione_objectdetection\\ATLAS_Dione_ObjectDetection\\ATLAS_Dione_ObjectDetection_Study_ActionClips\\ATLAS_Dione_ObjectDetection_Study_ActionClips\\set12\\set12V010.mkv: 224x224 set11 0.93, set07 0.06, set09 0.01, set02 0.00, set08 0.00, 18.3ms\n",
      "video 1/1 (frame 152/244) C:\\Users\\Informatica_UNICAM\\Desktop\\csd\\activity-recognition\\atlas_dione_objectdetection\\ATLAS_Dione_ObjectDetection\\ATLAS_Dione_ObjectDetection_Study_ActionClips\\ATLAS_Dione_ObjectDetection_Study_ActionClips\\set12\\set12V010.mkv: 224x224 set11 0.94, set07 0.05, set09 0.00, set02 0.00, set08 0.00, 11.3ms\n",
      "video 1/1 (frame 153/244) C:\\Users\\Informatica_UNICAM\\Desktop\\csd\\activity-recognition\\atlas_dione_objectdetection\\ATLAS_Dione_ObjectDetection\\ATLAS_Dione_ObjectDetection_Study_ActionClips\\ATLAS_Dione_ObjectDetection_Study_ActionClips\\set12\\set12V010.mkv: 224x224 set11 0.97, set07 0.02, set09 0.00, set02 0.00, set03 0.00, 0.0ms\n",
      "video 1/1 (frame 154/244) C:\\Users\\Informatica_UNICAM\\Desktop\\csd\\activity-recognition\\atlas_dione_objectdetection\\ATLAS_Dione_ObjectDetection\\ATLAS_Dione_ObjectDetection_Study_ActionClips\\ATLAS_Dione_ObjectDetection_Study_ActionClips\\set12\\set12V010.mkv: 224x224 set11 0.98, set07 0.02, set09 0.00, set02 0.00, set08 0.00, 8.0ms\n",
      "video 1/1 (frame 155/244) C:\\Users\\Informatica_UNICAM\\Desktop\\csd\\activity-recognition\\atlas_dione_objectdetection\\ATLAS_Dione_ObjectDetection\\ATLAS_Dione_ObjectDetection_Study_ActionClips\\ATLAS_Dione_ObjectDetection_Study_ActionClips\\set12\\set12V010.mkv: 224x224 set11 0.96, set07 0.04, set09 0.00, set02 0.00, set03 0.00, 0.0ms\n",
      "video 1/1 (frame 156/244) C:\\Users\\Informatica_UNICAM\\Desktop\\csd\\activity-recognition\\atlas_dione_objectdetection\\ATLAS_Dione_ObjectDetection\\ATLAS_Dione_ObjectDetection_Study_ActionClips\\ATLAS_Dione_ObjectDetection_Study_ActionClips\\set12\\set12V010.mkv: 224x224 set11 0.92, set07 0.07, set09 0.01, set02 0.00, set08 0.00, 0.0ms\n",
      "video 1/1 (frame 157/244) C:\\Users\\Informatica_UNICAM\\Desktop\\csd\\activity-recognition\\atlas_dione_objectdetection\\ATLAS_Dione_ObjectDetection\\ATLAS_Dione_ObjectDetection_Study_ActionClips\\ATLAS_Dione_ObjectDetection_Study_ActionClips\\set12\\set12V010.mkv: 224x224 set11 0.96, set07 0.04, set09 0.00, set02 0.00, set08 0.00, 0.0ms\n",
      "video 1/1 (frame 158/244) C:\\Users\\Informatica_UNICAM\\Desktop\\csd\\activity-recognition\\atlas_dione_objectdetection\\ATLAS_Dione_ObjectDetection\\ATLAS_Dione_ObjectDetection_Study_ActionClips\\ATLAS_Dione_ObjectDetection_Study_ActionClips\\set12\\set12V010.mkv: 224x224 set11 0.94, set07 0.05, set09 0.00, set02 0.00, set08 0.00, 9.0ms\n",
      "video 1/1 (frame 159/244) C:\\Users\\Informatica_UNICAM\\Desktop\\csd\\activity-recognition\\atlas_dione_objectdetection\\ATLAS_Dione_ObjectDetection\\ATLAS_Dione_ObjectDetection_Study_ActionClips\\ATLAS_Dione_ObjectDetection_Study_ActionClips\\set12\\set12V010.mkv: 224x224 set11 0.92, set07 0.07, set09 0.01, set02 0.00, set08 0.00, 15.6ms\n",
      "video 1/1 (frame 160/244) C:\\Users\\Informatica_UNICAM\\Desktop\\csd\\activity-recognition\\atlas_dione_objectdetection\\ATLAS_Dione_ObjectDetection\\ATLAS_Dione_ObjectDetection_Study_ActionClips\\ATLAS_Dione_ObjectDetection_Study_ActionClips\\set12\\set12V010.mkv: 224x224 set11 0.95, set07 0.04, set09 0.00, set02 0.00, set08 0.00, 16.3ms\n",
      "video 1/1 (frame 161/244) C:\\Users\\Informatica_UNICAM\\Desktop\\csd\\activity-recognition\\atlas_dione_objectdetection\\ATLAS_Dione_ObjectDetection\\ATLAS_Dione_ObjectDetection_Study_ActionClips\\ATLAS_Dione_ObjectDetection_Study_ActionClips\\set12\\set12V010.mkv: 224x224 set11 0.95, set07 0.04, set09 0.00, set02 0.00, set03 0.00, 20.7ms\n",
      "video 1/1 (frame 162/244) C:\\Users\\Informatica_UNICAM\\Desktop\\csd\\activity-recognition\\atlas_dione_objectdetection\\ATLAS_Dione_ObjectDetection\\ATLAS_Dione_ObjectDetection_Study_ActionClips\\ATLAS_Dione_ObjectDetection_Study_ActionClips\\set12\\set12V010.mkv: 224x224 set11 0.97, set07 0.03, set09 0.00, set02 0.00, set03 0.00, 0.0ms\n",
      "video 1/1 (frame 163/244) C:\\Users\\Informatica_UNICAM\\Desktop\\csd\\activity-recognition\\atlas_dione_objectdetection\\ATLAS_Dione_ObjectDetection\\ATLAS_Dione_ObjectDetection_Study_ActionClips\\ATLAS_Dione_ObjectDetection_Study_ActionClips\\set12\\set12V010.mkv: 224x224 set11 0.97, set07 0.03, set09 0.00, set02 0.00, set08 0.00, 27.6ms\n",
      "video 1/1 (frame 164/244) C:\\Users\\Informatica_UNICAM\\Desktop\\csd\\activity-recognition\\atlas_dione_objectdetection\\ATLAS_Dione_ObjectDetection\\ATLAS_Dione_ObjectDetection_Study_ActionClips\\ATLAS_Dione_ObjectDetection_Study_ActionClips\\set12\\set12V010.mkv: 224x224 set11 0.99, set07 0.01, set09 0.00, set02 0.00, set04 0.00, 7.4ms\n",
      "video 1/1 (frame 165/244) C:\\Users\\Informatica_UNICAM\\Desktop\\csd\\activity-recognition\\atlas_dione_objectdetection\\ATLAS_Dione_ObjectDetection\\ATLAS_Dione_ObjectDetection_Study_ActionClips\\ATLAS_Dione_ObjectDetection_Study_ActionClips\\set12\\set12V010.mkv: 224x224 set11 0.99, set07 0.01, set09 0.00, set02 0.00, set10 0.00, 20.6ms\n",
      "video 1/1 (frame 166/244) C:\\Users\\Informatica_UNICAM\\Desktop\\csd\\activity-recognition\\atlas_dione_objectdetection\\ATLAS_Dione_ObjectDetection\\ATLAS_Dione_ObjectDetection_Study_ActionClips\\ATLAS_Dione_ObjectDetection_Study_ActionClips\\set12\\set12V010.mkv: 224x224 set11 0.99, set07 0.01, set09 0.00, set02 0.00, set10 0.00, 2.9ms\n",
      "video 1/1 (frame 167/244) C:\\Users\\Informatica_UNICAM\\Desktop\\csd\\activity-recognition\\atlas_dione_objectdetection\\ATLAS_Dione_ObjectDetection\\ATLAS_Dione_ObjectDetection_Study_ActionClips\\ATLAS_Dione_ObjectDetection_Study_ActionClips\\set12\\set12V010.mkv: 224x224 set11 0.98, set07 0.02, set09 0.00, set02 0.00, set04 0.00, 8.0ms\n",
      "video 1/1 (frame 168/244) C:\\Users\\Informatica_UNICAM\\Desktop\\csd\\activity-recognition\\atlas_dione_objectdetection\\ATLAS_Dione_ObjectDetection\\ATLAS_Dione_ObjectDetection_Study_ActionClips\\ATLAS_Dione_ObjectDetection_Study_ActionClips\\set12\\set12V010.mkv: 224x224 set11 0.99, set07 0.01, set09 0.00, set02 0.00, set08 0.00, 10.7ms\n",
      "video 1/1 (frame 169/244) C:\\Users\\Informatica_UNICAM\\Desktop\\csd\\activity-recognition\\atlas_dione_objectdetection\\ATLAS_Dione_ObjectDetection\\ATLAS_Dione_ObjectDetection_Study_ActionClips\\ATLAS_Dione_ObjectDetection_Study_ActionClips\\set12\\set12V010.mkv: 224x224 set11 0.99, set07 0.01, set09 0.00, set02 0.00, set04 0.00, 0.0ms\n",
      "video 1/1 (frame 170/244) C:\\Users\\Informatica_UNICAM\\Desktop\\csd\\activity-recognition\\atlas_dione_objectdetection\\ATLAS_Dione_ObjectDetection\\ATLAS_Dione_ObjectDetection_Study_ActionClips\\ATLAS_Dione_ObjectDetection_Study_ActionClips\\set12\\set12V010.mkv: 224x224 set11 0.99, set07 0.01, set09 0.00, set02 0.00, set08 0.00, 0.0ms\n",
      "video 1/1 (frame 171/244) C:\\Users\\Informatica_UNICAM\\Desktop\\csd\\activity-recognition\\atlas_dione_objectdetection\\ATLAS_Dione_ObjectDetection\\ATLAS_Dione_ObjectDetection_Study_ActionClips\\ATLAS_Dione_ObjectDetection_Study_ActionClips\\set12\\set12V010.mkv: 224x224 set11 0.99, set07 0.01, set09 0.00, set02 0.00, set04 0.00, 0.0ms\n",
      "video 1/1 (frame 172/244) C:\\Users\\Informatica_UNICAM\\Desktop\\csd\\activity-recognition\\atlas_dione_objectdetection\\ATLAS_Dione_ObjectDetection\\ATLAS_Dione_ObjectDetection_Study_ActionClips\\ATLAS_Dione_ObjectDetection_Study_ActionClips\\set12\\set12V010.mkv: 224x224 set11 0.99, set07 0.01, set09 0.00, set02 0.00, set04 0.00, 0.0ms\n",
      "video 1/1 (frame 173/244) C:\\Users\\Informatica_UNICAM\\Desktop\\csd\\activity-recognition\\atlas_dione_objectdetection\\ATLAS_Dione_ObjectDetection\\ATLAS_Dione_ObjectDetection_Study_ActionClips\\ATLAS_Dione_ObjectDetection_Study_ActionClips\\set12\\set12V010.mkv: 224x224 set11 0.99, set07 0.00, set09 0.00, set02 0.00, set04 0.00, 12.5ms\n",
      "video 1/1 (frame 174/244) C:\\Users\\Informatica_UNICAM\\Desktop\\csd\\activity-recognition\\atlas_dione_objectdetection\\ATLAS_Dione_ObjectDetection\\ATLAS_Dione_ObjectDetection_Study_ActionClips\\ATLAS_Dione_ObjectDetection_Study_ActionClips\\set12\\set12V010.mkv: 224x224 set11 0.99, set07 0.01, set09 0.00, set02 0.00, set04 0.00, 16.4ms\n",
      "video 1/1 (frame 175/244) C:\\Users\\Informatica_UNICAM\\Desktop\\csd\\activity-recognition\\atlas_dione_objectdetection\\ATLAS_Dione_ObjectDetection\\ATLAS_Dione_ObjectDetection_Study_ActionClips\\ATLAS_Dione_ObjectDetection_Study_ActionClips\\set12\\set12V010.mkv: 224x224 set11 1.00, set07 0.00, set09 0.00, set02 0.00, set04 0.00, 10.0ms\n",
      "video 1/1 (frame 176/244) C:\\Users\\Informatica_UNICAM\\Desktop\\csd\\activity-recognition\\atlas_dione_objectdetection\\ATLAS_Dione_ObjectDetection\\ATLAS_Dione_ObjectDetection_Study_ActionClips\\ATLAS_Dione_ObjectDetection_Study_ActionClips\\set12\\set12V010.mkv: 224x224 set11 0.99, set07 0.01, set09 0.00, set02 0.00, set04 0.00, 0.0ms\n",
      "video 1/1 (frame 177/244) C:\\Users\\Informatica_UNICAM\\Desktop\\csd\\activity-recognition\\atlas_dione_objectdetection\\ATLAS_Dione_ObjectDetection\\ATLAS_Dione_ObjectDetection_Study_ActionClips\\ATLAS_Dione_ObjectDetection_Study_ActionClips\\set12\\set12V010.mkv: 224x224 set11 0.99, set07 0.01, set09 0.00, set02 0.00, set04 0.00, 14.9ms\n",
      "video 1/1 (frame 178/244) C:\\Users\\Informatica_UNICAM\\Desktop\\csd\\activity-recognition\\atlas_dione_objectdetection\\ATLAS_Dione_ObjectDetection\\ATLAS_Dione_ObjectDetection_Study_ActionClips\\ATLAS_Dione_ObjectDetection_Study_ActionClips\\set12\\set12V010.mkv: 224x224 set11 0.99, set07 0.01, set09 0.00, set02 0.00, set04 0.00, 13.0ms\n",
      "video 1/1 (frame 179/244) C:\\Users\\Informatica_UNICAM\\Desktop\\csd\\activity-recognition\\atlas_dione_objectdetection\\ATLAS_Dione_ObjectDetection\\ATLAS_Dione_ObjectDetection_Study_ActionClips\\ATLAS_Dione_ObjectDetection_Study_ActionClips\\set12\\set12V010.mkv: 224x224 set11 0.99, set07 0.00, set09 0.00, set02 0.00, set04 0.00, 12.9ms\n",
      "video 1/1 (frame 180/244) C:\\Users\\Informatica_UNICAM\\Desktop\\csd\\activity-recognition\\atlas_dione_objectdetection\\ATLAS_Dione_ObjectDetection\\ATLAS_Dione_ObjectDetection_Study_ActionClips\\ATLAS_Dione_ObjectDetection_Study_ActionClips\\set12\\set12V010.mkv: 224x224 set11 1.00, set07 0.00, set09 0.00, set04 0.00, set02 0.00, 16.3ms\n",
      "video 1/1 (frame 181/244) C:\\Users\\Informatica_UNICAM\\Desktop\\csd\\activity-recognition\\atlas_dione_objectdetection\\ATLAS_Dione_ObjectDetection\\ATLAS_Dione_ObjectDetection_Study_ActionClips\\ATLAS_Dione_ObjectDetection_Study_ActionClips\\set12\\set12V010.mkv: 224x224 set11 0.99, set07 0.01, set09 0.00, set02 0.00, set10 0.00, 20.6ms\n",
      "video 1/1 (frame 182/244) C:\\Users\\Informatica_UNICAM\\Desktop\\csd\\activity-recognition\\atlas_dione_objectdetection\\ATLAS_Dione_ObjectDetection\\ATLAS_Dione_ObjectDetection_Study_ActionClips\\ATLAS_Dione_ObjectDetection_Study_ActionClips\\set12\\set12V010.mkv: 224x224 set11 0.99, set07 0.01, set09 0.00, set02 0.00, set10 0.00, 12.2ms\n",
      "video 1/1 (frame 183/244) C:\\Users\\Informatica_UNICAM\\Desktop\\csd\\activity-recognition\\atlas_dione_objectdetection\\ATLAS_Dione_ObjectDetection\\ATLAS_Dione_ObjectDetection_Study_ActionClips\\ATLAS_Dione_ObjectDetection_Study_ActionClips\\set12\\set12V010.mkv: 224x224 set11 0.99, set07 0.01, set09 0.00, set02 0.00, set10 0.00, 0.0ms\n",
      "video 1/1 (frame 184/244) C:\\Users\\Informatica_UNICAM\\Desktop\\csd\\activity-recognition\\atlas_dione_objectdetection\\ATLAS_Dione_ObjectDetection\\ATLAS_Dione_ObjectDetection_Study_ActionClips\\ATLAS_Dione_ObjectDetection_Study_ActionClips\\set12\\set12V010.mkv: 224x224 set11 0.99, set07 0.01, set09 0.00, set02 0.00, set10 0.00, 0.0ms\n",
      "video 1/1 (frame 185/244) C:\\Users\\Informatica_UNICAM\\Desktop\\csd\\activity-recognition\\atlas_dione_objectdetection\\ATLAS_Dione_ObjectDetection\\ATLAS_Dione_ObjectDetection_Study_ActionClips\\ATLAS_Dione_ObjectDetection_Study_ActionClips\\set12\\set12V010.mkv: 224x224 set11 0.99, set07 0.01, set09 0.00, set02 0.00, set10 0.00, 8.0ms\n",
      "video 1/1 (frame 186/244) C:\\Users\\Informatica_UNICAM\\Desktop\\csd\\activity-recognition\\atlas_dione_objectdetection\\ATLAS_Dione_ObjectDetection\\ATLAS_Dione_ObjectDetection_Study_ActionClips\\ATLAS_Dione_ObjectDetection_Study_ActionClips\\set12\\set12V010.mkv: 224x224 set11 0.99, set07 0.01, set09 0.00, set02 0.00, set10 0.00, 0.0ms\n",
      "video 1/1 (frame 187/244) C:\\Users\\Informatica_UNICAM\\Desktop\\csd\\activity-recognition\\atlas_dione_objectdetection\\ATLAS_Dione_ObjectDetection\\ATLAS_Dione_ObjectDetection_Study_ActionClips\\ATLAS_Dione_ObjectDetection_Study_ActionClips\\set12\\set12V010.mkv: 224x224 set11 0.99, set07 0.01, set09 0.00, set02 0.00, set10 0.00, 11.1ms\n",
      "video 1/1 (frame 188/244) C:\\Users\\Informatica_UNICAM\\Desktop\\csd\\activity-recognition\\atlas_dione_objectdetection\\ATLAS_Dione_ObjectDetection\\ATLAS_Dione_ObjectDetection_Study_ActionClips\\ATLAS_Dione_ObjectDetection_Study_ActionClips\\set12\\set12V010.mkv: 224x224 set11 0.99, set07 0.01, set09 0.00, set10 0.00, set02 0.00, 21.0ms\n",
      "video 1/1 (frame 189/244) C:\\Users\\Informatica_UNICAM\\Desktop\\csd\\activity-recognition\\atlas_dione_objectdetection\\ATLAS_Dione_ObjectDetection\\ATLAS_Dione_ObjectDetection_Study_ActionClips\\ATLAS_Dione_ObjectDetection_Study_ActionClips\\set12\\set12V010.mkv: 224x224 set11 0.99, set07 0.01, set09 0.00, set02 0.00, set10 0.00, 21.1ms\n",
      "video 1/1 (frame 190/244) C:\\Users\\Informatica_UNICAM\\Desktop\\csd\\activity-recognition\\atlas_dione_objectdetection\\ATLAS_Dione_ObjectDetection\\ATLAS_Dione_ObjectDetection_Study_ActionClips\\ATLAS_Dione_ObjectDetection_Study_ActionClips\\set12\\set12V010.mkv: 224x224 set11 0.99, set07 0.01, set09 0.00, set02 0.00, set10 0.00, 3.3ms\n",
      "video 1/1 (frame 191/244) C:\\Users\\Informatica_UNICAM\\Desktop\\csd\\activity-recognition\\atlas_dione_objectdetection\\ATLAS_Dione_ObjectDetection\\ATLAS_Dione_ObjectDetection_Study_ActionClips\\ATLAS_Dione_ObjectDetection_Study_ActionClips\\set12\\set12V010.mkv: 224x224 set11 0.99, set07 0.01, set09 0.00, set02 0.00, set10 0.00, 14.6ms\n",
      "video 1/1 (frame 192/244) C:\\Users\\Informatica_UNICAM\\Desktop\\csd\\activity-recognition\\atlas_dione_objectdetection\\ATLAS_Dione_ObjectDetection\\ATLAS_Dione_ObjectDetection_Study_ActionClips\\ATLAS_Dione_ObjectDetection_Study_ActionClips\\set12\\set12V010.mkv: 224x224 set11 0.98, set07 0.02, set09 0.00, set02 0.00, set10 0.00, 16.6ms\n",
      "video 1/1 (frame 193/244) C:\\Users\\Informatica_UNICAM\\Desktop\\csd\\activity-recognition\\atlas_dione_objectdetection\\ATLAS_Dione_ObjectDetection\\ATLAS_Dione_ObjectDetection_Study_ActionClips\\ATLAS_Dione_ObjectDetection_Study_ActionClips\\set12\\set12V010.mkv: 224x224 set11 0.99, set07 0.01, set09 0.00, set02 0.00, set10 0.00, 3.5ms\n",
      "video 1/1 (frame 194/244) C:\\Users\\Informatica_UNICAM\\Desktop\\csd\\activity-recognition\\atlas_dione_objectdetection\\ATLAS_Dione_ObjectDetection\\ATLAS_Dione_ObjectDetection_Study_ActionClips\\ATLAS_Dione_ObjectDetection_Study_ActionClips\\set12\\set12V010.mkv: 224x224 set11 0.97, set07 0.03, set09 0.00, set02 0.00, set08 0.00, 12.5ms\n",
      "video 1/1 (frame 195/244) C:\\Users\\Informatica_UNICAM\\Desktop\\csd\\activity-recognition\\atlas_dione_objectdetection\\ATLAS_Dione_ObjectDetection\\ATLAS_Dione_ObjectDetection_Study_ActionClips\\ATLAS_Dione_ObjectDetection_Study_ActionClips\\set12\\set12V010.mkv: 224x224 set11 0.99, set07 0.01, set09 0.00, set02 0.00, set08 0.00, 14.7ms\n",
      "video 1/1 (frame 196/244) C:\\Users\\Informatica_UNICAM\\Desktop\\csd\\activity-recognition\\atlas_dione_objectdetection\\ATLAS_Dione_ObjectDetection\\ATLAS_Dione_ObjectDetection_Study_ActionClips\\ATLAS_Dione_ObjectDetection_Study_ActionClips\\set12\\set12V010.mkv: 224x224 set11 0.99, set07 0.01, set09 0.00, set02 0.00, set04 0.00, 10.4ms\n",
      "video 1/1 (frame 197/244) C:\\Users\\Informatica_UNICAM\\Desktop\\csd\\activity-recognition\\atlas_dione_objectdetection\\ATLAS_Dione_ObjectDetection\\ATLAS_Dione_ObjectDetection_Study_ActionClips\\ATLAS_Dione_ObjectDetection_Study_ActionClips\\set12\\set12V010.mkv: 224x224 set11 0.99, set07 0.01, set09 0.00, set02 0.00, set04 0.00, 14.1ms\n",
      "video 1/1 (frame 198/244) C:\\Users\\Informatica_UNICAM\\Desktop\\csd\\activity-recognition\\atlas_dione_objectdetection\\ATLAS_Dione_ObjectDetection\\ATLAS_Dione_ObjectDetection_Study_ActionClips\\ATLAS_Dione_ObjectDetection_Study_ActionClips\\set12\\set12V010.mkv: 224x224 set11 0.97, set07 0.02, set09 0.00, set02 0.00, set08 0.00, 14.3ms\n",
      "video 1/1 (frame 199/244) C:\\Users\\Informatica_UNICAM\\Desktop\\csd\\activity-recognition\\atlas_dione_objectdetection\\ATLAS_Dione_ObjectDetection\\ATLAS_Dione_ObjectDetection_Study_ActionClips\\ATLAS_Dione_ObjectDetection_Study_ActionClips\\set12\\set12V010.mkv: 224x224 set11 0.99, set07 0.01, set09 0.00, set04 0.00, set08 0.00, 8.9ms\n",
      "video 1/1 (frame 200/244) C:\\Users\\Informatica_UNICAM\\Desktop\\csd\\activity-recognition\\atlas_dione_objectdetection\\ATLAS_Dione_ObjectDetection\\ATLAS_Dione_ObjectDetection_Study_ActionClips\\ATLAS_Dione_ObjectDetection_Study_ActionClips\\set12\\set12V010.mkv: 224x224 set11 0.98, set07 0.02, set09 0.00, set02 0.00, set04 0.00, 18.3ms\n",
      "video 1/1 (frame 201/244) C:\\Users\\Informatica_UNICAM\\Desktop\\csd\\activity-recognition\\atlas_dione_objectdetection\\ATLAS_Dione_ObjectDetection\\ATLAS_Dione_ObjectDetection_Study_ActionClips\\ATLAS_Dione_ObjectDetection_Study_ActionClips\\set12\\set12V010.mkv: 224x224 set11 0.97, set07 0.02, set09 0.00, set02 0.00, set04 0.00, 14.5ms\n",
      "video 1/1 (frame 202/244) C:\\Users\\Informatica_UNICAM\\Desktop\\csd\\activity-recognition\\atlas_dione_objectdetection\\ATLAS_Dione_ObjectDetection\\ATLAS_Dione_ObjectDetection_Study_ActionClips\\ATLAS_Dione_ObjectDetection_Study_ActionClips\\set12\\set12V010.mkv: 224x224 set11 0.97, set07 0.03, set09 0.00, set02 0.00, set08 0.00, 17.7ms\n",
      "video 1/1 (frame 203/244) C:\\Users\\Informatica_UNICAM\\Desktop\\csd\\activity-recognition\\atlas_dione_objectdetection\\ATLAS_Dione_ObjectDetection\\ATLAS_Dione_ObjectDetection_Study_ActionClips\\ATLAS_Dione_ObjectDetection_Study_ActionClips\\set12\\set12V010.mkv: 224x224 set11 0.96, set07 0.04, set09 0.00, set02 0.00, set10 0.00, 0.0ms\n",
      "video 1/1 (frame 204/244) C:\\Users\\Informatica_UNICAM\\Desktop\\csd\\activity-recognition\\atlas_dione_objectdetection\\ATLAS_Dione_ObjectDetection\\ATLAS_Dione_ObjectDetection_Study_ActionClips\\ATLAS_Dione_ObjectDetection_Study_ActionClips\\set12\\set12V010.mkv: 224x224 set11 0.94, set07 0.05, set09 0.01, set08 0.00, set10 0.00, 13.9ms\n",
      "video 1/1 (frame 205/244) C:\\Users\\Informatica_UNICAM\\Desktop\\csd\\activity-recognition\\atlas_dione_objectdetection\\ATLAS_Dione_ObjectDetection\\ATLAS_Dione_ObjectDetection_Study_ActionClips\\ATLAS_Dione_ObjectDetection_Study_ActionClips\\set12\\set12V010.mkv: 224x224 set11 0.77, set07 0.20, set09 0.03, set08 0.00, set02 0.00, 25.1ms\n",
      "video 1/1 (frame 206/244) C:\\Users\\Informatica_UNICAM\\Desktop\\csd\\activity-recognition\\atlas_dione_objectdetection\\ATLAS_Dione_ObjectDetection\\ATLAS_Dione_ObjectDetection_Study_ActionClips\\ATLAS_Dione_ObjectDetection_Study_ActionClips\\set12\\set12V010.mkv: 224x224 set11 0.81, set07 0.16, set09 0.03, set08 0.00, set02 0.00, 0.0ms\n",
      "video 1/1 (frame 207/244) C:\\Users\\Informatica_UNICAM\\Desktop\\csd\\activity-recognition\\atlas_dione_objectdetection\\ATLAS_Dione_ObjectDetection\\ATLAS_Dione_ObjectDetection_Study_ActionClips\\ATLAS_Dione_ObjectDetection_Study_ActionClips\\set12\\set12V010.mkv: 224x224 set11 0.95, set07 0.03, set09 0.02, set08 0.00, set04 0.00, 7.8ms\n",
      "video 1/1 (frame 208/244) C:\\Users\\Informatica_UNICAM\\Desktop\\csd\\activity-recognition\\atlas_dione_objectdetection\\ATLAS_Dione_ObjectDetection\\ATLAS_Dione_ObjectDetection_Study_ActionClips\\ATLAS_Dione_ObjectDetection_Study_ActionClips\\set12\\set12V010.mkv: 224x224 set11 0.88, set07 0.06, set09 0.06, set08 0.00, set04 0.00, 0.0ms\n",
      "video 1/1 (frame 209/244) C:\\Users\\Informatica_UNICAM\\Desktop\\csd\\activity-recognition\\atlas_dione_objectdetection\\ATLAS_Dione_ObjectDetection\\ATLAS_Dione_ObjectDetection_Study_ActionClips\\ATLAS_Dione_ObjectDetection_Study_ActionClips\\set12\\set12V010.mkv: 224x224 set11 0.98, set09 0.01, set07 0.01, set10 0.00, set08 0.00, 9.8ms\n",
      "video 1/1 (frame 210/244) C:\\Users\\Informatica_UNICAM\\Desktop\\csd\\activity-recognition\\atlas_dione_objectdetection\\ATLAS_Dione_ObjectDetection\\ATLAS_Dione_ObjectDetection_Study_ActionClips\\ATLAS_Dione_ObjectDetection_Study_ActionClips\\set12\\set12V010.mkv: 224x224 set11 0.96, set09 0.03, set07 0.01, set10 0.00, set08 0.00, 0.0ms\n",
      "video 1/1 (frame 211/244) C:\\Users\\Informatica_UNICAM\\Desktop\\csd\\activity-recognition\\atlas_dione_objectdetection\\ATLAS_Dione_ObjectDetection\\ATLAS_Dione_ObjectDetection_Study_ActionClips\\ATLAS_Dione_ObjectDetection_Study_ActionClips\\set12\\set12V010.mkv: 224x224 set11 0.97, set09 0.02, set07 0.01, set10 0.00, set08 0.00, 16.3ms\n",
      "video 1/1 (frame 212/244) C:\\Users\\Informatica_UNICAM\\Desktop\\csd\\activity-recognition\\atlas_dione_objectdetection\\ATLAS_Dione_ObjectDetection\\ATLAS_Dione_ObjectDetection_Study_ActionClips\\ATLAS_Dione_ObjectDetection_Study_ActionClips\\set12\\set12V010.mkv: 224x224 set11 0.96, set09 0.03, set07 0.01, set10 0.00, set08 0.00, 20.4ms\n",
      "video 1/1 (frame 213/244) C:\\Users\\Informatica_UNICAM\\Desktop\\csd\\activity-recognition\\atlas_dione_objectdetection\\ATLAS_Dione_ObjectDetection\\ATLAS_Dione_ObjectDetection_Study_ActionClips\\ATLAS_Dione_ObjectDetection_Study_ActionClips\\set12\\set12V010.mkv: 224x224 set11 0.96, set09 0.03, set07 0.01, set08 0.00, set10 0.00, 0.0ms\n",
      "video 1/1 (frame 214/244) C:\\Users\\Informatica_UNICAM\\Desktop\\csd\\activity-recognition\\atlas_dione_objectdetection\\ATLAS_Dione_ObjectDetection\\ATLAS_Dione_ObjectDetection_Study_ActionClips\\ATLAS_Dione_ObjectDetection_Study_ActionClips\\set12\\set12V010.mkv: 224x224 set11 0.99, set09 0.01, set07 0.00, set10 0.00, set08 0.00, 10.1ms\n",
      "video 1/1 (frame 215/244) C:\\Users\\Informatica_UNICAM\\Desktop\\csd\\activity-recognition\\atlas_dione_objectdetection\\ATLAS_Dione_ObjectDetection\\ATLAS_Dione_ObjectDetection_Study_ActionClips\\ATLAS_Dione_ObjectDetection_Study_ActionClips\\set12\\set12V010.mkv: 224x224 set11 0.99, set09 0.00, set07 0.00, set10 0.00, set08 0.00, 0.0ms\n",
      "video 1/1 (frame 216/244) C:\\Users\\Informatica_UNICAM\\Desktop\\csd\\activity-recognition\\atlas_dione_objectdetection\\ATLAS_Dione_ObjectDetection\\ATLAS_Dione_ObjectDetection_Study_ActionClips\\ATLAS_Dione_ObjectDetection_Study_ActionClips\\set12\\set12V010.mkv: 224x224 set11 0.99, set09 0.01, set07 0.00, set10 0.00, set08 0.00, 8.5ms\n",
      "video 1/1 (frame 217/244) C:\\Users\\Informatica_UNICAM\\Desktop\\csd\\activity-recognition\\atlas_dione_objectdetection\\ATLAS_Dione_ObjectDetection\\ATLAS_Dione_ObjectDetection_Study_ActionClips\\ATLAS_Dione_ObjectDetection_Study_ActionClips\\set12\\set12V010.mkv: 224x224 set11 0.99, set09 0.01, set07 0.00, set10 0.00, set08 0.00, 0.0ms\n",
      "video 1/1 (frame 218/244) C:\\Users\\Informatica_UNICAM\\Desktop\\csd\\activity-recognition\\atlas_dione_objectdetection\\ATLAS_Dione_ObjectDetection\\ATLAS_Dione_ObjectDetection_Study_ActionClips\\ATLAS_Dione_ObjectDetection_Study_ActionClips\\set12\\set12V010.mkv: 224x224 set11 0.99, set09 0.01, set10 0.00, set07 0.00, set08 0.00, 8.1ms\n",
      "video 1/1 (frame 219/244) C:\\Users\\Informatica_UNICAM\\Desktop\\csd\\activity-recognition\\atlas_dione_objectdetection\\ATLAS_Dione_ObjectDetection\\ATLAS_Dione_ObjectDetection_Study_ActionClips\\ATLAS_Dione_ObjectDetection_Study_ActionClips\\set12\\set12V010.mkv: 224x224 set11 0.99, set09 0.01, set10 0.00, set07 0.00, set08 0.00, 0.0ms\n",
      "video 1/1 (frame 220/244) C:\\Users\\Informatica_UNICAM\\Desktop\\csd\\activity-recognition\\atlas_dione_objectdetection\\ATLAS_Dione_ObjectDetection\\ATLAS_Dione_ObjectDetection_Study_ActionClips\\ATLAS_Dione_ObjectDetection_Study_ActionClips\\set12\\set12V010.mkv: 224x224 set11 1.00, set10 0.00, set09 0.00, set08 0.00, set07 0.00, 0.0ms\n",
      "video 1/1 (frame 221/244) C:\\Users\\Informatica_UNICAM\\Desktop\\csd\\activity-recognition\\atlas_dione_objectdetection\\ATLAS_Dione_ObjectDetection\\ATLAS_Dione_ObjectDetection_Study_ActionClips\\ATLAS_Dione_ObjectDetection_Study_ActionClips\\set12\\set12V010.mkv: 224x224 set11 1.00, set10 0.00, set09 0.00, set07 0.00, set08 0.00, 8.9ms\n",
      "video 1/1 (frame 222/244) C:\\Users\\Informatica_UNICAM\\Desktop\\csd\\activity-recognition\\atlas_dione_objectdetection\\ATLAS_Dione_ObjectDetection\\ATLAS_Dione_ObjectDetection_Study_ActionClips\\ATLAS_Dione_ObjectDetection_Study_ActionClips\\set12\\set12V010.mkv: 224x224 set11 1.00, set10 0.00, set09 0.00, set08 0.00, set07 0.00, 10.0ms\n",
      "video 1/1 (frame 223/244) C:\\Users\\Informatica_UNICAM\\Desktop\\csd\\activity-recognition\\atlas_dione_objectdetection\\ATLAS_Dione_ObjectDetection\\ATLAS_Dione_ObjectDetection_Study_ActionClips\\ATLAS_Dione_ObjectDetection_Study_ActionClips\\set12\\set12V010.mkv: 224x224 set11 1.00, set09 0.00, set10 0.00, set08 0.00, set07 0.00, 0.0ms\n",
      "video 1/1 (frame 224/244) C:\\Users\\Informatica_UNICAM\\Desktop\\csd\\activity-recognition\\atlas_dione_objectdetection\\ATLAS_Dione_ObjectDetection\\ATLAS_Dione_ObjectDetection_Study_ActionClips\\ATLAS_Dione_ObjectDetection_Study_ActionClips\\set12\\set12V010.mkv: 224x224 set11 1.00, set09 0.00, set10 0.00, set08 0.00, set04 0.00, 0.0ms\n",
      "video 1/1 (frame 225/244) C:\\Users\\Informatica_UNICAM\\Desktop\\csd\\activity-recognition\\atlas_dione_objectdetection\\ATLAS_Dione_ObjectDetection\\ATLAS_Dione_ObjectDetection_Study_ActionClips\\ATLAS_Dione_ObjectDetection_Study_ActionClips\\set12\\set12V010.mkv: 224x224 set11 1.00, set09 0.00, set04 0.00, set07 0.00, set08 0.00, 9.0ms\n",
      "video 1/1 (frame 226/244) C:\\Users\\Informatica_UNICAM\\Desktop\\csd\\activity-recognition\\atlas_dione_objectdetection\\ATLAS_Dione_ObjectDetection\\ATLAS_Dione_ObjectDetection_Study_ActionClips\\ATLAS_Dione_ObjectDetection_Study_ActionClips\\set12\\set12V010.mkv: 224x224 set11 1.00, set09 0.00, set10 0.00, set07 0.00, set08 0.00, 0.0ms\n",
      "video 1/1 (frame 227/244) C:\\Users\\Informatica_UNICAM\\Desktop\\csd\\activity-recognition\\atlas_dione_objectdetection\\ATLAS_Dione_ObjectDetection\\ATLAS_Dione_ObjectDetection_Study_ActionClips\\ATLAS_Dione_ObjectDetection_Study_ActionClips\\set12\\set12V010.mkv: 224x224 set11 1.00, set09 0.00, set10 0.00, set07 0.00, set08 0.00, 13.2ms\n",
      "video 1/1 (frame 228/244) C:\\Users\\Informatica_UNICAM\\Desktop\\csd\\activity-recognition\\atlas_dione_objectdetection\\ATLAS_Dione_ObjectDetection\\ATLAS_Dione_ObjectDetection_Study_ActionClips\\ATLAS_Dione_ObjectDetection_Study_ActionClips\\set12\\set12V010.mkv: 224x224 set11 1.00, set09 0.00, set07 0.00, set08 0.00, set04 0.00, 22.9ms\n",
      "video 1/1 (frame 229/244) C:\\Users\\Informatica_UNICAM\\Desktop\\csd\\activity-recognition\\atlas_dione_objectdetection\\ATLAS_Dione_ObjectDetection\\ATLAS_Dione_ObjectDetection_Study_ActionClips\\ATLAS_Dione_ObjectDetection_Study_ActionClips\\set12\\set12V010.mkv: 224x224 set11 1.00, set09 0.00, set07 0.00, set04 0.00, set08 0.00, 0.0ms\n",
      "video 1/1 (frame 230/244) C:\\Users\\Informatica_UNICAM\\Desktop\\csd\\activity-recognition\\atlas_dione_objectdetection\\ATLAS_Dione_ObjectDetection\\ATLAS_Dione_ObjectDetection_Study_ActionClips\\ATLAS_Dione_ObjectDetection_Study_ActionClips\\set12\\set12V010.mkv: 224x224 set11 1.00, set09 0.00, set04 0.00, set07 0.00, set08 0.00, 0.0ms\n",
      "video 1/1 (frame 231/244) C:\\Users\\Informatica_UNICAM\\Desktop\\csd\\activity-recognition\\atlas_dione_objectdetection\\ATLAS_Dione_ObjectDetection\\ATLAS_Dione_ObjectDetection_Study_ActionClips\\ATLAS_Dione_ObjectDetection_Study_ActionClips\\set12\\set12V010.mkv: 224x224 set11 0.99, set09 0.01, set04 0.00, set08 0.00, set07 0.00, 11.4ms\n",
      "video 1/1 (frame 232/244) C:\\Users\\Informatica_UNICAM\\Desktop\\csd\\activity-recognition\\atlas_dione_objectdetection\\ATLAS_Dione_ObjectDetection\\ATLAS_Dione_ObjectDetection_Study_ActionClips\\ATLAS_Dione_ObjectDetection_Study_ActionClips\\set12\\set12V010.mkv: 224x224 set11 0.97, set09 0.03, set07 0.00, set04 0.00, set10 0.00, 16.1ms\n",
      "video 1/1 (frame 233/244) C:\\Users\\Informatica_UNICAM\\Desktop\\csd\\activity-recognition\\atlas_dione_objectdetection\\ATLAS_Dione_ObjectDetection\\ATLAS_Dione_ObjectDetection_Study_ActionClips\\ATLAS_Dione_ObjectDetection_Study_ActionClips\\set12\\set12V010.mkv: 224x224 set11 0.92, set09 0.07, set07 0.00, set10 0.00, set08 0.00, 15.5ms\n",
      "video 1/1 (frame 234/244) C:\\Users\\Informatica_UNICAM\\Desktop\\csd\\activity-recognition\\atlas_dione_objectdetection\\ATLAS_Dione_ObjectDetection\\ATLAS_Dione_ObjectDetection_Study_ActionClips\\ATLAS_Dione_ObjectDetection_Study_ActionClips\\set12\\set12V010.mkv: 224x224 set11 0.83, set09 0.16, set07 0.00, set08 0.00, set04 0.00, 2.3ms\n",
      "video 1/1 (frame 235/244) C:\\Users\\Informatica_UNICAM\\Desktop\\csd\\activity-recognition\\atlas_dione_objectdetection\\ATLAS_Dione_ObjectDetection\\ATLAS_Dione_ObjectDetection_Study_ActionClips\\ATLAS_Dione_ObjectDetection_Study_ActionClips\\set12\\set12V010.mkv: 224x224 set11 0.92, set09 0.07, set07 0.00, set08 0.00, set04 0.00, 0.0ms\n",
      "video 1/1 (frame 236/244) C:\\Users\\Informatica_UNICAM\\Desktop\\csd\\activity-recognition\\atlas_dione_objectdetection\\ATLAS_Dione_ObjectDetection\\ATLAS_Dione_ObjectDetection_Study_ActionClips\\ATLAS_Dione_ObjectDetection_Study_ActionClips\\set12\\set12V010.mkv: 224x224 set11 0.89, set09 0.11, set07 0.00, set08 0.00, set04 0.00, 9.0ms\n",
      "video 1/1 (frame 237/244) C:\\Users\\Informatica_UNICAM\\Desktop\\csd\\activity-recognition\\atlas_dione_objectdetection\\ATLAS_Dione_ObjectDetection\\ATLAS_Dione_ObjectDetection_Study_ActionClips\\ATLAS_Dione_ObjectDetection_Study_ActionClips\\set12\\set12V010.mkv: 224x224 set11 0.94, set09 0.06, set07 0.00, set08 0.00, set04 0.00, 0.0ms\n",
      "video 1/1 (frame 238/244) C:\\Users\\Informatica_UNICAM\\Desktop\\csd\\activity-recognition\\atlas_dione_objectdetection\\ATLAS_Dione_ObjectDetection\\ATLAS_Dione_ObjectDetection_Study_ActionClips\\ATLAS_Dione_ObjectDetection_Study_ActionClips\\set12\\set12V010.mkv: 224x224 set11 0.95, set09 0.04, set07 0.01, set04 0.00, set08 0.00, 0.0ms\n",
      "video 1/1 (frame 239/244) C:\\Users\\Informatica_UNICAM\\Desktop\\csd\\activity-recognition\\atlas_dione_objectdetection\\ATLAS_Dione_ObjectDetection\\ATLAS_Dione_ObjectDetection_Study_ActionClips\\ATLAS_Dione_ObjectDetection_Study_ActionClips\\set12\\set12V010.mkv: 224x224 set11 0.98, set09 0.02, set07 0.00, set04 0.00, set08 0.00, 14.6ms\n",
      "video 1/1 (frame 240/244) C:\\Users\\Informatica_UNICAM\\Desktop\\csd\\activity-recognition\\atlas_dione_objectdetection\\ATLAS_Dione_ObjectDetection\\ATLAS_Dione_ObjectDetection_Study_ActionClips\\ATLAS_Dione_ObjectDetection_Study_ActionClips\\set12\\set12V010.mkv: 224x224 set11 0.98, set09 0.01, set07 0.00, set08 0.00, set04 0.00, 11.7ms\n",
      "video 1/1 (frame 241/244) C:\\Users\\Informatica_UNICAM\\Desktop\\csd\\activity-recognition\\atlas_dione_objectdetection\\ATLAS_Dione_ObjectDetection\\ATLAS_Dione_ObjectDetection_Study_ActionClips\\ATLAS_Dione_ObjectDetection_Study_ActionClips\\set12\\set12V010.mkv: 224x224 set11 0.96, set09 0.04, set07 0.00, set08 0.00, set10 0.00, 0.0ms\n",
      "video 1/1 (frame 242/244) C:\\Users\\Informatica_UNICAM\\Desktop\\csd\\activity-recognition\\atlas_dione_objectdetection\\ATLAS_Dione_ObjectDetection\\ATLAS_Dione_ObjectDetection_Study_ActionClips\\ATLAS_Dione_ObjectDetection_Study_ActionClips\\set12\\set12V010.mkv: 224x224 set11 0.95, set09 0.04, set07 0.01, set08 0.00, set10 0.00, 0.0ms\n",
      "video 1/1 (frame 243/244) C:\\Users\\Informatica_UNICAM\\Desktop\\csd\\activity-recognition\\atlas_dione_objectdetection\\ATLAS_Dione_ObjectDetection\\ATLAS_Dione_ObjectDetection_Study_ActionClips\\ATLAS_Dione_ObjectDetection_Study_ActionClips\\set12\\set12V010.mkv: 224x224 set11 0.85, set09 0.11, set07 0.02, set08 0.01, set04 0.00, 7.7ms\n",
      "video 1/1 (frame 244/244) C:\\Users\\Informatica_UNICAM\\Desktop\\csd\\activity-recognition\\atlas_dione_objectdetection\\ATLAS_Dione_ObjectDetection\\ATLAS_Dione_ObjectDetection_Study_ActionClips\\ATLAS_Dione_ObjectDetection_Study_ActionClips\\set12\\set12V010.mkv: 224x224 set11 0.87, set09 0.10, set07 0.02, set08 0.00, set04 0.00, 0.0ms\n",
      "Speed: 4.7ms preprocess, 10.0ms inference, 0.4ms postprocess per image at shape (1, 3, 224, 224)\n"
     ]
    }
   ],
   "source": [
    "model = YOLO (\"C:/Users/Informatica_UNICAM/Desktop/csd/activity-recognition/runs/classify/custom_yolo4/weights/best.pt\")\n",
    "\n",
    "results = model(\"C:/Users/Informatica_UNICAM/Desktop/csd/activity-recognition/atlas_dione_objectdetection/ATLAS_Dione_ObjectDetection/ATLAS_Dione_ObjectDetection_Study_ActionClips/ATLAS_Dione_ObjectDetection_Study_ActionClips/set12/set12V010.mkv\")"
   ]
  },
  {
   "cell_type": "code",
   "execution_count": 42,
   "metadata": {},
   "outputs": [
    {
     "data": {
      "text/plain": [
       "{0: 'set00',\n",
       " 1: 'set01',\n",
       " 2: 'set02',\n",
       " 3: 'set03',\n",
       " 4: 'set04',\n",
       " 5: 'set05',\n",
       " 6: 'set06',\n",
       " 7: 'set07',\n",
       " 8: 'set08',\n",
       " 9: 'set09',\n",
       " 10: 'set10',\n",
       " 11: 'set11'}"
      ]
     },
     "execution_count": 42,
     "metadata": {},
     "output_type": "execute_result"
    }
   ],
   "source": [
    "results[0].names"
   ]
  },
  {
   "cell_type": "code",
   "execution_count": 43,
   "metadata": {},
   "outputs": [
    {
     "data": {
      "text/plain": [
       "ultralytics.engine.results.Probs object with attributes:\n",
       "\n",
       "data: tensor([4.8308e-04, 3.7911e-04, 9.5372e-04, 5.8162e-04, 1.7439e-03, 4.5551e-04, 2.3443e-04, 2.9524e-02, 2.1285e-03, 4.9720e-01, 3.2631e-04, 4.6599e-01], device='cuda:0')\n",
       "orig_shape: None\n",
       "shape: torch.Size([12])\n",
       "top1: 9\n",
       "top1conf: tensor(0.4972, device='cuda:0')\n",
       "top5: [9, 11, 7, 8, 4]\n",
       "top5conf: tensor([0.4972, 0.4660, 0.0295, 0.0021, 0.0017], device='cuda:0')"
      ]
     },
     "execution_count": 43,
     "metadata": {},
     "output_type": "execute_result"
    }
   ],
   "source": [
    "results[0].probs"
   ]
  }
 ],
 "metadata": {
  "kernelspec": {
   "display_name": "venv",
   "language": "python",
   "name": "python3"
  },
  "language_info": {
   "codemirror_mode": {
    "name": "ipython",
    "version": 3
   },
   "file_extension": ".py",
   "mimetype": "text/x-python",
   "name": "python",
   "nbconvert_exporter": "python",
   "pygments_lexer": "ipython3",
   "version": "3.10.11"
  }
 },
 "nbformat": 4,
 "nbformat_minor": 2
}
