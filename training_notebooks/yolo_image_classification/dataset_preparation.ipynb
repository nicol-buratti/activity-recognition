{
 "cells": [
  {
   "cell_type": "code",
   "execution_count": 12,
   "metadata": {},
   "outputs": [],
   "source": [
    "from pathlib import Path\n",
    "import os\n",
    "import shutil\n",
    "import cv2\n",
    "\n",
    "DATASET_ROOT = Path(\"../../atlas_dione_objectdetection/ATLAS_Dione_ObjectDetection/ATLAS_Dione_ObjectDetection_Study_ActionClips/ATLAS_Dione_ObjectDetection_Study_ActionClips\")\n",
    "YOLO_DATASET_TEST = Path(\"../../YOLO_dataset_classification/test\")\n",
    "YOLO_DATASET_TRAIN = Path(\"../../YOLO_dataset_classification/train\")\n",
    "YOLO_DATASET_VAL = Path(\"../../YOLO_dataset_classification/val\")\n",
    "if(not os.path.exists(\"../../YOLO_dataset_classification\")):\n",
    "    os.mkdir(\"../../YOLO_dataset_classification\")\n",
    "    #creation directory for yolo dataset image classification\n",
    "    os.mkdir(\"../../YOLO_dataset_classification/train\")\n",
    "    os.mkdir(\"../../YOLO_dataset_classification/test\")\n",
    "    os.mkdir(\"../../YOLO_dataset_classification/val\")"
   ]
  },
  {
   "cell_type": "code",
   "execution_count": 13,
   "metadata": {},
   "outputs": [],
   "source": [
    "def frame_video_extraction(video, output_dir):\n",
    "    cap = cv2.VideoCapture(video)\n",
    "    if not cap.isOpened():\n",
    "        print(\"Errore nell'aprire il video.\")\n",
    "        exit()\n",
    "    frame_count = 0\n",
    "    while True:\n",
    "        # Leggi il frame successivo\n",
    "        ret, frame = cap.read()\n",
    "        \n",
    "        # Se non ci sono più frame, esci dal ciclo\n",
    "        if not ret:\n",
    "            break\n",
    "        \n",
    "        # Crea il nome del file per il frame, ad esempio frame_0001.jpg\n",
    "        frame_filename = os.path.join(output_dir, f\"{video.name[:-4]}_frame_{frame_count:04d}.jpg\")\n",
    "        \n",
    "        # Salva il frame come immagine\n",
    "        cv2.imwrite(frame_filename, frame)\n",
    "        \n",
    "        frame_count += 1\n",
    "\n",
    "    # Rilascia il video quando finito\n",
    "    cap.release()"
   ]
  },
  {
   "cell_type": "code",
   "execution_count": 14,
   "metadata": {},
   "outputs": [],
   "source": [
    "mapping = {\"set00\":\"1 arm placing\",\n",
    "            \"set01\":\"2 arms placing\",\n",
    "            \"set02\":\"Placing Rings\",\n",
    "            \"set03\":\"Placing Rings 2 arms\",\n",
    "            \"set04\":\"Pull Off\",\n",
    "            \"set05\":\"Pull Through\",\n",
    "            \"set06\":\"Suture Pick Up\",\n",
    "            \"set07\":\"UVA Pick Up\",\n",
    "            \"set08\":\"Suture Pull Through\",\n",
    "            \"set09\":\"UVA Pull Through\",\n",
    "            \"set10\":\"Suture Tie\",\n",
    "            \"set11\":\"UVA Tie\",\n",
    "            }"
   ]
  },
  {
   "cell_type": "code",
   "execution_count": null,
   "metadata": {},
   "outputs": [],
   "source": [
    "directory_index = \"00\"\n",
    "total_directory = 12\n",
    "\n",
    "for i in range(0,total_directory):\n",
    "    sub_action=\"set\" + directory_index\n",
    "    directory_set_name = mapping[sub_action]\n",
    "    set_directory = os.path.join(DATASET_ROOT,directory_set_name)\n",
    "    videos = list(Path(os.path.join(DATASET_ROOT,sub_action)).glob(\"set*.mkv\"))\n",
    "\n",
    "    total_videos = len(videos)\n",
    "    train_count = int(0.8 * total_videos)\n",
    "    val_count = int(0.1 * total_videos)\n",
    "    test_count = total_videos - train_count - val_count  # This will cover the remaining 10%\n",
    "    # Make sure the counts sum up correctly, if necessar\n",
    "    if val_count == 0 and test_count > 0:\n",
    "        # If test_count is zero and val_count is greater than 0, move one video to test\n",
    "        test_count -= 1\n",
    "        val_count = 1\n",
    "\n",
    "    yolo_train_set = os.path.join(YOLO_DATASET_TRAIN, directory_set_name)\n",
    "    yolo_test_set = os.path.join(YOLO_DATASET_TEST, directory_set_name)\n",
    "    yolo_val_set = os.path.join(YOLO_DATASET_VAL, directory_set_name)\n",
    "    #create sub directory in yolo dataset\n",
    "    if((not os.path.exists(yolo_test_set)) and (not os.path.exists(yolo_train_set)) and (not os.path.exists(yolo_val_set))):\n",
    "        os.mkdir(os.path.join(YOLO_DATASET_TRAIN, directory_set_name))\n",
    "        os.mkdir(os.path.join(YOLO_DATASET_TEST, directory_set_name))\n",
    "        os.mkdir(os.path.join(YOLO_DATASET_VAL, directory_set_name))\n",
    "    \n",
    "        for video in videos[:train_count]:\n",
    "            frame_video_extraction(video, yolo_train_set)\n",
    "            #shutil.copy(video,yolo_train_set)\n",
    "        for video in videos[train_count:train_count + val_count]:\n",
    "            frame_video_extraction(video, yolo_test_set)\n",
    "\n",
    "        for video in videos[train_count + val_count:]:\n",
    "            frame_video_extraction(video, yolo_val_set)\n",
    "            #shutil.copy(video, yolo_val_set)\n",
    "\n",
    "    \n",
    "    directory_index = str(int(directory_index) + 1).zfill(2)"
   ]
  }
 ],
 "metadata": {
  "kernelspec": {
   "display_name": "venv",
   "language": "python",
   "name": "python3"
  },
  "language_info": {
   "codemirror_mode": {
    "name": "ipython",
    "version": 3
   },
   "file_extension": ".py",
   "mimetype": "text/x-python",
   "name": "python",
   "nbconvert_exporter": "python",
   "pygments_lexer": "ipython3",
   "version": "3.10.11"
  }
 },
 "nbformat": 4,
 "nbformat_minor": 2
}
